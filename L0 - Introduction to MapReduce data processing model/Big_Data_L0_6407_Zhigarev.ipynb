{
 "cells": [
  {
   "cell_type": "markdown",
   "metadata": {
    "id": "82OvPKEiEqjc"
   },
   "source": [
    "# Введение в MapReduce модель на Python\n"
   ]
  },
  {
   "cell_type": "code",
   "execution_count": 1,
   "metadata": {
    "id": "JQ2cvXLjICmI"
   },
   "outputs": [],
   "source": [
    "from typing import NamedTuple # requires python 3.6+\n",
    "from typing import Iterator\n",
    "import random"
   ]
  },
  {
   "cell_type": "code",
   "execution_count": 2,
   "metadata": {
    "id": "yjPHumVwEyEg"
   },
   "outputs": [],
   "source": [
    "def MAP(_, row:NamedTuple):\n",
    "  if (row.gender == 'female'):\n",
    "    yield (row.age, row)\n",
    "\n",
    "def REDUCE(age:str, rows:Iterator[NamedTuple]):\n",
    "  sum = 0\n",
    "  count = 0\n",
    "  for row in rows:\n",
    "    sum += row.social_contacts\n",
    "    count += 1\n",
    "  if (count > 0):\n",
    "    yield (age, sum/count)\n",
    "  else:\n",
    "    yield (age, 0)"
   ]
  },
  {
   "cell_type": "markdown",
   "metadata": {
    "id": "vBKMgpG_ilaZ"
   },
   "source": [
    "Модель элемента данных"
   ]
  },
  {
   "cell_type": "code",
   "execution_count": 3,
   "metadata": {
    "id": "Rv-XIjhTJPx3"
   },
   "outputs": [],
   "source": [
    "class User(NamedTuple):\n",
    "  id: int\n",
    "  age: str\n",
    "  social_contacts: int\n",
    "  gender: str"
   ]
  },
  {
   "cell_type": "code",
   "execution_count": 4,
   "metadata": {
    "id": "5KV0Ze2vQgu5"
   },
   "outputs": [],
   "source": [
    "input_collection = [\n",
    "    User(id=0, age=55, gender='male', social_contacts=20),\n",
    "    User(id=1, age=25, gender='female', social_contacts=240),\n",
    "    User(id=2, age=25, gender='female', social_contacts=500),\n",
    "    User(id=3, age=33, gender='female', social_contacts=800)\n",
    "]"
   ]
  },
  {
   "cell_type": "markdown",
   "metadata": {
    "id": "YFeqzyZxZIFZ"
   },
   "source": [
    "Функция RECORDREADER моделирует чтение элементов с диска или по сети."
   ]
  },
  {
   "cell_type": "code",
   "execution_count": 5,
   "metadata": {
    "id": "S5HR4E_GQoMJ"
   },
   "outputs": [],
   "source": [
    "def RECORDREADER():\n",
    "  return [(u.id, u) for u in input_collection]"
   ]
  },
  {
   "cell_type": "code",
   "execution_count": 6,
   "metadata": {
    "colab": {
     "base_uri": "https://localhost:8080/"
    },
    "id": "NeEoWla-ROUy",
    "outputId": "ff61b5b7-c88b-4917-ccbc-dc7045432a01"
   },
   "outputs": [
    {
     "data": {
      "text/plain": [
       "[(0, User(id=0, age=55, social_contacts=20, gender='male')),\n",
       " (1, User(id=1, age=25, social_contacts=240, gender='female')),\n",
       " (2, User(id=2, age=25, social_contacts=500, gender='female')),\n",
       " (3, User(id=3, age=33, social_contacts=800, gender='female'))]"
      ]
     },
     "execution_count": 6,
     "metadata": {},
     "output_type": "execute_result"
    }
   ],
   "source": [
    "list(RECORDREADER())"
   ]
  },
  {
   "cell_type": "code",
   "execution_count": 7,
   "metadata": {
    "id": "YB8orgPSZs8M"
   },
   "outputs": [],
   "source": [
    "def flatten(nested_iterable):\n",
    "  for iterable in nested_iterable:\n",
    "    for element in iterable:\n",
    "      yield element"
   ]
  },
  {
   "cell_type": "code",
   "execution_count": 8,
   "metadata": {
    "colab": {
     "base_uri": "https://localhost:8080/",
     "height": 68
    },
    "id": "74oyvDLaRmd5",
    "outputId": "c6147702-7153-47c7-a574-d5fe6abe29a8"
   },
   "outputs": [
    {
     "data": {
      "text/plain": [
       "[(25, User(id=1, age=25, social_contacts=240, gender='female')),\n",
       " (25, User(id=2, age=25, social_contacts=500, gender='female')),\n",
       " (33, User(id=3, age=33, social_contacts=800, gender='female'))]"
      ]
     },
     "execution_count": 8,
     "metadata": {},
     "output_type": "execute_result"
    }
   ],
   "source": [
    "map_output = flatten(map(lambda x: MAP(*x), RECORDREADER()))\n",
    "map_output = list(map_output) # materialize\n",
    "map_output"
   ]
  },
  {
   "cell_type": "code",
   "execution_count": 9,
   "metadata": {
    "id": "8ncYDJ3-VzDn"
   },
   "outputs": [],
   "source": [
    "def groupbykey(iterable):\n",
    "  t = {}\n",
    "  for (k2, v2) in iterable:\n",
    "    t[k2] = t.get(k2, []) + [v2]\n",
    "  return t.items()"
   ]
  },
  {
   "cell_type": "code",
   "execution_count": 10,
   "metadata": {
    "colab": {
     "base_uri": "https://localhost:8080/",
     "height": 85
    },
    "id": "cKzY_6COWOA2",
    "outputId": "e6791b12-e409-47e9-bcd4-e9f8ca8611bd"
   },
   "outputs": [
    {
     "data": {
      "text/plain": [
       "[(25,\n",
       "  [User(id=1, age=25, social_contacts=240, gender='female'),\n",
       "   User(id=2, age=25, social_contacts=500, gender='female')]),\n",
       " (33, [User(id=3, age=33, social_contacts=800, gender='female')])]"
      ]
     },
     "execution_count": 10,
     "metadata": {},
     "output_type": "execute_result"
    }
   ],
   "source": [
    "shuffle_output = groupbykey(map_output)\n",
    "shuffle_output = list(shuffle_output)\n",
    "shuffle_output"
   ]
  },
  {
   "cell_type": "code",
   "execution_count": 11,
   "metadata": {
    "colab": {
     "base_uri": "https://localhost:8080/",
     "height": 34
    },
    "id": "NlA7lkDDYL0t",
    "outputId": "6b25d03f-5c92-4f3b-f500-6d70acd598b7"
   },
   "outputs": [
    {
     "data": {
      "text/plain": [
       "[(25, 370.0), (33, 800.0)]"
      ]
     },
     "execution_count": 11,
     "metadata": {},
     "output_type": "execute_result"
    }
   ],
   "source": [
    "reduce_output = flatten(map(lambda x: REDUCE(*x), shuffle_output))\n",
    "reduce_output = list(reduce_output)\n",
    "reduce_output"
   ]
  },
  {
   "cell_type": "markdown",
   "metadata": {
    "id": "xf6qhHEtd6bI"
   },
   "source": [
    "Все действия одним конвейером!"
   ]
  },
  {
   "cell_type": "code",
   "execution_count": 12,
   "metadata": {
    "colab": {
     "base_uri": "https://localhost:8080/",
     "height": 34
    },
    "id": "dZaQGYxCdpw5",
    "outputId": "3f5c6425-e5c5-49d2-b2cd-ce58a9acc33c"
   },
   "outputs": [
    {
     "data": {
      "text/plain": [
       "[(25, 370.0), (33, 800.0)]"
      ]
     },
     "execution_count": 12,
     "metadata": {},
     "output_type": "execute_result"
    }
   ],
   "source": [
    "list(flatten(map(lambda x: REDUCE(*x), groupbykey(flatten(map(lambda x: MAP(*x), RECORDREADER()))))))"
   ]
  },
  {
   "cell_type": "markdown",
   "metadata": {
    "id": "Vq3EWRIpwSiJ"
   },
   "source": [
    "# **MapReduce**\n",
    "Выделим общую для всех пользователей часть системы в отдельную функцию высшего порядка. Это наиболее простая модель MapReduce, без учёта распределённого хранения данных.\n",
    "\n",
    "Пользователь для решения своей задачи реализует RECORDREADER, MAP, REDUCE."
   ]
  },
  {
   "cell_type": "code",
   "execution_count": 13,
   "metadata": {
    "id": "V1PZeQMwwVjc"
   },
   "outputs": [],
   "source": [
    "def flatten(nested_iterable):\n",
    "  for iterable in nested_iterable:\n",
    "    for element in iterable:\n",
    "      yield element\n",
    "\n",
    "def groupbykey(iterable):\n",
    "  t = {}\n",
    "  for (k2, v2) in iterable:\n",
    "    t[k2] = t.get(k2, []) + [v2]\n",
    "  return t.items()\n",
    "\n",
    "def MapReduce(RECORDREADER, MAP, REDUCE):\n",
    "  return flatten(map(lambda x: REDUCE(*x), groupbykey(flatten(map(lambda x: MAP(*x), RECORDREADER())))))"
   ]
  },
  {
   "cell_type": "markdown",
   "metadata": {
    "id": "iFIVrimep678"
   },
   "source": [
    "## Спецификация MapReduce\n",
    "\n",
    "\n",
    "\n",
    "```\n",
    "f (k1, v1) -> (k2,v2)*\n",
    "g (k2, v2*) -> (k3,v3)*\n",
    "\n",
    "mapreduce ((k1,v1)*) -> (k3,v3)*\n",
    "groupby ((k2,v2)*) -> (k2,v2*)*\n",
    "flatten (e2**) -> e2*\n",
    "\n",
    "mapreduce .map(f).flatten.groupby(k2).map(g).flatten\n",
    "```\n",
    "\n",
    "\n"
   ]
  },
  {
   "cell_type": "markdown",
   "metadata": {
    "id": "QtTFyqke3KGe"
   },
   "source": [
    "# Примеры"
   ]
  },
  {
   "cell_type": "markdown",
   "metadata": {
    "id": "BNhh5763w5Vn"
   },
   "source": [
    "## SQL"
   ]
  },
  {
   "cell_type": "code",
   "execution_count": 14,
   "metadata": {
    "colab": {
     "base_uri": "https://localhost:8080/",
     "height": 34
    },
    "id": "QkyurnvGxBGk",
    "outputId": "84761282-d2ba-435a-e8d7-a85150730e10"
   },
   "outputs": [
    {
     "data": {
      "text/plain": [
       "[(25, 370.0), (33, 800.0)]"
      ]
     },
     "execution_count": 14,
     "metadata": {},
     "output_type": "execute_result"
    }
   ],
   "source": [
    "from typing import NamedTuple # requires python 3.6+\n",
    "from typing import Iterator\n",
    "\n",
    "class User(NamedTuple):\n",
    "  id: int\n",
    "  age: str\n",
    "  social_contacts: int\n",
    "  gender: str\n",
    "\n",
    "input_collection = [\n",
    "    User(id=0, age=55, gender='male', social_contacts=20),\n",
    "    User(id=1, age=25, gender='female', social_contacts=240),\n",
    "    User(id=2, age=25, gender='female', social_contacts=500),\n",
    "    User(id=3, age=33, gender='female', social_contacts=800)\n",
    "]\n",
    "\n",
    "def MAP(_, row:NamedTuple):\n",
    "  if (row.gender == 'female'):\n",
    "    yield (row.age, row)\n",
    "\n",
    "def REDUCE(age:str, rows:Iterator[NamedTuple]):\n",
    "  sum = 0\n",
    "  count = 0\n",
    "  for row in rows:\n",
    "    sum += row.social_contacts\n",
    "    count += 1\n",
    "  if (count > 0):\n",
    "    yield (age, sum/count)\n",
    "  else:\n",
    "    yield (age, 0)\n",
    "\n",
    "def RECORDREADER():\n",
    "  return [(u.id, u) for u in input_collection]\n",
    "\n",
    "output = MapReduce(RECORDREADER, MAP, REDUCE)\n",
    "output = list(output)\n",
    "output"
   ]
  },
  {
   "cell_type": "markdown",
   "metadata": {
    "id": "kNKYIeerx0nY"
   },
   "source": [
    "## Matrix-Vector multiplication"
   ]
  },
  {
   "cell_type": "code",
   "execution_count": 15,
   "metadata": {
    "colab": {
     "base_uri": "https://localhost:8080/",
     "height": 102
    },
    "id": "rwcntRcCyi1V",
    "outputId": "606737ab-6b55-455c-931f-4fc45155f8a9"
   },
   "outputs": [
    {
     "data": {
      "text/plain": [
       "[(0, 1.3006989509363795),\n",
       " (1, 1.3006989509363795),\n",
       " (2, 1.3006989509363795),\n",
       " (3, 1.3006989509363795),\n",
       " (4, 1.3006989509363795)]"
      ]
     },
     "execution_count": 15,
     "metadata": {},
     "output_type": "execute_result"
    }
   ],
   "source": [
    "from typing import Iterator\n",
    "import numpy as np\n",
    "\n",
    "mat = np.ones((5,4))\n",
    "vec = np.random.rand(4) # in-memory vector in all map tasks\n",
    "\n",
    "def MAP(coordinates:(int, int), value:int):\n",
    "  i, j = coordinates\n",
    "  yield (i, value*vec[j])\n",
    "\n",
    "def REDUCE(i:int, products:Iterator[NamedTuple]):\n",
    "  sum = 0\n",
    "  for p in products:\n",
    "    sum += p\n",
    "  yield (i, sum)\n",
    "\n",
    "def RECORDREADER():\n",
    "  for i in range(mat.shape[0]):\n",
    "    for j in range(mat.shape[1]):\n",
    "      yield ((i, j), mat[i,j])\n",
    "\n",
    "output = MapReduce(RECORDREADER, MAP, REDUCE)\n",
    "output = list(output)\n",
    "output"
   ]
  },
  {
   "cell_type": "markdown",
   "metadata": {
    "id": "ruZREYdi2o4O"
   },
   "source": [
    "## Inverted index"
   ]
  },
  {
   "cell_type": "code",
   "execution_count": 16,
   "metadata": {
    "colab": {
     "base_uri": "https://localhost:8080/",
     "height": 102
    },
    "id": "vt9H9Alf3TYv",
    "outputId": "51aeffc9-e111-4607-bd84-cfcc7b56f238"
   },
   "outputs": [
    {
     "data": {
      "text/plain": [
       "[('what', ['0', '1']),\n",
       " ('it', ['0', '1', '2']),\n",
       " ('is', ['0', '1', '2']),\n",
       " ('a', ['2']),\n",
       " ('banana', ['2'])]"
      ]
     },
     "execution_count": 16,
     "metadata": {},
     "output_type": "execute_result"
    }
   ],
   "source": [
    "from typing import Iterator\n",
    "\n",
    "d1 = \"it is what it is\"\n",
    "d2 = \"what is it\"\n",
    "d3 = \"it is a banana\"\n",
    "documents = [d1, d2, d3]\n",
    "\n",
    "def RECORDREADER():\n",
    "  for (docid, document) in enumerate(documents):\n",
    "    yield (\"{}\".format(docid), document)\n",
    "\n",
    "def MAP(docId:str, body:str):\n",
    "  for word in set(body.split(' ')):\n",
    "    yield (word, docId)\n",
    "\n",
    "def REDUCE(word:str, docIds:Iterator[str]):\n",
    "  yield (word, sorted(docIds))\n",
    "\n",
    "output = MapReduce(RECORDREADER, MAP, REDUCE)\n",
    "output = list(output)\n",
    "output"
   ]
  },
  {
   "cell_type": "markdown",
   "metadata": {
    "id": "R7az-6DA6qr2"
   },
   "source": [
    "## WordCount"
   ]
  },
  {
   "cell_type": "code",
   "execution_count": 17,
   "metadata": {
    "colab": {
     "base_uri": "https://localhost:8080/",
     "height": 34
    },
    "id": "dN-nbtgG6uYG",
    "outputId": "24117576-7931-401d-a581-28e246b23453"
   },
   "outputs": [
    {
     "data": {
      "text/plain": [
       "[('', 3), ('it', 9), ('is', 9), ('what', 5), ('a', 1), ('banana', 1)]"
      ]
     },
     "execution_count": 17,
     "metadata": {},
     "output_type": "execute_result"
    }
   ],
   "source": [
    "from typing import Iterator\n",
    "\n",
    "d1 = \"\"\"\n",
    "it is what it is\n",
    "it is what it is\n",
    "it is what it is\"\"\"\n",
    "d2 = \"\"\"\n",
    "what is it\n",
    "what is it\"\"\"\n",
    "d3 = \"\"\"\n",
    "it is a banana\"\"\"\n",
    "documents = [d1, d2, d3]\n",
    "\n",
    "def RECORDREADER():\n",
    "  for (docid, document) in enumerate(documents):\n",
    "    for (lineid, line) in enumerate(document.split('\\n')):\n",
    "      yield (\"{}:{}\".format(docid,lineid), line)\n",
    "\n",
    "def MAP(docId:str, line:str):\n",
    "  for word in line.split(\" \"):\n",
    "    yield (word, 1)\n",
    "\n",
    "def REDUCE(word:str, counts:Iterator[int]):\n",
    "  sum = 0\n",
    "  for c in counts:\n",
    "    sum += c\n",
    "  yield (word, sum)\n",
    "\n",
    "output = MapReduce(RECORDREADER, MAP, REDUCE)\n",
    "output = list(output)\n",
    "output"
   ]
  },
  {
   "cell_type": "markdown",
   "metadata": {
    "id": "h-jRAcYCAkkk"
   },
   "source": [
    "# MapReduce Distributed\n",
    "\n",
    "Добавляется в модель фабрика RECORDREARER-ов --- INPUTFORMAT, функция распределения промежуточных результатов по партициям PARTITIONER, и функция COMBINER для частичной аггрегации промежуточных результатов до распределения по новым партициям."
   ]
  },
  {
   "cell_type": "code",
   "execution_count": 18,
   "metadata": {
    "id": "nw-b-xJsApgW"
   },
   "outputs": [],
   "source": [
    "def flatten(nested_iterable):\n",
    "  for iterable in nested_iterable:\n",
    "    for element in iterable:\n",
    "      yield element\n",
    "\n",
    "def groupbykey(iterable):\n",
    "  t = {}\n",
    "  for (k2, v2) in iterable:\n",
    "    t[k2] = t.get(k2, []) + [v2]\n",
    "  return t.items()\n",
    "\n",
    "def groupbykey_distributed(map_partitions, PARTITIONER):\n",
    "  global reducers\n",
    "  partitions = [dict() for _ in range(reducers)]\n",
    "  for map_partition in map_partitions:\n",
    "    for (k2, v2) in map_partition:\n",
    "      p = partitions[PARTITIONER(k2)]\n",
    "      p[k2] = p.get(k2, []) + [v2]\n",
    "  return [(partition_id, sorted(partition.items(), key=lambda x: x[0])) for (partition_id, partition) in enumerate(partitions)]\n",
    "\n",
    "def PARTITIONER(obj):\n",
    "  global reducers\n",
    "  return hash(obj) % reducers\n",
    "\n",
    "def MapReduceDistributed(INPUTFORMAT, MAP, REDUCE, PARTITIONER=PARTITIONER, COMBINER=None):\n",
    "  map_partitions = map(lambda record_reader: flatten(map(lambda k1v1: MAP(*k1v1), record_reader)), INPUTFORMAT())\n",
    "  if COMBINER != None:\n",
    "    map_partitions = map(lambda map_partition: flatten(map(lambda k2v2: COMBINER(*k2v2), groupbykey(map_partition))), map_partitions)\n",
    "  reduce_partitions = groupbykey_distributed(map_partitions, PARTITIONER) # shuffle\n",
    "  reduce_outputs = map(lambda reduce_partition: (reduce_partition[0], flatten(map(lambda reduce_input_group: REDUCE(*reduce_input_group), reduce_partition[1]))), reduce_partitions)\n",
    "\n",
    "  print(\"{} key-value pairs were sent over a network.\".format(sum([len(vs) for (k,vs) in flatten([partition for (partition_id, partition) in reduce_partitions])])))\n",
    "  return reduce_outputs"
   ]
  },
  {
   "cell_type": "markdown",
   "metadata": {
    "id": "kxirlf3XqZxY"
   },
   "source": [
    "## Спецификация MapReduce Distributed\n",
    "\n",
    "\n",
    "```\n",
    "f (k1, v1) -> (k2,v2)*\n",
    "g (k2, v2*) -> (k3,v3)*\n",
    "\n",
    "e1 (k1, v1)\n",
    "e2 (k2, v2)\n",
    "partition1 (k2, v2)*\n",
    "partition2 (k2, v2*)*\n",
    "\n",
    "flatmap (e1->e2*, e1*) -> partition1*\n",
    "groupby (partition1*) -> partition2*\n",
    "\n",
    "mapreduce ((k1,v1)*) -> (k3,v3)*\n",
    "mapreduce .flatmap(f).groupby(k2).flatmap(g)\n",
    "```\n",
    "\n"
   ]
  },
  {
   "cell_type": "markdown",
   "metadata": {
    "id": "CWYw_CpbbY3C"
   },
   "source": [
    "## WordCount"
   ]
  },
  {
   "cell_type": "code",
   "execution_count": 19,
   "metadata": {
    "colab": {
     "base_uri": "https://localhost:8080/"
    },
    "id": "uR_zfGFkMZlp",
    "outputId": "65723f27-efbd-4fc3-b591-4c3176c3d1c6"
   },
   "outputs": [
    {
     "name": "stdout",
     "output_type": "stream",
     "text": [
      "56 key-value pairs were sent over a network.\n"
     ]
    },
    {
     "data": {
      "text/plain": [
       "[(0, [('', 6), ('is', 18), ('it', 18), ('what', 10)]),\n",
       " (1, [('a', 2), ('banana', 2)])]"
      ]
     },
     "execution_count": 19,
     "metadata": {},
     "output_type": "execute_result"
    }
   ],
   "source": [
    "from typing import Iterator\n",
    "import numpy as np\n",
    "\n",
    "d1 = \"\"\"\n",
    "it is what it is\n",
    "it is what it is\n",
    "it is what it is\"\"\"\n",
    "d2 = \"\"\"\n",
    "what is it\n",
    "what is it\"\"\"\n",
    "d3 = \"\"\"\n",
    "it is a banana\"\"\"\n",
    "documents = [d1, d2, d3, d1, d2, d3]\n",
    "\n",
    "maps = 3\n",
    "reducers = 2\n",
    "\n",
    "def INPUTFORMAT():\n",
    "  global maps\n",
    "\n",
    "  def RECORDREADER(split):\n",
    "    for (docid, document) in enumerate(split):\n",
    "      for (lineid, line) in enumerate(document.split('\\n')):\n",
    "        yield (\"{}:{}\".format(docid,lineid), line)\n",
    "\n",
    "  split_size =  int(np.ceil(len(documents)/maps))\n",
    "  for i in range(0, len(documents), split_size):\n",
    "    yield RECORDREADER(documents[i:i+split_size])\n",
    "\n",
    "def MAP(docId:str, line:str):\n",
    "  for word in line.split(\" \"):\n",
    "    yield (word, 1)\n",
    "\n",
    "def REDUCE(word:str, counts:Iterator[int]):\n",
    "  sum = 0\n",
    "  for c in counts:\n",
    "    sum += c\n",
    "  yield (word, sum)\n",
    "\n",
    "# try to set COMBINER=REDUCER and look at the number of values sent over the network\n",
    "partitioned_output = MapReduceDistributed(INPUTFORMAT, MAP, REDUCE, COMBINER=None)\n",
    "partitioned_output = [(partition_id, list(partition)) for (partition_id, partition) in partitioned_output]\n",
    "partitioned_output"
   ]
  },
  {
   "cell_type": "markdown",
   "metadata": {
    "id": "gCJGx8IQ87xS"
   },
   "source": [
    "## TeraSort"
   ]
  },
  {
   "cell_type": "code",
   "execution_count": 20,
   "metadata": {
    "colab": {
     "base_uri": "https://localhost:8080/"
    },
    "id": "P2v8v1v_8_YR",
    "outputId": "b07ef4e6-a45e-474c-8e41-1ce846274d6d"
   },
   "outputs": [
    {
     "name": "stdout",
     "output_type": "stream",
     "text": [
      "30 key-value pairs were sent over a network.\n"
     ]
    },
    {
     "data": {
      "text/plain": [
       "[(0,\n",
       "  [(None, 0.024215997968731084),\n",
       "   (None, 0.03658672752452907),\n",
       "   (None, 0.046216260771997475),\n",
       "   (None, 0.0759764407627741),\n",
       "   (None, 0.14663117985319607),\n",
       "   (None, 0.18345639701873995),\n",
       "   (None, 0.19862750060290912),\n",
       "   (None, 0.22284070284321145),\n",
       "   (None, 0.282577679218056),\n",
       "   (None, 0.3489643859538414),\n",
       "   (None, 0.35220724935729864),\n",
       "   (None, 0.35466338997643443),\n",
       "   (None, 0.37919535784386404),\n",
       "   (None, 0.4011766216980369),\n",
       "   (None, 0.43520675349498694),\n",
       "   (None, 0.47780379677154783),\n",
       "   (None, 0.48454279173105474)]),\n",
       " (1,\n",
       "  [(None, 0.5341386920452825),\n",
       "   (None, 0.5450666685656563),\n",
       "   (None, 0.5570759959988305),\n",
       "   (None, 0.5612779554217996),\n",
       "   (None, 0.6379119269429593),\n",
       "   (None, 0.6925894573198447),\n",
       "   (None, 0.6984660872215095),\n",
       "   (None, 0.7353951380944324),\n",
       "   (None, 0.8428299546336447),\n",
       "   (None, 0.9383341760899746),\n",
       "   (None, 0.9460380100760039),\n",
       "   (None, 0.9486324928590991),\n",
       "   (None, 0.9930986108753707)])]"
      ]
     },
     "execution_count": 20,
     "metadata": {},
     "output_type": "execute_result"
    }
   ],
   "source": [
    "import numpy as np\n",
    "\n",
    "input_values = np.random.rand(30)\n",
    "maps = 3\n",
    "reducers = 2\n",
    "min_value = 0.0\n",
    "max_value = 1.0\n",
    "\n",
    "def INPUTFORMAT():\n",
    "  global maps\n",
    "\n",
    "  def RECORDREADER(split):\n",
    "    for value in split:\n",
    "        yield (value, None)\n",
    "\n",
    "  split_size =  int(np.ceil(len(input_values)/maps))\n",
    "  for i in range(0, len(input_values), split_size):\n",
    "    yield RECORDREADER(input_values[i:i+split_size])\n",
    "\n",
    "def MAP(value:int, _):\n",
    "  yield (value, None)\n",
    "\n",
    "def PARTITIONER(key):\n",
    "  global reducers\n",
    "  global max_value\n",
    "  global min_value\n",
    "  bucket_size = (max_value-min_value)/reducers\n",
    "  bucket_id = 0\n",
    "  while((key>(bucket_id+1)*bucket_size) and ((bucket_id+1)*bucket_size<max_value)):\n",
    "    bucket_id += 1\n",
    "  return bucket_id\n",
    "\n",
    "def REDUCE(value:int, _):\n",
    "  yield (None,value)\n",
    "\n",
    "partitioned_output = MapReduceDistributed(INPUTFORMAT, MAP, REDUCE, COMBINER=None, PARTITIONER=PARTITIONER)\n",
    "partitioned_output = [(partition_id, list(partition)) for (partition_id, partition) in partitioned_output]\n",
    "partitioned_output"
   ]
  },
  {
   "cell_type": "code",
   "execution_count": null,
   "metadata": {
    "id": "MQhoJaVZI93G"
   },
   "outputs": [],
   "source": []
  },
  {
   "cell_type": "markdown",
   "metadata": {
    "id": "Iy65YJTH99iT"
   },
   "source": [
    "# Упражнения\n",
    "Упражнения взяты из Rajaraman A., Ullman J. D. Mining of massive datasets. – Cambridge University Press, 2011.\n",
    "\n",
    "\n",
    "Для выполнения заданий переопределите функции RECORDREADER, MAP, REDUCE. Для модели распределённой системы может потребоваться переопределение функций PARTITION и COMBINER."
   ]
  },
  {
   "cell_type": "markdown",
   "metadata": {
    "id": "cfvAeZm3S8S8"
   },
   "source": [
    "### Максимальное значение ряда\n",
    "\n",
    "Разработайте MapReduce алгоритм, который находит максимальное число входного списка чисел."
   ]
  },
  {
   "cell_type": "code",
   "execution_count": 21,
   "metadata": {
    "colab": {
     "base_uri": "https://localhost:8080/"
    },
    "id": "3GRA1JR-Tkbg",
    "outputId": "30743fcb-fc5b-4720-dacd-e36476bcc0a4"
   },
   "outputs": [
    {
     "name": "stdout",
     "output_type": "stream",
     "text": [
      "[70, 51, 17, 79, 62, 81, 56, 84, 48, 27, 98, 48, 19, 71, 68, 39, 21, 83, 15, 49, 10, 49, 93, 7, 64, 38, 18, 16, 19, 53, 42, 35, 18, 75, 92, 95, 86, 31, 83, 66, 64, 10, 88, 91, 85, 72, 41, 41, 72, 71, 59, 45, 84, 14, 65, 100, 50, 76, 67, 85, 78, 66, 81, 36, 41, 23, 19, 84, 14, 49, 53, 54, 81, 23, 10, 33, 97, 83, 53, 82, 2, 67, 61, 90, 62, 42, 8, 83, 45, 7, 31, 31, 64, 19, 14, 50, 21, 87, 91, 15]\n",
      "[[70, 51, 17, 79, 62], [81, 56, 84, 48, 27], [98, 48, 19, 71, 68], [39, 21, 83, 15, 49], [10, 49, 93, 7, 64], [38, 18, 16, 19, 53], [42, 35, 18, 75, 92], [95, 86, 31, 83, 66], [64, 10, 88, 91, 85], [72, 41, 41, 72, 71], [59, 45, 84, 14, 65], [100, 50, 76, 67, 85], [78, 66, 81, 36, 41], [23, 19, 84, 14, 49], [53, 54, 81, 23, 10], [33, 97, 83, 53, 82], [2, 67, 61, 90, 62], [42, 8, 83, 45, 7], [31, 31, 64, 19, 14], [50, 21, 87, 91, 15]]\n",
      "100\n"
     ]
    }
   ],
   "source": [
    "import random\n",
    "\n",
    "def MAP(num_list):\n",
    "    return max(num_list)\n",
    "\n",
    "\n",
    "def REDUCE(num_list):\n",
    "    return max(num_list)\n",
    "\n",
    "\n",
    "def RECORDREADER(count):\n",
    "    return [random.randint(0, 100) for i in range(count)]\n",
    "\n",
    "\n",
    "record = RECORDREADER(100)\n",
    "print(record)\n",
    "\n",
    "part_count = 5\n",
    "record_partitional = [record[d:d + part_count] for d in range(0, len(record), part_count)]\n",
    "print(record_partitional)\n",
    "\n",
    "print(REDUCE(list(map(lambda x: MAP(x), record_partitional))))"
   ]
  },
  {
   "cell_type": "markdown",
   "metadata": {
    "id": "k86bXnqZTk-U"
   },
   "source": [
    "### Арифметическое среднее\n",
    "\n",
    "Разработайте MapReduce алгоритм, который находит арифметическое среднее.\n",
    "\n",
    "$$\\overline{X} = \\frac{1}{n}\\sum_{i=0}^{n} x_i$$\n"
   ]
  },
  {
   "cell_type": "code",
   "execution_count": 22,
   "metadata": {
    "colab": {
     "base_uri": "https://localhost:8080/"
    },
    "id": "MPoY5pkfUNZf",
    "outputId": "11f6aec6-3457-4ffc-c122-bdf3dcf22f24"
   },
   "outputs": [
    {
     "name": "stdout",
     "output_type": "stream",
     "text": [
      "[(1, 88), (1, 96), (1, 6), (1, 57), (1, 90), (1, 5), (1, 77), (1, 38), (1, 31), (1, 18), (1, 99), (1, 69), (1, 86), (1, 37), (1, 40), (1, 51), (1, 72), (1, 54), (1, 23), (1, 5), (1, 72), (1, 73), (1, 47), (1, 98), (1, 12), (1, 0), (1, 2), (1, 94), (1, 64), (1, 64), (1, 35), (1, 91), (1, 78), (1, 10), (1, 88), (1, 2), (1, 77), (1, 39), (1, 91), (1, 81), (1, 1), (1, 58), (1, 53), (1, 32), (1, 69), (1, 93), (1, 29), (1, 44), (1, 9), (1, 16), (1, 56), (1, 24), (1, 22), (1, 12), (1, 98), (1, 83), (1, 36), (1, 20), (1, 97), (1, 76), (1, 83), (1, 63), (1, 85), (1, 48), (1, 13), (1, 63), (1, 1), (1, 11), (1, 63), (1, 60), (1, 92), (1, 92), (1, 97), (1, 33), (1, 15), (1, 94), (1, 8), (1, 30), (1, 73), (1, 71), (1, 90), (1, 97), (1, 16), (1, 26), (1, 18), (1, 69), (1, 5), (1, 42), (1, 82), (1, 39), (1, 64), (1, 25), (1, 29), (1, 10), (1, 70), (1, 94), (1, 53), (1, 16), (1, 57), (1, 84)]\n",
      "[(1, [88, 96, 6, 57, 90, 5, 77, 38, 31, 18, 99, 69, 86, 37, 40, 51, 72, 54, 23, 5, 72, 73, 47, 98, 12, 0, 2, 94, 64, 64, 35, 91, 78, 10, 88, 2, 77, 39, 91, 81, 1, 58, 53, 32, 69, 93, 29, 44, 9, 16, 56, 24, 22, 12, 98, 83, 36, 20, 97, 76, 83, 63, 85, 48, 13, 63, 1, 11, 63, 60, 92, 92, 97, 33, 15, 94, 8, 30, 73, 71, 90, 97, 16, 26, 18, 69, 5, 42, 82, 39, 64, 25, 29, 10, 70, 94, 53, 16, 57, 84])]\n",
      "[51.69]\n"
     ]
    }
   ],
   "source": [
    "def MAP(num):\n",
    "    return (1, num)\n",
    "\n",
    "\n",
    "def REDUCE(key, nums: Iterator[NamedTuple]):\n",
    "    sum = 0\n",
    "    count = 0\n",
    "    for n in nums:\n",
    "        sum += n\n",
    "        count += 1\n",
    "    yield sum / count\n",
    "\n",
    "\n",
    "def RECORDREADER(count):\n",
    "    return [random.randint(0, 100) for i in range(count)]\n",
    "\n",
    "\n",
    "map_output = list(map(lambda x: MAP(x), RECORDREADER(100)))\n",
    "print(map_output)\n",
    "\n",
    "shuffle_output = groupbykey(map_output)\n",
    "shuffle_output = list(shuffle_output)\n",
    "\n",
    "print(shuffle_output)\n",
    "\n",
    "reduce_output = list(flatten(map(lambda x: REDUCE(*x), shuffle_output)))\n",
    "print(reduce_output)"
   ]
  },
  {
   "cell_type": "markdown",
   "metadata": {
    "id": "xanzszhsIlLe"
   },
   "source": [
    "### GroupByKey на основе сортировки\n",
    "\n",
    "Реализуйте groupByKey на основе сортировки, проверьте его работу на примерах"
   ]
  },
  {
   "cell_type": "code",
   "execution_count": 23,
   "metadata": {
    "colab": {
     "base_uri": "https://localhost:8080/"
    },
    "id": "hQPn3USsIkEC",
    "outputId": "cbc1f6c3-9d46-48c8-b975-e38931b8756f"
   },
   "outputs": [
    {
     "name": "stdout",
     "output_type": "stream",
     "text": [
      "[(1, 6), (1, 14), (1, 57), (1, 7), (1, 38), (1, 99), (1, 20), (1, 65), (1, 35), (1, 0), (1, 14), (1, 54), (1, 55), (1, 50), (1, 28), (1, 91), (1, 16), (1, 46), (1, 39), (1, 98), (1, 8), (1, 99), (1, 42), (1, 83), (1, 31), (1, 15), (1, 94), (1, 8), (1, 39), (1, 28), (1, 59), (1, 46), (1, 37), (1, 33), (1, 9), (1, 83), (1, 100), (1, 17), (1, 61), (1, 91), (1, 70), (1, 47), (1, 99), (1, 45), (1, 28), (1, 39), (1, 35), (1, 35), (1, 28), (1, 47), (1, 54), (1, 94), (1, 92), (1, 11), (1, 72), (1, 8), (1, 75), (1, 62), (1, 11), (1, 74), (1, 53), (1, 94), (1, 91), (1, 23), (1, 10), (1, 17), (1, 64), (1, 19), (1, 42), (1, 87), (1, 9), (1, 87), (1, 16), (1, 19), (1, 23), (1, 17), (1, 58), (1, 46), (1, 98), (1, 61), (1, 91), (1, 16), (1, 51), (1, 10), (1, 92), (1, 33), (1, 89), (1, 17), (1, 32), (1, 90), (1, 67), (1, 85), (1, 97), (1, 8), (1, 52), (1, 20), (1, 2), (1, 25), (1, 1), (1, 42)]\n",
      "[(1, [6, 14, 57, 7, 38, 99, 20, 65, 35, 0, 14, 54, 55, 50, 28, 91, 16, 46, 39, 98, 8, 99, 42, 83, 31, 15, 94, 8, 39, 28, 59, 46, 37, 33, 9, 83, 100, 17, 61, 91, 70, 47, 99, 45, 28, 39, 35, 35, 28, 47, 54, 94, 92, 11, 72, 8, 75, 62, 11, 74, 53, 94, 91, 23, 10, 17, 64, 19, 42, 87, 9, 87, 16, 19, 23, 17, 58, 46, 98, 61, 91, 16, 51, 10, 92, 33, 89, 17, 32, 90, 67, 85, 97, 8, 52, 20, 2, 25, 1, 42])]\n",
      "[46.95]\n"
     ]
    }
   ],
   "source": [
    "def group_by_key(iterable):\n",
    "    sorted_data = sorted(iterable, key=lambda x: x[0])\n",
    "    grouped_data = {}\n",
    "    for key, value in sorted_data:\n",
    "        if key not in grouped_data:\n",
    "            grouped_data[key] = [value]\n",
    "        else:\n",
    "            grouped_data[key].append(value)\n",
    "    result = []\n",
    "    for key, value in grouped_data.items():\n",
    "        result.append((key, value))\n",
    "    return result\n",
    "\n",
    "def MAP(num):\n",
    "    return (1, num)\n",
    "\n",
    "\n",
    "def REDUCE(key, nums: Iterator[NamedTuple]):\n",
    "    sum = 0\n",
    "    count = 0\n",
    "    for n in nums:\n",
    "        sum += n\n",
    "        count += 1\n",
    "    yield sum / count\n",
    "\n",
    "\n",
    "def RECORDREADER(count):\n",
    "    return [random.randint(0, 100) for i in range(count)]\n",
    "\n",
    "map_output = list(map(lambda x: MAP(x), RECORDREADER(100)))\n",
    "print(map_output)\n",
    "\n",
    "shuffle_output = group_by_key(map_output)\n",
    "shuffle_output = list(shuffle_output)\n",
    "\n",
    "print(shuffle_output)\n",
    "\n",
    "reduce_output = list(flatten(map(lambda x: REDUCE(*x), shuffle_output)))\n",
    "print(reduce_output)"
   ]
  },
  {
   "cell_type": "markdown",
   "metadata": {
    "id": "5SgEjCZyGnu6"
   },
   "source": [
    "### Drop duplicates (set construction, unique elements, distinct)\n",
    "\n",
    "Реализуйте распределённую операцию исключения дубликатов"
   ]
  },
  {
   "cell_type": "code",
   "execution_count": 25,
   "metadata": {
    "colab": {
     "base_uri": "https://localhost:8080/"
    },
    "id": "okjbyApjGhMt",
    "outputId": "c6bf50c1-0142-4f88-d95c-3a2605bbedee"
   },
   "outputs": [
    {
     "name": "stdout",
     "output_type": "stream",
     "text": [
      "56 key-value pairs were sent over a network.\n"
     ]
    },
    {
     "data": {
      "text/plain": [
       "[(0, ['', 'is', 'it', 'what']), (1, ['a', 'banana'])]"
      ]
     },
     "execution_count": 25,
     "metadata": {},
     "output_type": "execute_result"
    }
   ],
   "source": [
    "def flatten(nested_iterable):\n",
    "  for iterable in nested_iterable:\n",
    "    for element in iterable:\n",
    "      yield element\n",
    "\n",
    "def groupbykey(iterable):\n",
    "  t = {}\n",
    "  for (k2, v2) in iterable:\n",
    "    t[k2] = t.get(k2, []) + [v2]\n",
    "  return t.items()\n",
    "\n",
    "def groupbykey_distributed(map_partitions, PARTITIONER):\n",
    "  global reducers\n",
    "  partitions = [dict() for _ in range(reducers)]\n",
    "  for map_partition in map_partitions:\n",
    "    for (k2, v2) in map_partition:\n",
    "      p = partitions[PARTITIONER(k2)]\n",
    "      p[k2] = p.get(k2, []) + [v2]\n",
    "  return [(partition_id, sorted(partition.items(), key=lambda x: x[0])) for (partition_id, partition) in enumerate(partitions)]\n",
    "\n",
    "def PARTITIONER(obj):\n",
    "  global reducers\n",
    "  return hash(obj) % reducers\n",
    "\n",
    "def MapReduceDistributed(INPUTFORMAT, MAP, REDUCE, PARTITIONER=PARTITIONER, COMBINER=None):\n",
    "  map_partitions = map(lambda record_reader: flatten(map(lambda k1v1: MAP(*k1v1), record_reader)), INPUTFORMAT())\n",
    "  if COMBINER != None:\n",
    "    map_partitions = map(lambda map_partition: flatten(map(lambda k2v2: COMBINER(*k2v2), groupbykey(map_partition))), map_partitions)\n",
    "  reduce_partitions = groupbykey_distributed(map_partitions, PARTITIONER) # shuffle\n",
    "  reduce_outputs = map(lambda reduce_partition: (reduce_partition[0], flatten(map(lambda reduce_input_group: REDUCE(*reduce_input_group), reduce_partition[1]))), reduce_partitions)\n",
    "\n",
    "  print(\"{} key-value pairs were sent over a network.\".format(sum([len(vs) for (k,vs) in flatten([partition for (partition_id, partition) in reduce_partitions])])))\n",
    "  return reduce_outputs\n",
    "\n",
    "\n",
    "# ===================================================================================================================================================================================\n",
    "\n",
    "from typing import Iterator\n",
    "import numpy as np\n",
    "\n",
    "d1 = \"\"\"\n",
    "it is what it is\n",
    "it is what it is\n",
    "it is what it is\"\"\"\n",
    "d2 = \"\"\"\n",
    "what is it\n",
    "what is it\"\"\"\n",
    "d3 = \"\"\"\n",
    "it is a banana\"\"\"\n",
    "documents = [d1, d2, d3, d1, d2, d3]\n",
    "\n",
    "maps = 3\n",
    "reducers = 2\n",
    "\n",
    "def INPUTFORMAT():\n",
    "  global maps\n",
    "\n",
    "  def RECORDREADER(split):\n",
    "    for (docid, document) in enumerate(split):\n",
    "      for (lineid, line) in enumerate(document.split('\\n')):\n",
    "        yield (\"{}:{}\".format(docid,lineid), line)\n",
    "\n",
    "  split_size =  int(np.ceil(len(documents)/maps))\n",
    "  for i in range(0, len(documents), split_size):\n",
    "    yield RECORDREADER(documents[i:i+split_size])\n",
    "\n",
    "def MAP(docId:str, line:str):\n",
    "  for word in line.split(\" \"):\n",
    "    yield (word, word)\n",
    "\n",
    "def REDUCE(key:str, value:Iterator[str]):\n",
    "  yield key\n",
    "\n",
    "# try to set COMBINER=REDUCER and look at the number of values sent over the network\n",
    "partitioned_output = MapReduceDistributed(INPUTFORMAT, MAP, REDUCE, COMBINER=None)\n",
    "partitioned_output = [(partition_id, list(partition)) for (partition_id, partition) in partitioned_output]\n",
    "partitioned_output"
   ]
  },
  {
   "cell_type": "markdown",
   "metadata": {
    "id": "e7sRGoTXuJze"
   },
   "source": [
    "#Операторы реляционной алгебры\n",
    "### Selection (Выборка)\n",
    "\n",
    "**The Map Function**: Для  каждого кортежа $t \\in R$ вычисляется истинность предиката $C$. В случае истины создаётся пара ключ-значение $(t, t)$. В паре ключ и значение одинаковы, равны $t$.\n",
    "\n",
    "**The Reduce Function:** Роль функции Reduce выполняет функция идентичности, которая возвращает то же значение, что получила на вход.\n",
    "\n"
   ]
  },
  {
   "cell_type": "code",
   "execution_count": 26,
   "metadata": {
    "colab": {
     "base_uri": "https://localhost:8080/"
    },
    "id": "4nKIKe59uIfc",
    "outputId": "981ed60e-028a-453e-8498-643cfe288b55"
   },
   "outputs": [
    {
     "name": "stdout",
     "output_type": "stream",
     "text": [
      "[(52, 40, 29), (2, 0, 39), (53, 16, 9), (38, 34, 61), (53, 60, 31), (24, 11, 65), (73, 59, 25), (75, 2, 43), (43, 88, 32), (88, 30, 60), (65, 95, 67), (6, 35, 19), (50, 8, 20), (29, 17, 17), (67, 100, 94), (4, 14, 64), (17, 69, 95), (9, 94, 43), (97, 9, 2), (87, 23, 72), (82, 1, 56), (97, 16, 64), (41, 25, 59), (75, 32, 95), (58, 94, 57), (75, 68, 14), (1, 63, 41), (53, 22, 86), (68, 29, 52), (39, 98, 56), (92, 53, 76), (4, 12, 15), (79, 69, 80), (81, 40, 62), (32, 95, 36), (57, 82, 97), (38, 27, 14), (1, 71, 99), (28, 62, 45), (95, 93, 35), (64, 65, 26), (91, 89, 5), (44, 53, 49), (26, 80, 60), (6, 93, 88), (17, 48, 18), (15, 56, 71), (29, 41, 21), (69, 26, 62), (18, 1, 80), (24, 41, 31), (22, 34, 74), (93, 90, 1), (79, 11, 77), (91, 95, 58), (32, 64, 12), (84, 42, 95), (54, 70, 51), (59, 16, 20), (53, 1, 87), (4, 60, 25), (85, 92, 43), (62, 33, 53), (60, 25, 92), (7, 37, 61), (87, 59, 67), (95, 32, 40), (16, 89, 84), (46, 42, 16), (39, 56, 16), (95, 73, 25), (24, 51, 47), (62, 93, 34), (61, 96, 91), (35, 98, 35), (83, 30, 17), (74, 11, 54), (70, 5, 73), (7, 17, 16), (39, 5, 69), (50, 23, 92), (62, 48, 5), (9, 65, 44), (10, 33, 88), (4, 54, 72), (52, 93, 44), (100, 59, 42), (64, 22, 41), (68, 4, 92), (8, 21, 37), (30, 46, 12), (21, 58, 0), (35, 41, 87), (25, 73, 86), (42, 68, 68), (78, 49, 41), (20, 77, 27), (46, 47, 63), (45, 44, 53), (69, 63, 12)]\n",
      "[[(52, 40, 29), (2, 0, 39), (53, 16, 9), (38, 34, 61), (53, 60, 31)], [(24, 11, 65), (73, 59, 25), (75, 2, 43), (43, 88, 32), (88, 30, 60)], [(65, 95, 67), (6, 35, 19), (50, 8, 20), (29, 17, 17), (67, 100, 94)], [(4, 14, 64), (17, 69, 95), (9, 94, 43), (97, 9, 2), (87, 23, 72)], [(82, 1, 56), (97, 16, 64), (41, 25, 59), (75, 32, 95), (58, 94, 57)], [(75, 68, 14), (1, 63, 41), (53, 22, 86), (68, 29, 52), (39, 98, 56)], [(92, 53, 76), (4, 12, 15), (79, 69, 80), (81, 40, 62), (32, 95, 36)], [(57, 82, 97), (38, 27, 14), (1, 71, 99), (28, 62, 45), (95, 93, 35)], [(64, 65, 26), (91, 89, 5), (44, 53, 49), (26, 80, 60), (6, 93, 88)], [(17, 48, 18), (15, 56, 71), (29, 41, 21), (69, 26, 62), (18, 1, 80)], [(24, 41, 31), (22, 34, 74), (93, 90, 1), (79, 11, 77), (91, 95, 58)], [(32, 64, 12), (84, 42, 95), (54, 70, 51), (59, 16, 20), (53, 1, 87)], [(4, 60, 25), (85, 92, 43), (62, 33, 53), (60, 25, 92), (7, 37, 61)], [(87, 59, 67), (95, 32, 40), (16, 89, 84), (46, 42, 16), (39, 56, 16)], [(95, 73, 25), (24, 51, 47), (62, 93, 34), (61, 96, 91), (35, 98, 35)], [(83, 30, 17), (74, 11, 54), (70, 5, 73), (7, 17, 16), (39, 5, 69)], [(50, 23, 92), (62, 48, 5), (9, 65, 44), (10, 33, 88), (4, 54, 72)], [(52, 93, 44), (100, 59, 42), (64, 22, 41), (68, 4, 92), (8, 21, 37)], [(30, 46, 12), (21, 58, 0), (35, 41, 87), (25, 73, 86), (42, 68, 68)], [(78, 49, 41), (20, 77, 27), (46, 47, 63), (45, 44, 53), (69, 63, 12)]]\n",
      "[dict_items([((52, 40, 29), [(52, 40, 29)]), ((2, 0, 39), [(2, 0, 39)]), ((38, 34, 61), [(38, 34, 61)])]), dict_items([((24, 11, 65), [(24, 11, 65)]), ((88, 30, 60), [(88, 30, 60)])]), dict_items([((6, 35, 19), [(6, 35, 19)]), ((50, 8, 20), [(50, 8, 20)])]), dict_items([((4, 14, 64), [(4, 14, 64)])]), dict_items([((82, 1, 56), [(82, 1, 56)]), ((58, 94, 57), [(58, 94, 57)])]), dict_items([((68, 29, 52), [(68, 29, 52)])]), dict_items([((92, 53, 76), [(92, 53, 76)]), ((4, 12, 15), [(4, 12, 15)]), ((32, 95, 36), [(32, 95, 36)])]), dict_items([((38, 27, 14), [(38, 27, 14)]), ((28, 62, 45), [(28, 62, 45)])]), dict_items([((64, 65, 26), [(64, 65, 26)]), ((44, 53, 49), [(44, 53, 49)]), ((26, 80, 60), [(26, 80, 60)]), ((6, 93, 88), [(6, 93, 88)])]), dict_items([((18, 1, 80), [(18, 1, 80)])]), dict_items([((24, 41, 31), [(24, 41, 31)]), ((22, 34, 74), [(22, 34, 74)])]), dict_items([((32, 64, 12), [(32, 64, 12)]), ((84, 42, 95), [(84, 42, 95)]), ((54, 70, 51), [(54, 70, 51)])]), dict_items([((4, 60, 25), [(4, 60, 25)]), ((62, 33, 53), [(62, 33, 53)]), ((60, 25, 92), [(60, 25, 92)])]), dict_items([((16, 89, 84), [(16, 89, 84)]), ((46, 42, 16), [(46, 42, 16)])]), dict_items([((24, 51, 47), [(24, 51, 47)]), ((62, 93, 34), [(62, 93, 34)])]), dict_items([((74, 11, 54), [(74, 11, 54)]), ((70, 5, 73), [(70, 5, 73)])]), dict_items([((50, 23, 92), [(50, 23, 92)]), ((62, 48, 5), [(62, 48, 5)]), ((10, 33, 88), [(10, 33, 88)]), ((4, 54, 72), [(4, 54, 72)])]), dict_items([((52, 93, 44), [(52, 93, 44)]), ((100, 59, 42), [(100, 59, 42)]), ((64, 22, 41), [(64, 22, 41)]), ((68, 4, 92), [(68, 4, 92)]), ((8, 21, 37), [(8, 21, 37)])]), dict_items([((30, 46, 12), [(30, 46, 12)]), ((42, 68, 68), [(42, 68, 68)])]), dict_items([((78, 49, 41), [(78, 49, 41)]), ((20, 77, 27), [(20, 77, 27)]), ((46, 47, 63), [(46, 47, 63)])])]\n",
      "[(52, 40, 29), (2, 0, 39), (38, 34, 61), (24, 11, 65), (88, 30, 60), (6, 35, 19), (50, 8, 20), (4, 14, 64), (82, 1, 56), (58, 94, 57), (68, 29, 52), (92, 53, 76), (4, 12, 15), (32, 95, 36), (38, 27, 14), (28, 62, 45), (64, 65, 26), (44, 53, 49), (26, 80, 60), (6, 93, 88), (18, 1, 80), (24, 41, 31), (22, 34, 74), (32, 64, 12), (84, 42, 95), (54, 70, 51), (4, 60, 25), (62, 33, 53), (60, 25, 92), (16, 89, 84), (46, 42, 16), (24, 51, 47), (62, 93, 34), (74, 11, 54), (70, 5, 73), (50, 23, 92), (62, 48, 5), (10, 33, 88), (4, 54, 72), (52, 93, 44), (100, 59, 42), (64, 22, 41), (68, 4, 92), (8, 21, 37), (30, 46, 12), (42, 68, 68), (78, 49, 41), (20, 77, 27), (46, 47, 63)]\n"
     ]
    }
   ],
   "source": [
    "from collections import defaultdict\n",
    "\n",
    "def MAP(el_list):\n",
    "    mapped_result = defaultdict(list)\n",
    "    for t in el_list:\n",
    "        if C(t):  # Предикат C\n",
    "            mapped_result[t].append(t)\n",
    "    return mapped_result.items()\n",
    "\n",
    "\n",
    "def REDUCE(mapped_items):\n",
    "    reduced_result = []\n",
    "    print(mapped_items)\n",
    "    for values in mapped_items:\n",
    "        for value in values:\n",
    "            reduced_result.append(value[0])\n",
    "    return reduced_result\n",
    "\n",
    "def C(t):\n",
    "    return t[0] % 2 == 0  # Выбираем только кортежи с четным первым элементом\n",
    "\n",
    "\n",
    "def RECORDREADER(count):\n",
    "    return [(random.randint(0, 100), random.randint(0, 100), random.randint(0, 100)) for i in range(count)]\n",
    "\n",
    "record = RECORDREADER(100)\n",
    "print(record)\n",
    "\n",
    "part_count = 5\n",
    "record_partitional = [record[d:d + part_count] for d in range(0, len(record), part_count)]\n",
    "print(record_partitional)\n",
    "\n",
    "print(REDUCE(list(map(lambda x: MAP(x), record_partitional))))"
   ]
  },
  {
   "cell_type": "markdown",
   "metadata": {
    "id": "w27Ca-_Ku85V"
   },
   "source": [
    "### Projection (Проекция)\n",
    "\n",
    "Проекция на множество атрибутов $S$.\n",
    "\n",
    "**The Map Function:** Для каждого кортежа $t \\in R$ создайте кортеж $t′$, исключая  из $t$ те значения, атрибуты которых не принадлежат  $S$. Верните пару $(t′, t′)$.\n",
    "\n",
    "**The Reduce Function:** Для каждого ключа $t′$, созданного любой Map задачей, вы получаете одну или несколько пар $(t′, t′)$. Reduce функция преобразует $(t′, [t′, t′, . . . , t′])$ в $(t′, t′)$, так, что для ключа $t′$ возвращается одна пара  $(t′, t′)$."
   ]
  },
  {
   "cell_type": "code",
   "execution_count": 27,
   "metadata": {
    "colab": {
     "base_uri": "https://localhost:8080/"
    },
    "id": "BEvuY4GqvhS6",
    "outputId": "f0f78415-f28a-4127-80c1-eff71647e430"
   },
   "outputs": [
    {
     "name": "stdout",
     "output_type": "stream",
     "text": [
      "[(66, 15, 70), (38, 88, 28), (47, 0, 72), (46, 12, 29), (14, 98, 27), (57, 7, 57), (45, 76, 26), (83, 32, 47), (5, 56, 34), (57, 85, 27), (59, 32, 88), (59, 87, 10), (32, 92, 24), (43, 2, 61), (32, 21, 66), (21, 0, 2), (41, 34, 29), (48, 89, 59), (35, 94, 4), (12, 36, 77), (68, 83, 88), (15, 41, 85), (45, 48, 50), (50, 26, 55), (47, 28, 96), (64, 52, 52), (4, 84, 33), (33, 72, 23), (57, 24, 45), (30, 87, 36), (70, 5, 23), (40, 62, 64), (63, 24, 10), (3, 28, 56), (57, 53, 23), (76, 94, 61), (23, 37, 63), (83, 94, 28), (0, 47, 11), (92, 64, 55), (8, 72, 31), (6, 90, 23), (73, 81, 72), (20, 13, 92), (89, 53, 39), (3, 36, 24), (62, 53, 43), (67, 84, 6), (91, 61, 59), (75, 72, 59), (75, 83, 31), (54, 55, 66), (66, 77, 97), (56, 3, 53), (89, 1, 33), (28, 8, 47), (74, 23, 34), (89, 55, 81), (67, 55, 55), (86, 49, 100), (42, 38, 7), (61, 9, 28), (28, 29, 38), (13, 91, 8), (78, 64, 50), (66, 99, 29), (64, 7, 100), (90, 8, 20), (16, 81, 9), (18, 94, 6), (17, 27, 40), (24, 97, 68), (29, 25, 47), (46, 14, 67), (49, 93, 67), (11, 50, 100), (100, 34, 21), (48, 54, 100), (81, 63, 83), (14, 73, 78), (69, 22, 19), (76, 47, 34), (53, 16, 13), (1, 13, 6), (23, 56, 95), (49, 83, 16), (52, 54, 97), (79, 65, 64), (26, 24, 65), (78, 11, 59), (37, 85, 65), (66, 83, 3), (96, 27, 8), (25, 34, 38), (16, 2, 14), (75, 0, 98), (12, 63, 37), (21, 9, 14), (75, 71, 60), (33, 14, 3)]\n",
      "[((), ()), ((), ()), ((), ()), ((), ()), ((), ()), ((), ()), ((), ()), ((), ()), ((), ()), ((), ()), ((), ()), ((), ()), ((), ()), ((), ()), ((), ()), ((), ()), ((), ()), ((), ()), ((), ()), ((), ()), ((), ()), ((), ()), ((), ()), ((), ()), ((), ()), ((12,), (12,)), ((), ()), ((), ()), ((), ()), ((), ()), ((), ()), ((), ()), ((), ()), ((), ()), ((), ()), ((), ()), ((), ()), ((56,), (56,)), ((), ()), ((), ()), ((), ()), ((), ()), ((), ()), ((), ()), ((), ()), ((), ()), ((), ()), ((), ()), ((), ()), ((), ()), ((), ()), ((), ()), ((), ()), ((), ()), ((), ()), ((), ()), ((), ()), ((), ()), ((), ()), ((), ()), ((), ()), ((), ()), ((), ()), ((), ()), ((), ()), ((), ()), ((), ()), ((), ()), ((), ()), ((), ()), ((), ()), ((), ()), ((), ()), ((), ()), ((), ()), ((), ()), ((), ()), ((), ()), ((), ()), ((), ()), ((), ()), ((), ()), ((), ()), ((), ()), ((), ()), ((), ()), ((), ()), ((), ()), ((), ()), ((), ()), ((), ()), ((), ()), ((), ()), ((), ()), ((), ()), ((), ()), ((), ()), ((), ()), ((), ()), ((), ())]\n",
      "[((), [(), (), (), (), (), (), (), (), (), (), (), (), (), (), (), (), (), (), (), (), (), (), (), (), (), (), (), (), (), (), (), (), (), (), (), (), (), (), (), (), (), (), (), (), (), (), (), (), (), (), (), (), (), (), (), (), (), (), (), (), (), (), (), (), (), (), (), (), (), (), (), (), (), (), (), (), (), (), (), (), (), (), (), (), (), (), (), (), (), (), (), (), (), (), (), (), (), ()]), ((12,), [(12,)]), ((56,), [(56,)])]\n",
      "[(), (12,), (56,)]\n"
     ]
    }
   ],
   "source": [
    "S = set([1 ,12, 56])\n",
    "\n",
    "def MAP(t):\n",
    "  res_list = []\n",
    "  for el in t:\n",
    "    if el in S:\n",
    "      res_list.append(el)\n",
    "    res = tuple(res_list)\n",
    "    return (res, res)\n",
    "\n",
    "\n",
    "def REDUCE(key, values: Iterator[NamedTuple]):\n",
    "    return (key, key)\n",
    "\n",
    "def RECORDREADER(count):\n",
    "    return [(random.randint(0, 100), random.randint(0, 100), random.randint(0, 100)) for i in range(count)]\n",
    "\n",
    "def group_by_key(iterable):\n",
    "  t = {}\n",
    "  for (k2, v2) in iterable:\n",
    "    t[k2] = t.get(k2, []) + [v2]\n",
    "  return t.items()\n",
    "\n",
    "record = RECORDREADER(100)\n",
    "print(record)\n",
    "map_output = list(map(lambda x: MAP(x), RECORDREADER(100)))\n",
    "print(map_output)\n",
    "\n",
    "shuffle_output = group_by_key(map_output)\n",
    "shuffle_output = list(shuffle_output)\n",
    "\n",
    "print(shuffle_output)\n",
    "\n",
    "reduce_output = list(map(lambda x: REDUCE(*x)[0], shuffle_output))\n",
    "print(reduce_output)"
   ]
  },
  {
   "cell_type": "markdown",
   "metadata": {
    "id": "7gau6lKXvn2R"
   },
   "source": [
    "### Union (Объединение)\n",
    "\n",
    "**The Map Function:** Превратите каждый входной кортеж $t$ в пару ключ-значение $(t, t)$.\n",
    "\n",
    "**The Reduce Function:** С каждым ключом $t$ будет ассоциировано одно или два значений. В обоих случаях создайте $(t, t)$ в качестве выходного значения."
   ]
  },
  {
   "cell_type": "code",
   "execution_count": 28,
   "metadata": {
    "colab": {
     "base_uri": "https://localhost:8080/"
    },
    "id": "Sns7a5agv3nw",
    "outputId": "713e3347-7ade-4c0a-e45b-d3cbf8996e4f"
   },
   "outputs": [
    {
     "name": "stdout",
     "output_type": "stream",
     "text": [
      "[(46, 94, 38), (20, 80, 80), (44, 95, 37), (72, 77, 99), (75, 49, 23), (75, 59, 48), (80, 73, 55), (97, 35, 66), (66, 38, 6), (49, 99, 35), (20, 69, 46), (82, 18, 97), (64, 30, 78), (63, 12, 80), (75, 6, 19), (25, 84, 50), (18, 45, 72), (18, 42, 26), (35, 95, 80), (0, 98, 76), (25, 6, 44), (99, 97, 64), (70, 44, 14), (60, 53, 0), (48, 83, 95), (77, 89, 59), (34, 98, 12), (41, 52, 53), (8, 39, 43), (44, 63, 64), (6, 31, 61), (86, 46, 41), (25, 45, 35), (60, 39, 87), (7, 60, 75), (40, 9, 31), (93, 84, 71), (28, 35, 17), (20, 39, 43), (70, 19, 0), (33, 0, 96), (55, 33, 4), (48, 25, 18), (71, 100, 67), (40, 81, 95), (16, 2, 80), (33, 12, 65), (91, 63, 36), (57, 16, 5), (40, 62, 69), (81, 75, 11), (42, 46, 24), (99, 31, 87), (37, 37, 59), (94, 13, 48), (2, 92, 11), (27, 73, 89), (60, 95, 90), (15, 15, 48), (65, 23, 90), (91, 58, 58), (98, 69, 59), (64, 75, 24), (62, 88, 77), (39, 89, 99), (12, 64, 65), (30, 73, 44), (87, 100, 28), (99, 53, 52), (80, 60, 42), (38, 8, 10), (40, 21, 66), (78, 62, 40), (37, 8, 84), (84, 46, 19), (13, 58, 27), (22, 3, 12), (36, 30, 49), (65, 89, 69), (75, 55, 16), (20, 18, 24), (71, 2, 93), (89, 31, 7), (35, 4, 69), (59, 100, 98), (97, 90, 7), (29, 12, 6), (65, 27, 44), (78, 85, 95), (1, 45, 75), (61, 95, 54), (3, 14, 91), (14, 25, 21), (20, 46, 24), (55, 23, 67), (14, 99, 58), (53, 17, 97), (63, 46, 97), (32, 78, 81), (96, 34, 92)]\n",
      "[((77, 90, 43), (77, 90, 43)), ((45, 16, 54), (45, 16, 54)), ((31, 23, 94), (31, 23, 94)), ((72, 62, 83), (72, 62, 83)), ((8, 17, 69), (8, 17, 69)), ((35, 66, 26), (35, 66, 26)), ((65, 14, 35), (65, 14, 35)), ((56, 29, 12), (56, 29, 12)), ((39, 25, 11), (39, 25, 11)), ((85, 54, 92), (85, 54, 92)), ((66, 90, 88), (66, 90, 88)), ((90, 90, 85), (90, 90, 85)), ((29, 49, 99), (29, 49, 99)), ((69, 21, 61), (69, 21, 61)), ((81, 54, 86), (81, 54, 86)), ((22, 61, 87), (22, 61, 87)), ((46, 29, 66), (46, 29, 66)), ((34, 42, 23), (34, 42, 23)), ((19, 56, 42), (19, 56, 42)), ((92, 36, 96), (92, 36, 96)), ((15, 69, 81), (15, 69, 81)), ((11, 32, 25), (11, 32, 25)), ((100, 95, 41), (100, 95, 41)), ((76, 70, 83), (76, 70, 83)), ((68, 26, 80), (68, 26, 80)), ((3, 74, 17), (3, 74, 17)), ((96, 95, 37), (96, 95, 37)), ((68, 82, 39), (68, 82, 39)), ((78, 21, 29), (78, 21, 29)), ((8, 55, 62), (8, 55, 62)), ((51, 72, 75), (51, 72, 75)), ((17, 96, 51), (17, 96, 51)), ((40, 99, 71), (40, 99, 71)), ((74, 71, 5), (74, 71, 5)), ((44, 3, 74), (44, 3, 74)), ((77, 29, 14), (77, 29, 14)), ((49, 79, 60), (49, 79, 60)), ((34, 70, 82), (34, 70, 82)), ((2, 28, 47), (2, 28, 47)), ((23, 80, 74), (23, 80, 74)), ((48, 60, 31), (48, 60, 31)), ((53, 73, 88), (53, 73, 88)), ((44, 96, 70), (44, 96, 70)), ((14, 39, 48), (14, 39, 48)), ((35, 38, 35), (35, 38, 35)), ((53, 35, 26), (53, 35, 26)), ((82, 7, 98), (82, 7, 98)), ((92, 33, 36), (92, 33, 36)), ((42, 45, 71), (42, 45, 71)), ((7, 5, 52), (7, 5, 52)), ((68, 16, 70), (68, 16, 70)), ((9, 69, 53), (9, 69, 53)), ((74, 45, 50), (74, 45, 50)), ((21, 45, 3), (21, 45, 3)), ((42, 42, 48), (42, 42, 48)), ((53, 71, 37), (53, 71, 37)), ((95, 20, 37), (95, 20, 37)), ((15, 56, 62), (15, 56, 62)), ((81, 44, 96), (81, 44, 96)), ((7, 45, 27), (7, 45, 27)), ((61, 44, 51), (61, 44, 51)), ((93, 54, 48), (93, 54, 48)), ((96, 25, 59), (96, 25, 59)), ((99, 54, 50), (99, 54, 50)), ((59, 13, 42), (59, 13, 42)), ((40, 5, 68), (40, 5, 68)), ((94, 95, 77), (94, 95, 77)), ((74, 99, 13), (74, 99, 13)), ((5, 73, 88), (5, 73, 88)), ((70, 67, 93), (70, 67, 93)), ((19, 97, 98), (19, 97, 98)), ((98, 20, 53), (98, 20, 53)), ((85, 14, 53), (85, 14, 53)), ((90, 84, 94), (90, 84, 94)), ((83, 96, 20), (83, 96, 20)), ((68, 2, 78), (68, 2, 78)), ((96, 10, 81), (96, 10, 81)), ((73, 12, 12), (73, 12, 12)), ((11, 41, 16), (11, 41, 16)), ((62, 53, 70), (62, 53, 70)), ((24, 72, 97), (24, 72, 97)), ((100, 93, 79), (100, 93, 79)), ((24, 3, 7), (24, 3, 7)), ((53, 28, 40), (53, 28, 40)), ((32, 61, 63), (32, 61, 63)), ((31, 52, 70), (31, 52, 70)), ((78, 98, 20), (78, 98, 20)), ((52, 99, 17), (52, 99, 17)), ((14, 96, 66), (14, 96, 66)), ((26, 71, 11), (26, 71, 11)), ((32, 24, 54), (32, 24, 54)), ((96, 32, 22), (96, 32, 22)), ((47, 68, 66), (47, 68, 66)), ((25, 56, 21), (25, 56, 21)), ((27, 53, 37), (27, 53, 37)), ((22, 78, 18), (22, 78, 18)), ((28, 39, 89), (28, 39, 89)), ((12, 89, 19), (12, 89, 19)), ((44, 9, 95), (44, 9, 95)), ((49, 4, 92), (49, 4, 92))]\n",
      "[((77, 90, 43), [(77, 90, 43)]), ((45, 16, 54), [(45, 16, 54)]), ((31, 23, 94), [(31, 23, 94)]), ((72, 62, 83), [(72, 62, 83)]), ((8, 17, 69), [(8, 17, 69)]), ((35, 66, 26), [(35, 66, 26)]), ((65, 14, 35), [(65, 14, 35)]), ((56, 29, 12), [(56, 29, 12)]), ((39, 25, 11), [(39, 25, 11)]), ((85, 54, 92), [(85, 54, 92)]), ((66, 90, 88), [(66, 90, 88)]), ((90, 90, 85), [(90, 90, 85)]), ((29, 49, 99), [(29, 49, 99)]), ((69, 21, 61), [(69, 21, 61)]), ((81, 54, 86), [(81, 54, 86)]), ((22, 61, 87), [(22, 61, 87)]), ((46, 29, 66), [(46, 29, 66)]), ((34, 42, 23), [(34, 42, 23)]), ((19, 56, 42), [(19, 56, 42)]), ((92, 36, 96), [(92, 36, 96)]), ((15, 69, 81), [(15, 69, 81)]), ((11, 32, 25), [(11, 32, 25)]), ((100, 95, 41), [(100, 95, 41)]), ((76, 70, 83), [(76, 70, 83)]), ((68, 26, 80), [(68, 26, 80)]), ((3, 74, 17), [(3, 74, 17)]), ((96, 95, 37), [(96, 95, 37)]), ((68, 82, 39), [(68, 82, 39)]), ((78, 21, 29), [(78, 21, 29)]), ((8, 55, 62), [(8, 55, 62)]), ((51, 72, 75), [(51, 72, 75)]), ((17, 96, 51), [(17, 96, 51)]), ((40, 99, 71), [(40, 99, 71)]), ((74, 71, 5), [(74, 71, 5)]), ((44, 3, 74), [(44, 3, 74)]), ((77, 29, 14), [(77, 29, 14)]), ((49, 79, 60), [(49, 79, 60)]), ((34, 70, 82), [(34, 70, 82)]), ((2, 28, 47), [(2, 28, 47)]), ((23, 80, 74), [(23, 80, 74)]), ((48, 60, 31), [(48, 60, 31)]), ((53, 73, 88), [(53, 73, 88)]), ((44, 96, 70), [(44, 96, 70)]), ((14, 39, 48), [(14, 39, 48)]), ((35, 38, 35), [(35, 38, 35)]), ((53, 35, 26), [(53, 35, 26)]), ((82, 7, 98), [(82, 7, 98)]), ((92, 33, 36), [(92, 33, 36)]), ((42, 45, 71), [(42, 45, 71)]), ((7, 5, 52), [(7, 5, 52)]), ((68, 16, 70), [(68, 16, 70)]), ((9, 69, 53), [(9, 69, 53)]), ((74, 45, 50), [(74, 45, 50)]), ((21, 45, 3), [(21, 45, 3)]), ((42, 42, 48), [(42, 42, 48)]), ((53, 71, 37), [(53, 71, 37)]), ((95, 20, 37), [(95, 20, 37)]), ((15, 56, 62), [(15, 56, 62)]), ((81, 44, 96), [(81, 44, 96)]), ((7, 45, 27), [(7, 45, 27)]), ((61, 44, 51), [(61, 44, 51)]), ((93, 54, 48), [(93, 54, 48)]), ((96, 25, 59), [(96, 25, 59)]), ((99, 54, 50), [(99, 54, 50)]), ((59, 13, 42), [(59, 13, 42)]), ((40, 5, 68), [(40, 5, 68)]), ((94, 95, 77), [(94, 95, 77)]), ((74, 99, 13), [(74, 99, 13)]), ((5, 73, 88), [(5, 73, 88)]), ((70, 67, 93), [(70, 67, 93)]), ((19, 97, 98), [(19, 97, 98)]), ((98, 20, 53), [(98, 20, 53)]), ((85, 14, 53), [(85, 14, 53)]), ((90, 84, 94), [(90, 84, 94)]), ((83, 96, 20), [(83, 96, 20)]), ((68, 2, 78), [(68, 2, 78)]), ((96, 10, 81), [(96, 10, 81)]), ((73, 12, 12), [(73, 12, 12)]), ((11, 41, 16), [(11, 41, 16)]), ((62, 53, 70), [(62, 53, 70)]), ((24, 72, 97), [(24, 72, 97)]), ((100, 93, 79), [(100, 93, 79)]), ((24, 3, 7), [(24, 3, 7)]), ((53, 28, 40), [(53, 28, 40)]), ((32, 61, 63), [(32, 61, 63)]), ((31, 52, 70), [(31, 52, 70)]), ((78, 98, 20), [(78, 98, 20)]), ((52, 99, 17), [(52, 99, 17)]), ((14, 96, 66), [(14, 96, 66)]), ((26, 71, 11), [(26, 71, 11)]), ((32, 24, 54), [(32, 24, 54)]), ((96, 32, 22), [(96, 32, 22)]), ((47, 68, 66), [(47, 68, 66)]), ((25, 56, 21), [(25, 56, 21)]), ((27, 53, 37), [(27, 53, 37)]), ((22, 78, 18), [(22, 78, 18)]), ((28, 39, 89), [(28, 39, 89)]), ((12, 89, 19), [(12, 89, 19)]), ((44, 9, 95), [(44, 9, 95)]), ((49, 4, 92), [(49, 4, 92)])]\n",
      "[(77, 90, 43), (45, 16, 54), (31, 23, 94), (72, 62, 83), (8, 17, 69), (35, 66, 26), (65, 14, 35), (56, 29, 12), (39, 25, 11), (85, 54, 92), (66, 90, 88), (90, 90, 85), (29, 49, 99), (69, 21, 61), (81, 54, 86), (22, 61, 87), (46, 29, 66), (34, 42, 23), (19, 56, 42), (92, 36, 96), (15, 69, 81), (11, 32, 25), (100, 95, 41), (76, 70, 83), (68, 26, 80), (3, 74, 17), (96, 95, 37), (68, 82, 39), (78, 21, 29), (8, 55, 62), (51, 72, 75), (17, 96, 51), (40, 99, 71), (74, 71, 5), (44, 3, 74), (77, 29, 14), (49, 79, 60), (34, 70, 82), (2, 28, 47), (23, 80, 74), (48, 60, 31), (53, 73, 88), (44, 96, 70), (14, 39, 48), (35, 38, 35), (53, 35, 26), (82, 7, 98), (92, 33, 36), (42, 45, 71), (7, 5, 52), (68, 16, 70), (9, 69, 53), (74, 45, 50), (21, 45, 3), (42, 42, 48), (53, 71, 37), (95, 20, 37), (15, 56, 62), (81, 44, 96), (7, 45, 27), (61, 44, 51), (93, 54, 48), (96, 25, 59), (99, 54, 50), (59, 13, 42), (40, 5, 68), (94, 95, 77), (74, 99, 13), (5, 73, 88), (70, 67, 93), (19, 97, 98), (98, 20, 53), (85, 14, 53), (90, 84, 94), (83, 96, 20), (68, 2, 78), (96, 10, 81), (73, 12, 12), (11, 41, 16), (62, 53, 70), (24, 72, 97), (100, 93, 79), (24, 3, 7), (53, 28, 40), (32, 61, 63), (31, 52, 70), (78, 98, 20), (52, 99, 17), (14, 96, 66), (26, 71, 11), (32, 24, 54), (96, 32, 22), (47, 68, 66), (25, 56, 21), (27, 53, 37), (22, 78, 18), (28, 39, 89), (12, 89, 19), (44, 9, 95), (49, 4, 92)]\n"
     ]
    }
   ],
   "source": [
    "def MAP(t):\n",
    "  return (t, t)\n",
    "\n",
    "\n",
    "def REDUCE(key, values: Iterator[NamedTuple]):\n",
    "    return (key, key)\n",
    "\n",
    "def RECORDREADER(count):\n",
    "    return [(random.randint(0, 100), random.randint(0, 100), random.randint(0, 100)) for i in range(count)]\n",
    "\n",
    "def group_by_key(iterable):\n",
    "  t = {}\n",
    "  for (k2, v2) in iterable:\n",
    "    t[k2] = t.get(k2, []) + [v2]\n",
    "  return t.items()\n",
    "\n",
    "record = RECORDREADER(100)\n",
    "print(record)\n",
    "map_output = list(map(lambda x: MAP(x), RECORDREADER(100)))\n",
    "print(map_output)\n",
    "\n",
    "shuffle_output = group_by_key(map_output)\n",
    "shuffle_output = list(shuffle_output)\n",
    "\n",
    "print(shuffle_output)\n",
    "\n",
    "reduce_output = list(map(lambda x: REDUCE(*x)[0], shuffle_output))\n",
    "print(reduce_output)"
   ]
  },
  {
   "cell_type": "markdown",
   "metadata": {
    "id": "dQ8TuEbjv4J8"
   },
   "source": [
    "### Intersection (Пересечение)\n",
    "\n",
    "**The Map Function:** Превратите каждый кортеж $t$ в пары ключ-значение $(t, t)$.\n",
    "\n",
    "**The Reduce Function:** Если для ключа $t$ есть список из двух элементов $[t, t]$ $-$ создайте пару $(t, t)$. Иначе, ничего не создавайте."
   ]
  },
  {
   "cell_type": "code",
   "execution_count": 29,
   "metadata": {
    "colab": {
     "base_uri": "https://localhost:8080/"
    },
    "id": "XKlBZh4IwERR",
    "outputId": "94358799-b501-47e1-f257-af5b97e3adb5"
   },
   "outputs": [
    {
     "name": "stdout",
     "output_type": "stream",
     "text": [
      "[(1, 0), (3, 3), (0, 0), (3, 1), (1, 1), (3, 1), (3, 2), (0, 0), (3, 3), (2, 2), (0, 1), (3, 2), (3, 2), (3, 3), (2, 1), (3, 2), (3, 1), (2, 1), (1, 2), (0, 3), (3, 0), (3, 0), (0, 2), (3, 1), (3, 3), (0, 1), (0, 3), (0, 3), (1, 2), (0, 2), (2, 3), (3, 2), (0, 1), (3, 1), (0, 1), (1, 3), (0, 0), (2, 0), (1, 0), (3, 3), (2, 1), (0, 0), (0, 3), (0, 2), (2, 1), (1, 1), (1, 1), (0, 2), (1, 1), (2, 0), (0, 1), (3, 2), (0, 2), (0, 1), (2, 2), (2, 3), (2, 1), (1, 0), (3, 1), (3, 1), (1, 0), (1, 2), (3, 3), (0, 1), (2, 3), (1, 1), (1, 2), (0, 0), (3, 3), (2, 2), (1, 0), (0, 2), (1, 3), (2, 3), (3, 2), (1, 1), (2, 3), (1, 0), (3, 2), (1, 3), (1, 2), (1, 3), (0, 2), (2, 1), (2, 3), (2, 3), (1, 3), (2, 0), (1, 1), (1, 2), (1, 3), (0, 2), (2, 1), (1, 3), (0, 0), (3, 3), (1, 2), (1, 0), (1, 1), (1, 1)]\n",
      "[((3, 1), (3, 1)), ((0, 3), (0, 3)), ((3, 3), (3, 3)), ((2, 0), (2, 0)), ((2, 0), (2, 0)), ((0, 1), (0, 1)), ((2, 2), (2, 2)), ((3, 0), (3, 0)), ((1, 3), (1, 3)), ((1, 1), (1, 1)), ((1, 3), (1, 3)), ((2, 2), (2, 2)), ((2, 3), (2, 3)), ((3, 0), (3, 0)), ((2, 3), (2, 3)), ((3, 2), (3, 2)), ((0, 3), (0, 3)), ((3, 1), (3, 1)), ((2, 0), (2, 0)), ((0, 0), (0, 0)), ((0, 1), (0, 1)), ((1, 0), (1, 0)), ((1, 2), (1, 2)), ((1, 1), (1, 1)), ((1, 3), (1, 3)), ((0, 1), (0, 1)), ((3, 0), (3, 0)), ((1, 0), (1, 0)), ((3, 3), (3, 3)), ((0, 3), (0, 3)), ((0, 1), (0, 1)), ((3, 1), (3, 1)), ((1, 2), (1, 2)), ((0, 2), (0, 2)), ((2, 0), (2, 0)), ((2, 0), (2, 0)), ((3, 2), (3, 2)), ((2, 2), (2, 2)), ((1, 1), (1, 1)), ((0, 1), (0, 1)), ((3, 1), (3, 1)), ((3, 3), (3, 3)), ((2, 2), (2, 2)), ((2, 0), (2, 0)), ((1, 1), (1, 1)), ((2, 1), (2, 1)), ((2, 3), (2, 3)), ((1, 3), (1, 3)), ((3, 2), (3, 2)), ((2, 0), (2, 0)), ((1, 2), (1, 2)), ((3, 1), (3, 1)), ((0, 2), (0, 2)), ((1, 3), (1, 3)), ((1, 3), (1, 3)), ((3, 3), (3, 3)), ((3, 1), (3, 1)), ((1, 3), (1, 3)), ((0, 1), (0, 1)), ((2, 0), (2, 0)), ((2, 0), (2, 0)), ((2, 1), (2, 1)), ((1, 3), (1, 3)), ((2, 1), (2, 1)), ((1, 2), (1, 2)), ((1, 0), (1, 0)), ((1, 0), (1, 0)), ((1, 3), (1, 3)), ((1, 0), (1, 0)), ((0, 3), (0, 3)), ((1, 2), (1, 2)), ((0, 3), (0, 3)), ((2, 0), (2, 0)), ((2, 2), (2, 2)), ((2, 0), (2, 0)), ((1, 1), (1, 1)), ((3, 3), (3, 3)), ((2, 1), (2, 1)), ((2, 1), (2, 1)), ((1, 2), (1, 2)), ((1, 3), (1, 3)), ((2, 1), (2, 1)), ((1, 2), (1, 2)), ((3, 3), (3, 3)), ((0, 3), (0, 3)), ((3, 1), (3, 1)), ((1, 0), (1, 0)), ((1, 0), (1, 0)), ((1, 0), (1, 0)), ((3, 1), (3, 1)), ((3, 2), (3, 2)), ((0, 3), (0, 3)), ((2, 0), (2, 0)), ((1, 1), (1, 1)), ((0, 2), (0, 2)), ((1, 1), (1, 1)), ((0, 3), (0, 3)), ((2, 2), (2, 2)), ((2, 2), (2, 2)), ((2, 3), (2, 3))]\n",
      "[((3, 1), [(3, 1), (3, 1), (3, 1), (3, 1), (3, 1), (3, 1), (3, 1), (3, 1)]), ((0, 3), [(0, 3), (0, 3), (0, 3), (0, 3), (0, 3), (0, 3), (0, 3), (0, 3)]), ((3, 3), [(3, 3), (3, 3), (3, 3), (3, 3), (3, 3), (3, 3)]), ((2, 0), [(2, 0), (2, 0), (2, 0), (2, 0), (2, 0), (2, 0), (2, 0), (2, 0), (2, 0), (2, 0), (2, 0), (2, 0)]), ((0, 1), [(0, 1), (0, 1), (0, 1), (0, 1), (0, 1), (0, 1)]), ((2, 2), [(2, 2), (2, 2), (2, 2), (2, 2), (2, 2), (2, 2), (2, 2)]), ((3, 0), [(3, 0), (3, 0), (3, 0)]), ((1, 3), [(1, 3), (1, 3), (1, 3), (1, 3), (1, 3), (1, 3), (1, 3), (1, 3), (1, 3), (1, 3)]), ((1, 1), [(1, 1), (1, 1), (1, 1), (1, 1), (1, 1), (1, 1), (1, 1)]), ((2, 3), [(2, 3), (2, 3), (2, 3), (2, 3)]), ((3, 2), [(3, 2), (3, 2), (3, 2), (3, 2)]), ((0, 0), [(0, 0)]), ((1, 0), [(1, 0), (1, 0), (1, 0), (1, 0), (1, 0), (1, 0), (1, 0), (1, 0)]), ((1, 2), [(1, 2), (1, 2), (1, 2), (1, 2), (1, 2), (1, 2), (1, 2)]), ((0, 2), [(0, 2), (0, 2), (0, 2)]), ((2, 1), [(2, 1), (2, 1), (2, 1), (2, 1), (2, 1), (2, 1)])]\n",
      "[]\n"
     ]
    }
   ],
   "source": [
    "def MAP(t):\n",
    "  return (t, t)\n",
    "\n",
    "\n",
    "def REDUCE(key, values: Iterator[NamedTuple]):\n",
    "  if len(values) == 2:\n",
    "    return (key, key)\n",
    "\n",
    "def RECORDREADER(count):\n",
    "    return [(random.randint(0, 3), random.randint(0, 3)) for i in range(count)]\n",
    "\n",
    "def group_by_key(iterable):\n",
    "  t = {}\n",
    "  for (k2, v2) in iterable:\n",
    "    t[k2] = t.get(k2, []) + [v2]\n",
    "  return t.items()\n",
    "\n",
    "record = RECORDREADER(100)\n",
    "print(record)\n",
    "map_output = list(map(lambda x: MAP(x), RECORDREADER(100)))\n",
    "print(map_output)\n",
    "\n",
    "shuffle_output = group_by_key(map_output)\n",
    "shuffle_output = list(shuffle_output)\n",
    "\n",
    "print(shuffle_output)\n",
    "\n",
    "reduce_output = [el[0] for el in list(map(lambda x: REDUCE(*x), shuffle_output)) if el is not None]\n",
    "print(reduce_output)"
   ]
  },
  {
   "cell_type": "markdown",
   "metadata": {
    "id": "AVOpqoY3wE5k"
   },
   "source": [
    "### Difference (Разница)\n",
    "\n",
    "**The Map Function:** Для кортежа $t \\in R$, создайте пару $(t, R)$, и для кортежа $t \\in S$, создайте пару $(t, S)$. Задумка заключается в том, чтобы значение пары было именем отношения $R$ or $S$, которому принадлежит кортеж (а лучше, единичный бит, по которому можно два отношения различить $R$ or $S$), а не весь набор атрибутов отношения.\n",
    "\n",
    "**The Reduce Function:** Для каждого ключа $t$, если соответствующее значение является списком $[R]$, создайте пару $(t, t)$. В иных случаях не предпринимайте действий."
   ]
  },
  {
   "cell_type": "code",
   "execution_count": 30,
   "metadata": {
    "colab": {
     "base_uri": "https://localhost:8080/"
    },
    "id": "QE_AC09lwZIZ",
    "outputId": "8672fa9e-9038-4773-f873-b31ed0910ff4"
   },
   "outputs": [
    {
     "name": "stdout",
     "output_type": "stream",
     "text": [
      "[<__main__.Tuple object at 0x000001C367FD3760>, <__main__.Tuple object at 0x000001C367FD3400>, <__main__.Tuple object at 0x000001C367FD3520>, <__main__.Tuple object at 0x000001C367FD3310>, <__main__.Tuple object at 0x000001C367FD3580>, <__main__.Tuple object at 0x000001C367FD3430>, <__main__.Tuple object at 0x000001C367FD3790>, <__main__.Tuple object at 0x000001C367FD3EE0>, <__main__.Tuple object at 0x000001C367FD30A0>, <__main__.Tuple object at 0x000001C367FD3DF0>, <__main__.Tuple object at 0x000001C367FD3640>, <__main__.Tuple object at 0x000001C358B94A00>, <__main__.Tuple object at 0x000001C358B94AC0>, <__main__.Tuple object at 0x000001C358B94BE0>, <__main__.Tuple object at 0x000001C358B943A0>, <__main__.Tuple object at 0x000001C358B94730>, <__main__.Tuple object at 0x000001C358B94640>, <__main__.Tuple object at 0x000001C358B94E80>, <__main__.Tuple object at 0x000001C358B94490>, <__main__.Tuple object at 0x000001C358B94220>, <__main__.Tuple object at 0x000001C358B94A30>, <__main__.Tuple object at 0x000001C358B94520>, <__main__.Tuple object at 0x000001C358B94BB0>, <__main__.Tuple object at 0x000001C358B947F0>, <__main__.Tuple object at 0x000001C358B949A0>, <__main__.Tuple object at 0x000001C358B94880>, <__main__.Tuple object at 0x000001C358B94A90>, <__main__.Tuple object at 0x000001C358B94970>, <__main__.Tuple object at 0x000001C358B94460>, <__main__.Tuple object at 0x000001C358B94280>, <__main__.Tuple object at 0x000001C358B94850>, <__main__.Tuple object at 0x000001C358B945E0>, <__main__.Tuple object at 0x000001C358B94B50>, <__main__.Tuple object at 0x000001C358B94940>, <__main__.Tuple object at 0x000001C358B940A0>, <__main__.Tuple object at 0x000001C358B94760>, <__main__.Tuple object at 0x000001C358B94670>, <__main__.Tuple object at 0x000001C358B942B0>, <__main__.Tuple object at 0x000001C358B949D0>, <__main__.Tuple object at 0x000001C358B94130>, <__main__.Tuple object at 0x000001C358B944F0>, <__main__.Tuple object at 0x000001C358B945B0>, <__main__.Tuple object at 0x000001C358B94B20>, <__main__.Tuple object at 0x000001C358B94B80>, <__main__.Tuple object at 0x000001C358B94040>, <__main__.Tuple object at 0x000001C358B941C0>, <__main__.Tuple object at 0x000001C358B94C10>, <__main__.Tuple object at 0x000001C358B94FD0>, <__main__.Tuple object at 0x000001C358B94FA0>, <__main__.Tuple object at 0x000001C358B94370>, <__main__.Tuple object at 0x000001C358B94CD0>, <__main__.Tuple object at 0x000001C358B946D0>, <__main__.Tuple object at 0x000001C367FBECD0>, <__main__.Tuple object at 0x000001C367FBE610>, <__main__.Tuple object at 0x000001C367FBE370>, <__main__.Tuple object at 0x000001C367FBEDC0>, <__main__.Tuple object at 0x000001C367FBE730>, <__main__.Tuple object at 0x000001C367FBED60>, <__main__.Tuple object at 0x000001C367FBEB80>, <__main__.Tuple object at 0x000001C367FBEF40>, <__main__.Tuple object at 0x000001C367FBE700>, <__main__.Tuple object at 0x000001C367FBE190>, <__main__.Tuple object at 0x000001C367FBEAF0>, <__main__.Tuple object at 0x000001C367FBEA60>, <__main__.Tuple object at 0x000001C367FBE790>, <__main__.Tuple object at 0x000001C367FBE820>, <__main__.Tuple object at 0x000001C367FBE670>, <__main__.Tuple object at 0x000001C367FBE550>, <__main__.Tuple object at 0x000001C367FBE2B0>, <__main__.Tuple object at 0x000001C367FBE460>, <__main__.Tuple object at 0x000001C367FBE4C0>, <__main__.Tuple object at 0x000001C367FBEB20>, <__main__.Tuple object at 0x000001C367FBEEB0>, <__main__.Tuple object at 0x000001C367FBE340>, <__main__.Tuple object at 0x000001C367FBE580>, <__main__.Tuple object at 0x000001C367FBE100>, <__main__.Tuple object at 0x000001C367FBE040>, <__main__.Tuple object at 0x000001C367FBE0D0>, <__main__.Tuple object at 0x000001C367FBE880>, <__main__.Tuple object at 0x000001C367FBEA30>, <__main__.Tuple object at 0x000001C367FBE910>, <__main__.Tuple object at 0x000001C367FBEEE0>, <__main__.Tuple object at 0x000001C367FBE520>, <__main__.Tuple object at 0x000001C367FBEB50>, <__main__.Tuple object at 0x000001C367FBEBB0>, <__main__.Tuple object at 0x000001C367FBE940>, <__main__.Tuple object at 0x000001C367FBEE50>, <__main__.Tuple object at 0x000001C367FBE5B0>, <__main__.Tuple object at 0x000001C367FBEDF0>, <__main__.Tuple object at 0x000001C367FBE3A0>, <__main__.Tuple object at 0x000001C367FD8B50>, <__main__.Tuple object at 0x000001C367FD8D90>, <__main__.Tuple object at 0x000001C367FD8AF0>, <__main__.Tuple object at 0x000001C367FD8C10>, <__main__.Tuple object at 0x000001C367FD8190>, <__main__.Tuple object at 0x000001C367FD8910>, <__main__.Tuple object at 0x000001C367FD8490>, <__main__.Tuple object at 0x000001C367FD8130>, <__main__.Tuple object at 0x000001C367FD89D0>, <__main__.Tuple object at 0x000001C367FD89A0>]\n",
      "[(((0, 2), (3, 1), (3, 2)), 1), (((2, 3), (1, 2), (1, 2)), 2), (((0, 3), (2, 2), (3, 3)), 2), (((0, 1), (0, 2), (1, 2)), 1), (((3, 1), (0, 2), (2, 1)), 2), (((1, 0), (2, 2), (1, 0)), 1), (((1, 0), (2, 0), (1, 3)), 1), (((2, 1), (1, 3), (2, 2)), 1), (((0, 2), (2, 2), (2, 2)), 1), (((3, 2), (1, 3), (1, 3)), 2), (((2, 1), (1, 1), (3, 3)), 1), (((2, 3), (2, 0), (3, 1)), 1), (((0, 0), (0, 2), (2, 2)), 2), (((2, 1), (2, 3), (1, 2)), 2), (((1, 2), (0, 3), (1, 1)), 1), (((1, 0), (0, 2), (2, 0)), 2), (((0, 2), (2, 1), (0, 0)), 1), (((0, 1), (0, 0), (3, 0)), 1), (((2, 1), (0, 0), (0, 1)), 2), (((2, 1), (1, 0), (1, 1)), 2), (((2, 0), (2, 1), (1, 3)), 1), (((3, 0), (3, 3), (0, 0)), 2), (((2, 0), (2, 1), (1, 1)), 2), (((1, 1), (1, 0), (2, 0)), 2), (((1, 2), (2, 3), (2, 0)), 1), (((2, 0), (1, 2), (3, 2)), 2), (((3, 3), (2, 3), (2, 2)), 2), (((2, 2), (1, 2), (2, 1)), 1), (((0, 2), (3, 3), (3, 3)), 2), (((1, 2), (0, 0), (1, 0)), 2), (((0, 3), (2, 0), (3, 2)), 2), (((2, 3), (1, 3), (2, 0)), 1), (((2, 1), (3, 3), (0, 0)), 1), (((3, 0), (1, 2), (3, 0)), 1), (((1, 0), (3, 1), (1, 3)), 2), (((1, 1), (3, 3), (3, 0)), 1), (((3, 2), (2, 2), (0, 2)), 2), (((3, 1), (1, 0), (3, 2)), 1), (((0, 2), (1, 2), (2, 0)), 2), (((0, 1), (0, 0), (3, 0)), 1), (((3, 3), (1, 3), (1, 0)), 2), (((3, 0), (1, 3), (0, 3)), 1), (((2, 0), (2, 1), (2, 2)), 1), (((2, 1), (1, 3), (3, 1)), 2), (((0, 1), (2, 1), (1, 3)), 2), (((2, 0), (3, 2), (3, 1)), 1), (((3, 3), (0, 3), (2, 2)), 2), (((0, 1), (2, 3), (1, 2)), 2), (((1, 1), (2, 3), (1, 0)), 1), (((2, 3), (0, 2), (0, 1)), 2), (((3, 2), (3, 0), (2, 0)), 2), (((2, 2), (2, 3), (3, 0)), 2), (((1, 1), (0, 3), (0, 1)), 2), (((1, 0), (1, 1), (1, 1)), 1), (((0, 1), (2, 0), (0, 2)), 1), (((3, 1), (1, 2), (2, 2)), 2), (((3, 0), (1, 3), (1, 0)), 2), (((2, 1), (2, 2), (2, 0)), 1), (((0, 0), (0, 2), (2, 0)), 1), (((0, 3), (1, 3), (3, 0)), 2), (((1, 0), (0, 1), (0, 2)), 1), (((0, 1), (3, 3), (2, 3)), 2), (((1, 2), (0, 0), (3, 3)), 1), (((2, 0), (3, 1), (1, 0)), 1), (((2, 3), (0, 2), (3, 0)), 1), (((3, 1), (3, 1), (3, 2)), 1), (((3, 2), (3, 0), (3, 3)), 2), (((2, 0), (3, 0), (2, 0)), 2), (((2, 2), (3, 3), (1, 2)), 1), (((0, 0), (2, 3), (1, 3)), 2), (((1, 1), (3, 1), (1, 0)), 2), (((1, 2), (3, 2), (0, 0)), 1), (((1, 3), (0, 0), (3, 0)), 1), (((2, 1), (3, 3), (1, 1)), 2), (((3, 3), (0, 0), (0, 2)), 1), (((3, 3), (1, 1), (2, 0)), 2), (((3, 3), (2, 2), (2, 0)), 1), (((0, 1), (0, 3), (1, 3)), 1), (((0, 2), (2, 1), (3, 2)), 2), (((2, 0), (2, 1), (3, 3)), 2), (((3, 3), (1, 0), (1, 3)), 2), (((2, 3), (2, 2), (1, 1)), 1), (((1, 1), (3, 3), (3, 3)), 1), (((2, 3), (3, 3), (3, 2)), 2), (((0, 2), (0, 1), (2, 3)), 2), (((2, 1), (0, 2), (3, 0)), 1), (((3, 2), (0, 1), (0, 0)), 2), (((0, 0), (3, 2), (3, 2)), 2), (((1, 3), (1, 0), (0, 3)), 2), (((1, 2), (0, 0), (3, 3)), 1), (((0, 2), (1, 3), (3, 1)), 1), (((3, 0), (3, 1), (3, 3)), 2), (((3, 1), (0, 3), (0, 2)), 1), (((0, 1), (2, 3), (3, 0)), 1), (((2, 0), (0, 0), (1, 3)), 1), (((0, 0), (1, 2), (0, 0)), 1), (((0, 3), (3, 3), (0, 2)), 2), (((3, 0), (3, 0), (2, 2)), 2), (((3, 2), (2, 2), (1, 1)), 2), (((1, 2), (0, 3), (1, 2)), 1)]\n",
      "[(((0, 2), (3, 1), (3, 2)), [1]), (((2, 3), (1, 2), (1, 2)), [2]), (((0, 3), (2, 2), (3, 3)), [2]), (((0, 1), (0, 2), (1, 2)), [1]), (((3, 1), (0, 2), (2, 1)), [2]), (((1, 0), (2, 2), (1, 0)), [1]), (((1, 0), (2, 0), (1, 3)), [1]), (((2, 1), (1, 3), (2, 2)), [1]), (((0, 2), (2, 2), (2, 2)), [1]), (((3, 2), (1, 3), (1, 3)), [2]), (((2, 1), (1, 1), (3, 3)), [1]), (((2, 3), (2, 0), (3, 1)), [1]), (((0, 0), (0, 2), (2, 2)), [2]), (((2, 1), (2, 3), (1, 2)), [2]), (((1, 2), (0, 3), (1, 1)), [1]), (((1, 0), (0, 2), (2, 0)), [2]), (((0, 2), (2, 1), (0, 0)), [1]), (((0, 1), (0, 0), (3, 0)), [1, 1]), (((2, 1), (0, 0), (0, 1)), [2]), (((2, 1), (1, 0), (1, 1)), [2]), (((2, 0), (2, 1), (1, 3)), [1]), (((3, 0), (3, 3), (0, 0)), [2]), (((2, 0), (2, 1), (1, 1)), [2]), (((1, 1), (1, 0), (2, 0)), [2]), (((1, 2), (2, 3), (2, 0)), [1]), (((2, 0), (1, 2), (3, 2)), [2]), (((3, 3), (2, 3), (2, 2)), [2]), (((2, 2), (1, 2), (2, 1)), [1]), (((0, 2), (3, 3), (3, 3)), [2]), (((1, 2), (0, 0), (1, 0)), [2]), (((0, 3), (2, 0), (3, 2)), [2]), (((2, 3), (1, 3), (2, 0)), [1]), (((2, 1), (3, 3), (0, 0)), [1]), (((3, 0), (1, 2), (3, 0)), [1]), (((1, 0), (3, 1), (1, 3)), [2]), (((1, 1), (3, 3), (3, 0)), [1]), (((3, 2), (2, 2), (0, 2)), [2]), (((3, 1), (1, 0), (3, 2)), [1]), (((0, 2), (1, 2), (2, 0)), [2]), (((3, 3), (1, 3), (1, 0)), [2]), (((3, 0), (1, 3), (0, 3)), [1]), (((2, 0), (2, 1), (2, 2)), [1]), (((2, 1), (1, 3), (3, 1)), [2]), (((0, 1), (2, 1), (1, 3)), [2]), (((2, 0), (3, 2), (3, 1)), [1]), (((3, 3), (0, 3), (2, 2)), [2]), (((0, 1), (2, 3), (1, 2)), [2]), (((1, 1), (2, 3), (1, 0)), [1]), (((2, 3), (0, 2), (0, 1)), [2]), (((3, 2), (3, 0), (2, 0)), [2]), (((2, 2), (2, 3), (3, 0)), [2]), (((1, 1), (0, 3), (0, 1)), [2]), (((1, 0), (1, 1), (1, 1)), [1]), (((0, 1), (2, 0), (0, 2)), [1]), (((3, 1), (1, 2), (2, 2)), [2]), (((3, 0), (1, 3), (1, 0)), [2]), (((2, 1), (2, 2), (2, 0)), [1]), (((0, 0), (0, 2), (2, 0)), [1]), (((0, 3), (1, 3), (3, 0)), [2]), (((1, 0), (0, 1), (0, 2)), [1]), (((0, 1), (3, 3), (2, 3)), [2]), (((1, 2), (0, 0), (3, 3)), [1, 1]), (((2, 0), (3, 1), (1, 0)), [1]), (((2, 3), (0, 2), (3, 0)), [1]), (((3, 1), (3, 1), (3, 2)), [1]), (((3, 2), (3, 0), (3, 3)), [2]), (((2, 0), (3, 0), (2, 0)), [2]), (((2, 2), (3, 3), (1, 2)), [1]), (((0, 0), (2, 3), (1, 3)), [2]), (((1, 1), (3, 1), (1, 0)), [2]), (((1, 2), (3, 2), (0, 0)), [1]), (((1, 3), (0, 0), (3, 0)), [1]), (((2, 1), (3, 3), (1, 1)), [2]), (((3, 3), (0, 0), (0, 2)), [1]), (((3, 3), (1, 1), (2, 0)), [2]), (((3, 3), (2, 2), (2, 0)), [1]), (((0, 1), (0, 3), (1, 3)), [1]), (((0, 2), (2, 1), (3, 2)), [2]), (((2, 0), (2, 1), (3, 3)), [2]), (((3, 3), (1, 0), (1, 3)), [2]), (((2, 3), (2, 2), (1, 1)), [1]), (((1, 1), (3, 3), (3, 3)), [1]), (((2, 3), (3, 3), (3, 2)), [2]), (((0, 2), (0, 1), (2, 3)), [2]), (((2, 1), (0, 2), (3, 0)), [1]), (((3, 2), (0, 1), (0, 0)), [2]), (((0, 0), (3, 2), (3, 2)), [2]), (((1, 3), (1, 0), (0, 3)), [2]), (((0, 2), (1, 3), (3, 1)), [1]), (((3, 0), (3, 1), (3, 3)), [2]), (((3, 1), (0, 3), (0, 2)), [1]), (((0, 1), (2, 3), (3, 0)), [1]), (((2, 0), (0, 0), (1, 3)), [1]), (((0, 0), (1, 2), (0, 0)), [1]), (((0, 3), (3, 3), (0, 2)), [2]), (((3, 0), (3, 0), (2, 2)), [2]), (((3, 2), (2, 2), (1, 1)), [2]), (((1, 2), (0, 3), (1, 2)), [1])]\n",
      "[((0, 2), (3, 1), (3, 2)), ((0, 1), (0, 2), (1, 2)), ((1, 0), (2, 2), (1, 0)), ((1, 0), (2, 0), (1, 3)), ((2, 1), (1, 3), (2, 2)), ((0, 2), (2, 2), (2, 2)), ((2, 1), (1, 1), (3, 3)), ((2, 3), (2, 0), (3, 1)), ((1, 2), (0, 3), (1, 1)), ((0, 2), (2, 1), (0, 0)), ((2, 0), (2, 1), (1, 3)), ((1, 2), (2, 3), (2, 0)), ((2, 2), (1, 2), (2, 1)), ((2, 3), (1, 3), (2, 0)), ((2, 1), (3, 3), (0, 0)), ((3, 0), (1, 2), (3, 0)), ((1, 1), (3, 3), (3, 0)), ((3, 1), (1, 0), (3, 2)), ((3, 0), (1, 3), (0, 3)), ((2, 0), (2, 1), (2, 2)), ((2, 0), (3, 2), (3, 1)), ((1, 1), (2, 3), (1, 0)), ((1, 0), (1, 1), (1, 1)), ((0, 1), (2, 0), (0, 2)), ((2, 1), (2, 2), (2, 0)), ((0, 0), (0, 2), (2, 0)), ((1, 0), (0, 1), (0, 2)), ((2, 0), (3, 1), (1, 0)), ((2, 3), (0, 2), (3, 0)), ((3, 1), (3, 1), (3, 2)), ((2, 2), (3, 3), (1, 2)), ((1, 2), (3, 2), (0, 0)), ((1, 3), (0, 0), (3, 0)), ((3, 3), (0, 0), (0, 2)), ((3, 3), (2, 2), (2, 0)), ((0, 1), (0, 3), (1, 3)), ((2, 3), (2, 2), (1, 1)), ((1, 1), (3, 3), (3, 3)), ((2, 1), (0, 2), (3, 0)), ((0, 2), (1, 3), (3, 1)), ((3, 1), (0, 3), (0, 2)), ((0, 1), (2, 3), (3, 0)), ((2, 0), (0, 0), (1, 3)), ((0, 0), (1, 2), (0, 0)), ((1, 2), (0, 3), (1, 2))]\n"
     ]
    }
   ],
   "source": [
    "rels = [1, 2]\n",
    "class Tuple: # класс кортежа, который хранит данные и имя представления из массива rels выше\n",
    "  def __init__(self, data: tuple, rel_id: int):\n",
    "    self.data = data\n",
    "    self.rel_id = rel_id\n",
    "\n",
    "def get_random_tuple(count):\n",
    "  data = tuple([(random.randint(0, 3), random.randint(0, 3)) for i in range(count)])\n",
    "  rel_id = rels[random.randint(0, len(rels) - 1)]\n",
    "  return Tuple(data, rel_id)\n",
    "\n",
    "\n",
    "def RECORDREADER(count):\n",
    "    return [get_random_tuple(3) for i in range(count)]\n",
    "\n",
    "def MAP(t: Tuple):\n",
    "  return (t.data, t.rel_id)\n",
    "\n",
    "def REDUCE(key, values: Iterator[NamedTuple]):\n",
    "  if values == [rels[0]]: # если соответствующее значение является списком  [R] , создайте пару  (t,t)\n",
    "    return (key, key)\n",
    "\n",
    "def group_by_key(iterable):\n",
    "  t = {}\n",
    "  for (k2, v2) in iterable:\n",
    "    t[k2] = t.get(k2, []) + [v2]\n",
    "  return t.items()\n",
    "\n",
    "record = RECORDREADER(100)\n",
    "print(record)\n",
    "map_output = list(map(lambda x: MAP(x), RECORDREADER(100)))\n",
    "print(map_output)\n",
    "\n",
    "shuffle_output = group_by_key(map_output)\n",
    "shuffle_output = list(shuffle_output)\n",
    "\n",
    "print(shuffle_output)\n",
    "\n",
    "reduce_output = [el[0] for el in list(map(lambda x: REDUCE(*x), shuffle_output)) if el is not None]\n",
    "print(reduce_output)"
   ]
  },
  {
   "cell_type": "markdown",
   "metadata": {
    "id": "j8I58V2VwhSm"
   },
   "source": [
    "### Natural Join\n",
    "\n",
    "**The Map Function:** Для каждого кортежа $(a, b)$ отношения $R$, создайте пару $(b,(R, a))$. Для каждого кортежа $(b, c)$ отношения $S$, создайте пару $(b,(S, c))$.\n",
    "\n",
    "**The Reduce Function:** Каждый ключ $b$ будет асоциирован со списком пар, которые принимают форму либо $(R, a)$, либо $(S, c)$. Создайте все пары, одни, состоящие из  первого компонента $R$, а другие, из первого компонента $S$, то есть $(R, a)$ и $(S, c)$. На выходе вы получаете последовательность пар ключ-значение из списков ключей и значений. Ключ не нужен. Каждое значение, это тройка $(a, b, c)$ такая, что $(R, a)$ и $(S, c)$ это принадлежат входному списку значений."
   ]
  },
  {
   "cell_type": "code",
   "execution_count": 31,
   "metadata": {
    "colab": {
     "base_uri": "https://localhost:8080/"
    },
    "id": "yHiuuTctw86I",
    "outputId": "44df5b37-09ad-4e8c-99fe-9c14c2d6924d"
   },
   "outputs": [
    {
     "name": "stdout",
     "output_type": "stream",
     "text": [
      "[<__main__.Tuple object at 0x000001C367FA7A60>, <__main__.Tuple object at 0x000001C367FA7C10>, <__main__.Tuple object at 0x000001C367FA7A90>, <__main__.Tuple object at 0x000001C367FB4F70>, <__main__.Tuple object at 0x000001C367FB4DC0>, <__main__.Tuple object at 0x000001C367FB4C40>, <__main__.Tuple object at 0x000001C367FB4AF0>, <__main__.Tuple object at 0x000001C367FB4430>, <__main__.Tuple object at 0x000001C367FB4250>, <__main__.Tuple object at 0x000001C367FB4CA0>, <__main__.Tuple object at 0x000001C367FB4AC0>, <__main__.Tuple object at 0x000001C367FD3880>, <__main__.Tuple object at 0x000001C367FD35E0>, <__main__.Tuple object at 0x000001C367FD38E0>, <__main__.Tuple object at 0x000001C367FD3850>, <__main__.Tuple object at 0x000001C367FD3B80>, <__main__.Tuple object at 0x000001C367FD3730>, <__main__.Tuple object at 0x000001C367FD3EB0>, <__main__.Tuple object at 0x000001C367FD3A90>, <__main__.Tuple object at 0x000001C367FD3FD0>, <__main__.Tuple object at 0x000001C367FD3B50>, <__main__.Tuple object at 0x000001C367FD3A60>, <__main__.Tuple object at 0x000001C367FD3AC0>, <__main__.Tuple object at 0x000001C367FD3D00>, <__main__.Tuple object at 0x000001C367FD3D90>, <__main__.Tuple object at 0x000001C367FD3610>, <__main__.Tuple object at 0x000001C367FD3CA0>, <__main__.Tuple object at 0x000001C367FBEC10>, <__main__.Tuple object at 0x000001C367FBE6D0>, <__main__.Tuple object at 0x000001C367FBE400>, <__main__.Tuple object at 0x000001C358B92A90>, <__main__.Tuple object at 0x000001C358B923D0>, <__main__.Tuple object at 0x000001C358B927C0>, <__main__.Tuple object at 0x000001C358B924C0>, <__main__.Tuple object at 0x000001C358B92670>, <__main__.Tuple object at 0x000001C358B92880>, <__main__.Tuple object at 0x000001C358B92A00>, <__main__.Tuple object at 0x000001C358B92700>, <__main__.Tuple object at 0x000001C358B92940>, <__main__.Tuple object at 0x000001C358B92340>, <__main__.Tuple object at 0x000001C358B929A0>, <__main__.Tuple object at 0x000001C358B92610>, <__main__.Tuple object at 0x000001C358B92790>, <__main__.Tuple object at 0x000001C358B925B0>, <__main__.Tuple object at 0x000001C358B92400>, <__main__.Tuple object at 0x000001C358B92370>, <__main__.Tuple object at 0x000001C358B92730>, <__main__.Tuple object at 0x000001C358B92DC0>, <__main__.Tuple object at 0x000001C358B92E20>, <__main__.Tuple object at 0x000001C358B928B0>, <__main__.Tuple object at 0x000001C358B924F0>, <__main__.Tuple object at 0x000001C358B925E0>, <__main__.Tuple object at 0x000001C367FB6880>, <__main__.Tuple object at 0x000001C367FB63D0>, <__main__.Tuple object at 0x000001C367FB60D0>, <__main__.Tuple object at 0x000001C367FB67C0>, <__main__.Tuple object at 0x000001C367FB66A0>, <__main__.Tuple object at 0x000001C367FB63A0>, <__main__.Tuple object at 0x000001C367FB6340>, <__main__.Tuple object at 0x000001C367FB6A30>, <__main__.Tuple object at 0x000001C367FB6DC0>, <__main__.Tuple object at 0x000001C367FB6BE0>, <__main__.Tuple object at 0x000001C367FB65E0>, <__main__.Tuple object at 0x000001C367FB6B80>, <__main__.Tuple object at 0x000001C367FB6370>, <__main__.Tuple object at 0x000001C367FB6460>, <__main__.Tuple object at 0x000001C367FB6760>, <__main__.Tuple object at 0x000001C367FB6910>, <__main__.Tuple object at 0x000001C367FB6E80>, <__main__.Tuple object at 0x000001C367FB6430>, <__main__.Tuple object at 0x000001C367FB6670>, <__main__.Tuple object at 0x000001C367FB6220>, <__main__.Tuple object at 0x000001C367FB6B50>, <__main__.Tuple object at 0x000001C367FB6A00>, <__main__.Tuple object at 0x000001C367FB6310>, <__main__.Tuple object at 0x000001C367FB6640>, <__main__.Tuple object at 0x000001C367FB6D00>, <__main__.Tuple object at 0x000001C367FB6280>, <__main__.Tuple object at 0x000001C367FB68B0>, <__main__.Tuple object at 0x000001C367FB6550>, <__main__.Tuple object at 0x000001C367FB6DF0>, <__main__.Tuple object at 0x000001C367FB61F0>, <__main__.Tuple object at 0x000001C367FB6AF0>, <__main__.Tuple object at 0x000001C367FB6FD0>, <__main__.Tuple object at 0x000001C367FB62B0>, <__main__.Tuple object at 0x000001C367FCF6D0>, <__main__.Tuple object at 0x000001C367FCFDF0>, <__main__.Tuple object at 0x000001C367FCF8B0>, <__main__.Tuple object at 0x000001C367FCF910>, <__main__.Tuple object at 0x000001C367FCF370>, <__main__.Tuple object at 0x000001C367FCF8E0>, <__main__.Tuple object at 0x000001C367FCF520>, <__main__.Tuple object at 0x000001C367FCFFD0>, <__main__.Tuple object at 0x000001C367FCFD60>, <__main__.Tuple object at 0x000001C367FCFAF0>, <__main__.Tuple object at 0x000001C367FCF640>, <__main__.Tuple object at 0x000001C367FCFD90>, <__main__.Tuple object at 0x000001C367FCFE50>, <__main__.Tuple object at 0x000001C367FCFBB0>, <__main__.Tuple object at 0x000001C367FCF0A0>]\n",
      "[(0, (1, 0)), (0, (2, 3)), (0, (1, 3)), (2, (1, 1)), (1, (1, 2)), (0, (2, 3)), (0, (1, 1)), (3, (1, 3)), (2, (1, 3)), (3, (2, 0)), (2, (2, 2)), (2, (2, 2)), (1, (2, 3)), (1, (2, 2)), (1, (1, 1)), (2, (2, 2)), (1, (2, 2)), (0, (1, 1)), (2, (1, 3)), (3, (2, 0)), (2, (1, 0)), (3, (1, 1)), (0, (1, 1)), (0, (2, 3)), (0, (1, 1)), (2, (2, 0)), (1, (2, 0)), (1, (1, 2)), (1, (2, 1)), (0, (2, 1)), (1, (1, 3)), (2, (2, 1)), (0, (1, 2)), (1, (2, 0)), (1, (2, 1)), (1, (2, 3)), (0, (2, 3)), (0, (2, 2)), (2, (1, 0)), (3, (2, 3)), (1, (1, 3)), (1, (1, 3)), (2, (2, 2)), (0, (1, 1)), (1, (1, 1)), (2, (1, 0)), (0, (2, 2)), (3, (1, 0)), (0, (2, 0)), (3, (1, 0)), (1, (2, 1)), (1, (1, 3)), (0, (1, 0)), (2, (1, 0)), (3, (1, 0)), (3, (1, 3)), (1, (1, 0)), (2, (2, 0)), (1, (1, 3)), (1, (2, 3)), (3, (2, 1)), (0, (1, 0)), (2, (1, 2)), (1, (1, 1)), (0, (2, 2)), (3, (1, 0)), (2, (1, 1)), (0, (2, 3)), (2, (2, 1)), (3, (2, 2)), (1, (2, 1)), (0, (2, 1)), (1, (2, 3)), (1, (1, 0)), (1, (2, 0)), (0, (2, 1)), (0, (1, 3)), (3, (1, 1)), (1, (1, 1)), (3, (1, 2)), (2, (2, 3)), (2, (1, 0)), (3, (2, 2)), (0, (2, 0)), (3, (2, 1)), (0, (2, 3)), (3, (2, 3)), (2, (2, 2)), (3, (2, 1)), (1, (2, 0)), (0, (2, 2)), (2, (2, 2)), (3, (1, 3)), (2, (1, 3)), (3, (2, 0)), (3, (2, 1)), (3, (1, 3)), (3, (2, 3)), (0, (2, 0)), (0, (1, 3))]\n",
      "[(0, [(1, 0), (2, 3), (1, 3), (2, 3), (1, 1), (1, 1), (1, 1), (2, 3), (1, 1), (2, 1), (1, 2), (2, 3), (2, 2), (1, 1), (2, 2), (2, 0), (1, 0), (1, 0), (2, 2), (2, 3), (2, 1), (2, 1), (1, 3), (2, 0), (2, 3), (2, 2), (2, 0), (1, 3)]), (2, [(1, 1), (1, 3), (2, 2), (2, 2), (2, 2), (1, 3), (1, 0), (2, 0), (2, 1), (1, 0), (2, 2), (1, 0), (1, 0), (2, 0), (1, 2), (1, 1), (2, 1), (2, 3), (1, 0), (2, 2), (2, 2), (1, 3)]), (1, [(1, 2), (2, 3), (2, 2), (1, 1), (2, 2), (2, 0), (1, 2), (2, 1), (1, 3), (2, 0), (2, 1), (2, 3), (1, 3), (1, 3), (1, 1), (2, 1), (1, 3), (1, 0), (1, 3), (2, 3), (1, 1), (2, 1), (2, 3), (1, 0), (2, 0), (1, 1), (2, 0)]), (3, [(1, 3), (2, 0), (2, 0), (1, 1), (2, 3), (1, 0), (1, 0), (1, 0), (1, 3), (2, 1), (1, 0), (2, 2), (1, 1), (1, 2), (2, 2), (2, 1), (2, 3), (2, 1), (1, 3), (2, 0), (2, 1), (1, 3), (2, 3)])]\n",
      "[[(1, 0, 0), (2, 0, 3), (1, 0, 3), (2, 0, 3), (1, 0, 1), (1, 0, 1), (1, 0, 1), (2, 0, 3), (1, 0, 1), (2, 0, 1), (1, 0, 2), (2, 0, 3), (2, 0, 2), (1, 0, 1), (2, 0, 2), (2, 0, 0), (1, 0, 0), (1, 0, 0), (2, 0, 2), (2, 0, 3), (2, 0, 1), (2, 0, 1), (1, 0, 3), (2, 0, 0), (2, 0, 3), (2, 0, 2), (2, 0, 0), (1, 0, 3)], [(1, 2, 1), (1, 2, 3), (2, 2, 2), (2, 2, 2), (2, 2, 2), (1, 2, 3), (1, 2, 0), (2, 2, 0), (2, 2, 1), (1, 2, 0), (2, 2, 2), (1, 2, 0), (1, 2, 0), (2, 2, 0), (1, 2, 2), (1, 2, 1), (2, 2, 1), (2, 2, 3), (1, 2, 0), (2, 2, 2), (2, 2, 2), (1, 2, 3)], [(1, 1, 2), (2, 1, 3), (2, 1, 2), (1, 1, 1), (2, 1, 2), (2, 1, 0), (1, 1, 2), (2, 1, 1), (1, 1, 3), (2, 1, 0), (2, 1, 1), (2, 1, 3), (1, 1, 3), (1, 1, 3), (1, 1, 1), (2, 1, 1), (1, 1, 3), (1, 1, 0), (1, 1, 3), (2, 1, 3), (1, 1, 1), (2, 1, 1), (2, 1, 3), (1, 1, 0), (2, 1, 0), (1, 1, 1), (2, 1, 0)], [(1, 3, 3), (2, 3, 0), (2, 3, 0), (1, 3, 1), (2, 3, 3), (1, 3, 0), (1, 3, 0), (1, 3, 0), (1, 3, 3), (2, 3, 1), (1, 3, 0), (2, 3, 2), (1, 3, 1), (1, 3, 2), (2, 3, 2), (2, 3, 1), (2, 3, 3), (2, 3, 1), (1, 3, 3), (2, 3, 0), (2, 3, 1), (1, 3, 3), (2, 3, 3)]]\n"
     ]
    }
   ],
   "source": [
    "rels = [1, 2]\n",
    "class Tuple: # класс кортежа, который хранит данные и имя представления из массива rels выше\n",
    "  def __init__(self, data: tuple, rel_id: int):\n",
    "    self.data = data\n",
    "    self.rel_id = rel_id\n",
    "\n",
    "def get_random_tuple():\n",
    "  data = (random.randint(0, 3), random.randint(0, 3))\n",
    "  rel_id = rels[random.randint(0, len(rels) - 1)]\n",
    "  return Tuple(data, rel_id)\n",
    "\n",
    "\n",
    "def RECORDREADER(count):\n",
    "  return [get_random_tuple() for i in range(count)]\n",
    "\n",
    "def MAP(t: Tuple):\n",
    "  if t.rel_id == rels[0]:\n",
    "    return (t.data[1], (t.rel_id, t.data[0]))\n",
    "  else:\n",
    "    return (t.data[0], (t.rel_id, t.data[1]))\n",
    "\n",
    "def REDUCE(key, values: Iterator[NamedTuple]):\n",
    "  res = []\n",
    "  for v in values:\n",
    "    res.append((v[0], key, v[1]))\n",
    "  return res\n",
    "\n",
    "def group_by_key(iterable):\n",
    "  t = {}\n",
    "  for (k2, v2) in iterable:\n",
    "    t[k2] = t.get(k2, []) + [v2]\n",
    "  return t.items()\n",
    "\n",
    "record = RECORDREADER(100)\n",
    "print(record)\n",
    "map_output = list(map(lambda x: MAP(x), RECORDREADER(100)))\n",
    "print(map_output)\n",
    "\n",
    "shuffle_output = group_by_key(map_output)\n",
    "shuffle_output = list(shuffle_output)\n",
    "\n",
    "print(shuffle_output)\n",
    "\n",
    "reduce_output = list(map(lambda x: REDUCE(*x), shuffle_output))\n",
    "print(reduce_output)"
   ]
  },
  {
   "cell_type": "markdown",
   "metadata": {
    "id": "kYdlr0YUxE27"
   },
   "source": [
    "### Grouping and Aggregation (Группировка и аггрегация)\n",
    "\n",
    "**The Map Function:** Для каждого кортежа $(a, b, c$) создайте пару $(a, b)$.\n",
    "\n",
    "**The Reduce Function:** Ключ представляет ту или иную группу. Примение аггрегирующую операцию $\\theta$ к списку значений $[b1, b2, . . . , bn]$ ассоциированных с ключом $a$. Возвращайте в выходной поток $(a, x)$, где $x$ результат применения  $\\theta$ к списку. Например, если $\\theta$ это $SUM$, тогда $x = b1 + b2 + · · · + bn$, а если $\\theta$ is $MAX$, тогда $x$ это максимальное из значений $b1, b2, . . . , bn$."
   ]
  },
  {
   "cell_type": "code",
   "execution_count": 32,
   "metadata": {
    "colab": {
     "base_uri": "https://localhost:8080/"
    },
    "id": "MLPckfEGxico",
    "outputId": "798fe3a0-3aa1-4e60-c98f-92a49cee93ec"
   },
   "outputs": [
    {
     "name": "stdout",
     "output_type": "stream",
     "text": [
      "[(1, 0, 3), (1, 0, 3), (1, 1, 1), (0, 1, 2), (0, 2, 0), (1, 0, 0), (2, 2, 0), (2, 3, 0), (0, 0, 3), (0, 0, 2), (0, 2, 3), (1, 1, 0), (1, 1, 2), (2, 1, 3), (1, 0, 0), (2, 2, 2), (0, 0, 0), (0, 3, 0), (3, 3, 2), (2, 2, 1), (1, 3, 0), (0, 2, 3), (1, 0, 1), (3, 3, 2), (1, 0, 3), (1, 3, 2), (3, 1, 3), (2, 3, 3), (3, 2, 0), (3, 1, 2), (0, 3, 1), (1, 1, 1), (3, 0, 2), (0, 2, 3), (3, 2, 2), (1, 2, 1), (1, 2, 1), (0, 2, 3), (2, 2, 1), (3, 2, 3), (1, 2, 2), (3, 1, 3), (2, 3, 2), (2, 3, 3), (1, 3, 3), (2, 0, 2), (1, 1, 3), (2, 3, 2), (2, 2, 1), (2, 3, 2), (1, 1, 1), (2, 2, 3), (3, 0, 0), (0, 0, 3), (2, 1, 3), (0, 2, 2), (2, 1, 0), (3, 1, 3), (1, 2, 3), (1, 3, 3), (1, 2, 0), (1, 1, 0), (0, 3, 0), (0, 0, 2), (3, 1, 3), (2, 1, 1), (3, 1, 3), (2, 1, 1), (3, 0, 2), (3, 3, 1), (1, 3, 0), (3, 3, 3), (0, 1, 1), (0, 2, 0), (3, 2, 2), (1, 3, 0), (2, 1, 3), (0, 1, 0), (3, 0, 1), (0, 0, 0), (3, 2, 0), (0, 3, 0), (3, 0, 1), (1, 3, 3), (1, 0, 1), (2, 3, 0), (2, 0, 0), (1, 1, 1), (3, 0, 3), (1, 3, 1), (0, 2, 2), (0, 0, 1), (0, 0, 2), (1, 2, 0), (0, 3, 3), (2, 0, 1), (0, 0, 3), (2, 3, 3), (2, 2, 2), (3, 3, 2)]\n",
      "[(0, 1), (0, 1), (2, 0), (3, 2), (2, 2), (0, 2), (0, 0), (3, 3), (3, 1), (2, 1), (2, 0), (2, 0), (2, 1), (0, 2), (1, 3), (2, 0), (0, 2), (3, 1), (2, 1), (2, 3), (1, 0), (1, 1), (3, 0), (1, 1), (3, 3), (2, 1), (3, 1), (1, 0), (3, 1), (1, 3), (3, 2), (0, 0), (3, 0), (2, 2), (3, 1), (3, 0), (2, 3), (2, 1), (0, 3), (2, 2), (2, 3), (0, 3), (2, 1), (0, 3), (0, 1), (3, 2), (2, 1), (0, 3), (1, 0), (1, 3), (0, 3), (3, 2), (3, 1), (2, 3), (1, 3), (0, 1), (0, 2), (3, 3), (3, 3), (0, 1), (3, 3), (2, 0), (3, 0), (0, 3), (2, 2), (0, 0), (2, 1), (1, 0), (0, 2), (0, 3), (1, 3), (3, 0), (0, 2), (2, 1), (0, 1), (2, 3), (1, 3), (0, 0), (1, 2), (3, 0), (3, 1), (2, 2), (1, 0), (0, 3), (3, 3), (1, 3), (0, 0), (3, 0), (2, 3), (2, 2), (3, 2), (2, 0), (1, 0), (0, 3), (3, 2), (3, 0), (0, 3), (2, 2), (0, 1), (3, 2)]\n",
      "[(0, [1, 1, 2, 0, 2, 2, 0, 3, 3, 3, 1, 3, 3, 1, 2, 1, 3, 0, 2, 3, 2, 1, 0, 3, 0, 3, 3, 1]), (2, [0, 2, 1, 0, 0, 1, 0, 1, 3, 1, 2, 3, 1, 2, 3, 1, 1, 3, 0, 2, 1, 1, 3, 2, 3, 2, 0, 2]), (3, [2, 3, 1, 1, 0, 3, 1, 1, 2, 0, 1, 0, 2, 2, 1, 3, 3, 3, 0, 0, 0, 1, 3, 0, 2, 2, 0, 2]), (1, [3, 0, 1, 1, 0, 3, 0, 3, 3, 0, 3, 3, 2, 0, 3, 0])]\n",
      "[(0, 49), (2, 41), (3, 39), (1, 25)]\n"
     ]
    }
   ],
   "source": [
    "def get_random_tuple():\n",
    "  return (random.randint(0, 3), random.randint(0, 3), random.randint(0, 3))\n",
    "\n",
    "def RECORDREADER(count):\n",
    "  return [get_random_tuple() for i in range(count)]\n",
    "\n",
    "def MAP(t: Tuple):\n",
    "  return (t[0], t[1])\n",
    "\n",
    "def tetta(values):\n",
    "  return sum(values)\n",
    "\n",
    "\n",
    "def REDUCE(key, values: Iterator[NamedTuple]):\n",
    "  x = tetta(values)\n",
    "  return (key, x)\n",
    "\n",
    "def group_by_key(iterable):\n",
    "  t = {}\n",
    "  for (k2, v2) in iterable:\n",
    "    t[k2] = t.get(k2, []) + [v2]\n",
    "  return t.items()\n",
    "\n",
    "record = RECORDREADER(100)\n",
    "print(record)\n",
    "map_output = list(map(lambda x: MAP(x), RECORDREADER(100)))\n",
    "print(map_output)\n",
    "\n",
    "shuffle_output = group_by_key(map_output)\n",
    "shuffle_output = list(shuffle_output)\n",
    "\n",
    "print(shuffle_output)\n",
    "\n",
    "reduce_output = list(map(lambda x: REDUCE(*x), shuffle_output))\n",
    "print(reduce_output)"
   ]
  },
  {
   "cell_type": "markdown",
   "metadata": {
    "id": "03IffTEOJgOb"
   },
   "source": [
    "#"
   ]
  },
  {
   "cell_type": "markdown",
   "metadata": {
    "id": "IIrRgvG4RIS4"
   },
   "source": [
    "### Matrix-Vector multiplication\n",
    "\n",
    "Случай, когда вектор не помещается в памяти Map задачи\n"
   ]
  },
  {
   "cell_type": "code",
   "execution_count": null,
   "metadata": {
    "id": "KQhDbiL3zS9r"
   },
   "outputs": [],
   "source": []
  },
  {
   "cell_type": "markdown",
   "metadata": {
    "id": "GIo2t7nNxvA9"
   },
   "source": [
    "## Matrix multiplication (Перемножение матриц)\n",
    "\n",
    "Если у нас есть матрица $M$ с элементами $m_{ij}$ в строке $i$ и столбце $j$, и матрица $N$ с элементами $n_{jk}$ в строке $j$ и столбце $k$, тогда их произведение $P = MN$ есть матрица $P$ с элементами $p_{ik}$ в строке $i$ и столбце $k$, где\n",
    "\n",
    "$$p_{ik} =\\sum_{j} m_{ij}n_{jk}$$\n",
    "\n",
    "Необходимым требованием является одинаковое количество столбцов в $M$ и строк в $N$, чтобы операция суммирования по  $j$ была осмысленной. Мы можем размышлять о матрице, как об отношении с тремя атрибутами: номер строки, номер столбца, само значение. Таким образом матрица $M$ предстваляется как отношение $ M(I, J, V )$, с кортежами $(i, j, m_{ij})$, и, аналогично, матрица $N$ представляется как отношение $N(J, K, W)$, с кортежами $(j, k, n_{jk})$. Так как большие матрицы как правило разреженные (большинство значений равно 0), и так как мы можем нулевыми значениями пренебречь (не хранить), такое реляционное представление достаточно эффективно для больших матриц. Однако, возможно, что координаты $i$, $j$, и $k$ неявно закодированы в смещение позиции элемента относительно начала файла, вместо явного хранения. Тогда, функция Map (или Reader) должна быть разработана таким образом, чтобы реконструировать компоненты $I$, $J$, и $K$ кортежей из смещения.\n",
    "\n",
    "Произведение $MN$ это фактически join, за которым следуют группировка по ключу и аггрегация. Таким образом join отношений $M(I, J, V )$ и $N(J, K, W)$, имеющих общим только атрибут $J$, создаст кортежи $(i, j, k, v, w)$ из каждого кортежа $(i, j, v) \\in M$ и кортежа $(j, k, w) \\in N$. Такой 5 компонентный кортеж представляет пару элементов матрицы $(m_{ij} , n_{jk})$. Что нам хотелось бы получить на самом деле, это произведение этих элементов, то есть, 4 компонентный кортеж$(i, j, k, v \\times w)$, так как он представляет произведение $m_{ij}n_{jk}$. Мы представляем отношение как результат одной MapReduce операции, в которой мы можем произвести группировку и аггрегацию, с $I$ и $K$  атрибутами, по которым идёт группировка, и суммой  $V \\times W$.\n",
    "\n",
    "\n",
    "\n"
   ]
  },
  {
   "cell_type": "code",
   "execution_count": 33,
   "metadata": {
    "id": "1MBkGaLAYVCt"
   },
   "outputs": [],
   "source": [
    "# MapReduce model\n",
    "def flatten(nested_iterable):\n",
    "  for iterable in nested_iterable:\n",
    "    for element in iterable:\n",
    "      yield element\n",
    "\n",
    "def groupbykey(iterable):\n",
    "  t = {}\n",
    "  for (k2, v2) in iterable:\n",
    "    t[k2] = t.get(k2, []) + [v2]\n",
    "  return t.items()\n",
    "\n",
    "def MapReduce(RECORDREADER, MAP, REDUCE):\n",
    "  return flatten(map(lambda x: REDUCE(*x), groupbykey(flatten(map(lambda x: MAP(*x), RECORDREADER())))))"
   ]
  },
  {
   "cell_type": "markdown",
   "metadata": {
    "id": "sMspsOT0ZB35"
   },
   "source": [
    "Реализуйте перемножение матриц с использованием модельного кода MapReduce для одной машины в случае, когда одна матрица хранится в памяти, а другая генерируется RECORDREADER-ом."
   ]
  },
  {
   "cell_type": "code",
   "execution_count": 34,
   "metadata": {
    "id": "psP1XekbsEjS"
   },
   "outputs": [],
   "source": [
    "import numpy as np\n",
    "I = 2\n",
    "J = 3\n",
    "K = 4*10\n",
    "small_mat = np.random.rand(I,J) # it is legal to access this from RECORDREADER, MAP, REDUCE\n",
    "big_mat = np.random.rand(J,K)\n",
    "\n",
    "def RECORDREADER():\n",
    "  for j in range(big_mat.shape[0]):\n",
    "    for k in range(big_mat.shape[1]):\n",
    "      yield ((j, k), big_mat[j,k])\n",
    "\n",
    "def MAP(k1, v1):\n",
    "  (j, k) = k1\n",
    "  w = v1\n",
    "  for i in range(small_mat.shape[0]):\n",
    "    yield ((i, k), w * small_mat[i][j])\n",
    "\n",
    "def REDUCE(key, values):\n",
    "  (i, k) = key\n",
    "  el_value = 0\n",
    "  for v in values:\n",
    "    el_value += v\n",
    "  yield ((i, k), el_value)"
   ]
  },
  {
   "cell_type": "markdown",
   "metadata": {
    "id": "rnt306LHhHrm"
   },
   "source": [
    "Проверьте своё решение"
   ]
  },
  {
   "cell_type": "code",
   "execution_count": 35,
   "metadata": {
    "colab": {
     "base_uri": "https://localhost:8080/"
    },
    "id": "Ewy_ZNYqW5a2",
    "outputId": "b70a696d-8fa9-4940-a6a7-8183af3a3893"
   },
   "outputs": [
    {
     "data": {
      "text/plain": [
       "True"
      ]
     },
     "execution_count": 35,
     "metadata": {},
     "output_type": "execute_result"
    }
   ],
   "source": [
    "# CHECK THE SOLUTION\n",
    "reference_solution = np.matmul(small_mat, big_mat)\n",
    "solution = MapReduce(RECORDREADER, MAP, REDUCE)\n",
    "\n",
    "def asmatrix(reduce_output):\n",
    "  reduce_output = list(reduce_output)\n",
    "  I = max(i for ((i,k), vw) in reduce_output)+1\n",
    "  K = max(k for ((i,k), vw) in reduce_output)+1\n",
    "  mat = np.empty(shape=(I,K))\n",
    "  for ((i,k), vw) in reduce_output:\n",
    "    mat[i,k] = vw\n",
    "  return mat\n",
    "\n",
    "np.allclose(reference_solution, asmatrix(solution)) # should return true"
   ]
  },
  {
   "cell_type": "code",
   "execution_count": 36,
   "metadata": {
    "colab": {
     "base_uri": "https://localhost:8080/"
    },
    "id": "TK7v4CEcfxqf",
    "outputId": "80c5f156-ef28-4eda-e568-9a60af8694ce"
   },
   "outputs": [
    {
     "data": {
      "text/plain": [
       "1"
      ]
     },
     "execution_count": 36,
     "metadata": {},
     "output_type": "execute_result"
    }
   ],
   "source": [
    "reduce_output = list(MapReduce(RECORDREADER, MAP, REDUCE))\n",
    "max(i for ((i,k), vw) in reduce_output)"
   ]
  },
  {
   "cell_type": "markdown",
   "metadata": {
    "id": "i4yyg3kOZqJJ"
   },
   "source": [
    "Реализуйте перемножение матриц  с использованием модельного кода MapReduce для одной машины в случае, когда обе матрицы генерируются в RECORDREADER. Например, сначала одна, а потом другая."
   ]
  },
  {
   "cell_type": "code",
   "execution_count": 37,
   "metadata": {
    "colab": {
     "base_uri": "https://localhost:8080/"
    },
    "id": "3B7rIAJCaHZq",
    "outputId": "bc583b0c-8f00-4ed2-c8d3-aa7c80afee0c"
   },
   "outputs": [
    {
     "data": {
      "text/plain": [
       "True"
      ]
     },
     "execution_count": 37,
     "metadata": {},
     "output_type": "execute_result"
    }
   ],
   "source": [
    "import numpy as np\n",
    "I = 2\n",
    "J = 3\n",
    "K = 4*10\n",
    "small_mat = np.random.rand(I,J)\n",
    "big_mat = np.random.rand(J,K)\n",
    "reference_solution = np.matmul(small_mat, big_mat)\n",
    "\n",
    "def RECORDREADER():\n",
    "  for i in range(small_mat.shape[0]):\n",
    "    for j in range(small_mat.shape[1]):\n",
    "      yield ((0, i, j), small_mat[i,j]) # первая матрица\n",
    "\n",
    "  for j in range(big_mat.shape[0]):\n",
    "    for k in range(big_mat.shape[1]):\n",
    "      yield ((1, j, k), big_mat[j,k]) # вторая матрица\n",
    "\n",
    "def MAP_JOIN(k1, v1):\n",
    "  (mat_num, i, j) = k1\n",
    "  w = v1\n",
    "  if mat_num == 0:\n",
    "    yield (j, (mat_num, i, w))\n",
    "  else:\n",
    "    yield (i, (mat_num, j, w))\n",
    "\n",
    "\n",
    "def REDUCE_JOIN(key, values):\n",
    "  from_first_mat = [v for v in values if v[0] == 0]\n",
    "  from_second_mat = [v for v in values if v[0] == 1]\n",
    "  for f in from_first_mat:\n",
    "    for s in from_second_mat:\n",
    "      yield ((f[1], s[1]), f[2] * s[2])\n",
    "\n",
    "\n",
    "def MAP_MUL(k1, v1):\n",
    "  (i, k) = k1\n",
    "  yield ((i, k), v1)\n",
    "\n",
    "\n",
    "def REDUCE_MUL(key, values):\n",
    "  res_el_value = 0\n",
    "  for v in values:\n",
    "    res_el_value += v\n",
    "  yield (key, res_el_value)\n",
    "\n",
    "\n",
    "def GET_JOINED():\n",
    "  for j in joined:\n",
    "    yield j\n",
    "\n",
    "joined = MapReduce(RECORDREADER, MAP_JOIN, REDUCE_JOIN)\n",
    "solution = MapReduce(GET_JOINED, MAP_MUL, REDUCE_MUL)\n",
    "np.allclose(reference_solution, asmatrix(solution)) # should return true"
   ]
  },
  {
   "cell_type": "markdown",
   "metadata": {
    "id": "mXyzQi1DaIwo"
   },
   "source": [
    "Реализуйте перемножение матриц с использованием модельного кода MapReduce Distributed, когда каждая матрица генерируется в своём RECORDREADER."
   ]
  },
  {
   "cell_type": "code",
   "execution_count": 38,
   "metadata": {
    "colab": {
     "base_uri": "https://localhost:8080/"
    },
    "id": "TDM_s78Rb5eR",
    "outputId": "b1b15bdd-541f-4d09-b155-ec16db5b905e"
   },
   "outputs": [
    {
     "name": "stdout",
     "output_type": "stream",
     "text": [
      "126 key-value pairs were sent over a network.\n",
      "[(0, [((0, 0), 0.013998545059063125), ((0, 1), 0.006146411005643418), ((0, 2), 0.0013094070280139968), ((0, 3), 0.006761229708196888), ((0, 4), 0.001640529289576924), ((0, 5), 0.002799185187369619), ((0, 6), 0.0105191523833935), ((0, 7), 0.0013711064884254377), ((0, 8), 0.013411951239838366), ((0, 9), 0.005426143970943269), ((0, 10), 0.007609049702543101), ((0, 11), 0.006972608712276354), ((0, 12), 0.003454543044118363), ((0, 13), 0.013734923700417226), ((0, 14), 0.00011522547046654885), ((0, 15), 0.009908856673628218), ((0, 16), 0.012300277275695567), ((0, 17), 0.013799111322498551), ((0, 18), 0.013437119711956177), ((0, 19), 0.0017433486286859733), ((0, 20), 0.0010128292848794714), ((0, 21), 0.004086297228970294), ((0, 22), 0.0003102038136482358), ((0, 23), 0.005563291398424726), ((0, 24), 0.0005735526644171284), ((0, 25), 0.01207463764694144), ((0, 26), 0.011518737208141352), ((0, 27), 0.010662534328019476), ((0, 28), 0.008448857997781917), ((0, 29), 0.005187936973873036), ((0, 30), 0.0035696083947617005), ((0, 31), 0.0028641525158209767), ((0, 32), 0.0010862624579781185), ((0, 33), 0.0003418553453386167), ((0, 34), 0.010643621526182881), ((0, 35), 0.005801520521354021), ((0, 36), 0.012334521167428182), ((0, 37), 0.006268822816143237), ((0, 38), 0.012567039556183077), ((0, 39), 0.008848954634097324), ((1, 0), 0.8209462838707906), ((1, 1), 0.3604569798458181), ((1, 2), 0.07679032565076657), ((1, 3), 0.39651309331946444), ((1, 4), 0.09620902873669784), ((1, 5), 0.16415853702949382), ((1, 6), 0.616896900512275), ((1, 7), 0.08040869759784343), ((1, 8), 0.7865454219239013), ((1, 9), 0.3182168368140325), ((1, 10), 0.44623359432962156), ((1, 11), 0.4089094393079354), ((1, 12), 0.20259207386017172), ((1, 13), 0.8054861789944482), ((1, 14), 0.006757410958614842), ((1, 15), 0.581106038470529), ((1, 16), 0.7213511745297352), ((1, 17), 0.8092504694686251), ((1, 18), 0.7880214298639154), ((1, 19), 0.10223888069598953), ((1, 20), 0.059397489818342614), ((1, 21), 0.23964137063964175), ((1, 22), 0.018191938303773265), ((1, 23), 0.32625986346132296), ((1, 24), 0.033636061924348655), ((1, 25), 0.7081185125682156), ((1, 26), 0.6755176674439854), ((1, 27), 0.6253055511340518), ((1, 28), 0.49548424832482413), ((1, 29), 0.3042471600932208), ((1, 30), 0.20934009457335143), ((1, 31), 0.16796855347335446), ((1, 32), 0.0637039866945408), ((1, 33), 0.020048146017532326), ((1, 34), 0.6241964076966569), ((1, 35), 0.34023083775568236), ((1, 36), 0.7233594114961165), ((1, 37), 0.36763583454162513), ((1, 38), 0.7369954791284716), ((1, 39), 0.5189479615454836), ((0, 0), 0.23438804103108238), ((0, 1), 0.017137264226021524), ((0, 2), 0.20335457446823096), ((0, 3), 0.023508080878235086), ((0, 4), 0.4278262002649454), ((0, 5), 0.48889438633944365), ((0, 6), 0.2935860677973556), ((0, 7), 0.5050979615941361), ((0, 8), 0.06935631410580015), ((0, 9), 0.00048444711622495776), ((0, 10), 0.49797655290978116), ((0, 11), 0.18309022677487521), ((0, 12), 0.3649542280550704), ((0, 13), 0.25881227589887124), ((0, 14), 0.1462718696444861), ((0, 15), 0.02869760459826969), ((0, 16), 0.28959156607131153), ((0, 17), 0.38910403651100384), ((0, 18), 0.28837462042637), ((0, 19), 0.5242014803483825), ((0, 20), 0.2692063731873702), ((0, 21), 0.15517554612512174), ((0, 22), 0.23318609371149646), ((0, 23), 0.12323694916580251), ((0, 24), 0.35024751134949683), ((0, 25), 0.2756943511100371), ((0, 26), 0.1913264105499605), ((0, 27), 0.381943557517119), ((0, 28), 0.16295848867064208), ((0, 29), 0.3280189193634425), ((0, 30), 0.051099897880585735), ((0, 31), 0.44699997001497255), ((0, 32), 0.3138039647617423), ((0, 33), 0.4927306542206963), ((0, 34), 0.06636913693358974), ((0, 35), 0.4066468003156872), ((0, 36), 0.48087991293086224), ((0, 37), 0.36950421146755824), ((0, 38), 0.28125115110886956), ((0, 39), 0.29898654191391166), ((1, 0), 0.10625999514587947), ((1, 1), 0.0077691916595233465), ((1, 2), 0.09219094967827772), ((1, 3), 0.010657406192831079), ((1, 4), 0.19395533050000857), ((1, 5), 0.22164063870642567), ((1, 6), 0.1330974652196861), ((1, 7), 0.2289865417667323), ((1, 8), 0.03144273729921699), ((1, 9), 0.000219624465446481), ((1, 10), 0.22575804576965613), ((1, 11), 0.08300409237080593), ((1, 12), 0.16545227448894168), ((1, 13), 0.11733274044071683), ((1, 14), 0.06631246240221214), ((1, 15), 0.013010080684560698), ((1, 16), 0.13128655485005952), ((1, 17), 0.17640060836302832), ((1, 18), 0.13073485162426596), ((1, 19), 0.23764713639931534), ((1, 20), 0.12204491228431029), ((1, 21), 0.07034895084868267), ((1, 22), 0.1057150914221956), ((1, 23), 0.05586956383331268), ((1, 24), 0.15878497338061068), ((1, 25), 0.12498624196792557), ((1, 26), 0.08673797249588054), ((1, 27), 0.17315439981166508), ((1, 28), 0.07387735372055948), ((1, 29), 0.1487076244418709), ((1, 30), 0.02316617723694323), ((1, 31), 0.2026477734745028), ((1, 32), 0.1422632640541528), ((1, 33), 0.22337981364319703), ((1, 34), 0.03008849827566174), ((1, 35), 0.1843536335623121), ((1, 36), 0.21800727114319018), ((1, 37), 0.16751501289998832), ((1, 38), 0.12750542143759935), ((1, 39), 0.1355457742327496)]), (1, [((0, 0), 0.10081141971317066), ((0, 1), 0.08830532819004047), ((0, 2), 0.07307535503236318), ((0, 3), 0.17924015061356272), ((0, 4), 0.10567121550373501), ((0, 5), 0.05815456105781246), ((0, 6), 0.04684439132974166), ((0, 7), 0.09122923622272457), ((0, 8), 0.005549859104590213), ((0, 9), 0.08762651348373746), ((0, 10), 0.13244473845560759), ((0, 11), 0.03716659601179695), ((0, 12), 0.06746354831866573), ((0, 13), 0.03410516664551607), ((0, 14), 0.09270376751768347), ((0, 15), 0.19531891306322863), ((0, 16), 0.047693380630196895), ((0, 17), 0.12548746962409663), ((0, 18), 0.19234353801936593), ((0, 19), 0.12895323984004786), ((0, 20), 0.12005229489674162), ((0, 21), 0.18698864909772317), ((0, 22), 0.1127333203335673), ((0, 23), 0.025994237150964092), ((0, 24), 0.07792329549613822), ((0, 25), 0.11879987257613812), ((0, 26), 0.15449988604938938), ((0, 27), 0.006518657078524871), ((0, 28), 0.04114211227262115), ((0, 29), 0.12824052642348313), ((0, 30), 0.15885689727293267), ((0, 31), 0.028696509921714783), ((0, 32), 0.1769817608059509), ((0, 33), 0.09275368675516549), ((0, 34), 0.13585200848389573), ((0, 35), 0.00671505065860508), ((0, 36), 0.031863776216918764), ((0, 37), 0.03837247665136558), ((0, 38), 0.09098785726104656), ((0, 39), 0.18947815490305406), ((1, 0), 0.44475784755261555), ((1, 1), 0.3895837178463883), ((1, 2), 0.322392420479829), ((1, 3), 0.790768186865241), ((1, 4), 0.4661981994641985), ((1, 5), 0.25656515377950473), ((1, 6), 0.2066671684319744), ((1, 7), 0.40248335805340424), ((1, 8), 0.02448475972861782), ((1, 9), 0.38658893641665165), ((1, 10), 0.5843171037843178), ((1, 11), 0.1639708605443321), ((1, 12), 0.29763436150231704), ((1, 13), 0.1504645064104902), ((1, 14), 0.4089886663484447), ((1, 15), 0.8617041562104774), ((1, 16), 0.21041272280408826), ((1, 17), 0.5536231613802565), ((1, 18), 0.8485774548512934), ((1, 19), 0.5689133785574781), ((1, 20), 0.5296443639415475), ((1, 21), 0.8249528607581896), ((1, 22), 0.4973546552729126), ((1, 23), 0.1146808664824765), ((1, 24), 0.343780469292816), ((1, 25), 0.5241189516705635), ((1, 26), 0.6816195720877584), ((1, 27), 0.028758883660474525), ((1, 28), 0.18150996534124222), ((1, 29), 0.5657690434615625), ((1, 30), 0.7008417488913308), ((1, 31), 0.12660270058062384), ((1, 32), 0.7808046669324197), ((1, 33), 0.4092088990629243), ((1, 34), 0.5993492309790704), ((1, 35), 0.029625329011588), ((1, 36), 0.14057598400514873), ((1, 37), 0.16929094113823576), ((1, 38), 0.4014184470765939), ((1, 39), 0.8359360137243813)])]\n",
      "aa (0, [((0, 0), 0.013998545059063125), ((0, 1), 0.006146411005643418), ((0, 2), 0.0013094070280139968), ((0, 3), 0.006761229708196888), ((0, 4), 0.001640529289576924), ((0, 5), 0.002799185187369619), ((0, 6), 0.0105191523833935), ((0, 7), 0.0013711064884254377), ((0, 8), 0.013411951239838366), ((0, 9), 0.005426143970943269), ((0, 10), 0.007609049702543101), ((0, 11), 0.006972608712276354), ((0, 12), 0.003454543044118363), ((0, 13), 0.013734923700417226), ((0, 14), 0.00011522547046654885), ((0, 15), 0.009908856673628218), ((0, 16), 0.012300277275695567), ((0, 17), 0.013799111322498551), ((0, 18), 0.013437119711956177), ((0, 19), 0.0017433486286859733), ((0, 20), 0.0010128292848794714), ((0, 21), 0.004086297228970294), ((0, 22), 0.0003102038136482358), ((0, 23), 0.005563291398424726), ((0, 24), 0.0005735526644171284), ((0, 25), 0.01207463764694144), ((0, 26), 0.011518737208141352), ((0, 27), 0.010662534328019476), ((0, 28), 0.008448857997781917), ((0, 29), 0.005187936973873036), ((0, 30), 0.0035696083947617005), ((0, 31), 0.0028641525158209767), ((0, 32), 0.0010862624579781185), ((0, 33), 0.0003418553453386167), ((0, 34), 0.010643621526182881), ((0, 35), 0.005801520521354021), ((0, 36), 0.012334521167428182), ((0, 37), 0.006268822816143237), ((0, 38), 0.012567039556183077), ((0, 39), 0.008848954634097324), ((1, 0), 0.8209462838707906), ((1, 1), 0.3604569798458181), ((1, 2), 0.07679032565076657), ((1, 3), 0.39651309331946444), ((1, 4), 0.09620902873669784), ((1, 5), 0.16415853702949382), ((1, 6), 0.616896900512275), ((1, 7), 0.08040869759784343), ((1, 8), 0.7865454219239013), ((1, 9), 0.3182168368140325), ((1, 10), 0.44623359432962156), ((1, 11), 0.4089094393079354), ((1, 12), 0.20259207386017172), ((1, 13), 0.8054861789944482), ((1, 14), 0.006757410958614842), ((1, 15), 0.581106038470529), ((1, 16), 0.7213511745297352), ((1, 17), 0.8092504694686251), ((1, 18), 0.7880214298639154), ((1, 19), 0.10223888069598953), ((1, 20), 0.059397489818342614), ((1, 21), 0.23964137063964175), ((1, 22), 0.018191938303773265), ((1, 23), 0.32625986346132296), ((1, 24), 0.033636061924348655), ((1, 25), 0.7081185125682156), ((1, 26), 0.6755176674439854), ((1, 27), 0.6253055511340518), ((1, 28), 0.49548424832482413), ((1, 29), 0.3042471600932208), ((1, 30), 0.20934009457335143), ((1, 31), 0.16796855347335446), ((1, 32), 0.0637039866945408), ((1, 33), 0.020048146017532326), ((1, 34), 0.6241964076966569), ((1, 35), 0.34023083775568236), ((1, 36), 0.7233594114961165), ((1, 37), 0.36763583454162513), ((1, 38), 0.7369954791284716), ((1, 39), 0.5189479615454836), ((0, 0), 0.23438804103108238), ((0, 1), 0.017137264226021524), ((0, 2), 0.20335457446823096), ((0, 3), 0.023508080878235086), ((0, 4), 0.4278262002649454), ((0, 5), 0.48889438633944365), ((0, 6), 0.2935860677973556), ((0, 7), 0.5050979615941361), ((0, 8), 0.06935631410580015), ((0, 9), 0.00048444711622495776), ((0, 10), 0.49797655290978116), ((0, 11), 0.18309022677487521), ((0, 12), 0.3649542280550704), ((0, 13), 0.25881227589887124), ((0, 14), 0.1462718696444861), ((0, 15), 0.02869760459826969), ((0, 16), 0.28959156607131153), ((0, 17), 0.38910403651100384), ((0, 18), 0.28837462042637), ((0, 19), 0.5242014803483825), ((0, 20), 0.2692063731873702), ((0, 21), 0.15517554612512174), ((0, 22), 0.23318609371149646), ((0, 23), 0.12323694916580251), ((0, 24), 0.35024751134949683), ((0, 25), 0.2756943511100371), ((0, 26), 0.1913264105499605), ((0, 27), 0.381943557517119), ((0, 28), 0.16295848867064208), ((0, 29), 0.3280189193634425), ((0, 30), 0.051099897880585735), ((0, 31), 0.44699997001497255), ((0, 32), 0.3138039647617423), ((0, 33), 0.4927306542206963), ((0, 34), 0.06636913693358974), ((0, 35), 0.4066468003156872), ((0, 36), 0.48087991293086224), ((0, 37), 0.36950421146755824), ((0, 38), 0.28125115110886956), ((0, 39), 0.29898654191391166), ((1, 0), 0.10625999514587947), ((1, 1), 0.0077691916595233465), ((1, 2), 0.09219094967827772), ((1, 3), 0.010657406192831079), ((1, 4), 0.19395533050000857), ((1, 5), 0.22164063870642567), ((1, 6), 0.1330974652196861), ((1, 7), 0.2289865417667323), ((1, 8), 0.03144273729921699), ((1, 9), 0.000219624465446481), ((1, 10), 0.22575804576965613), ((1, 11), 0.08300409237080593), ((1, 12), 0.16545227448894168), ((1, 13), 0.11733274044071683), ((1, 14), 0.06631246240221214), ((1, 15), 0.013010080684560698), ((1, 16), 0.13128655485005952), ((1, 17), 0.17640060836302832), ((1, 18), 0.13073485162426596), ((1, 19), 0.23764713639931534), ((1, 20), 0.12204491228431029), ((1, 21), 0.07034895084868267), ((1, 22), 0.1057150914221956), ((1, 23), 0.05586956383331268), ((1, 24), 0.15878497338061068), ((1, 25), 0.12498624196792557), ((1, 26), 0.08673797249588054), ((1, 27), 0.17315439981166508), ((1, 28), 0.07387735372055948), ((1, 29), 0.1487076244418709), ((1, 30), 0.02316617723694323), ((1, 31), 0.2026477734745028), ((1, 32), 0.1422632640541528), ((1, 33), 0.22337981364319703), ((1, 34), 0.03008849827566174), ((1, 35), 0.1843536335623121), ((1, 36), 0.21800727114319018), ((1, 37), 0.16751501289998832), ((1, 38), 0.12750542143759935), ((1, 39), 0.1355457742327496)])\n",
      "aa (1, [((0, 0), 0.10081141971317066), ((0, 1), 0.08830532819004047), ((0, 2), 0.07307535503236318), ((0, 3), 0.17924015061356272), ((0, 4), 0.10567121550373501), ((0, 5), 0.05815456105781246), ((0, 6), 0.04684439132974166), ((0, 7), 0.09122923622272457), ((0, 8), 0.005549859104590213), ((0, 9), 0.08762651348373746), ((0, 10), 0.13244473845560759), ((0, 11), 0.03716659601179695), ((0, 12), 0.06746354831866573), ((0, 13), 0.03410516664551607), ((0, 14), 0.09270376751768347), ((0, 15), 0.19531891306322863), ((0, 16), 0.047693380630196895), ((0, 17), 0.12548746962409663), ((0, 18), 0.19234353801936593), ((0, 19), 0.12895323984004786), ((0, 20), 0.12005229489674162), ((0, 21), 0.18698864909772317), ((0, 22), 0.1127333203335673), ((0, 23), 0.025994237150964092), ((0, 24), 0.07792329549613822), ((0, 25), 0.11879987257613812), ((0, 26), 0.15449988604938938), ((0, 27), 0.006518657078524871), ((0, 28), 0.04114211227262115), ((0, 29), 0.12824052642348313), ((0, 30), 0.15885689727293267), ((0, 31), 0.028696509921714783), ((0, 32), 0.1769817608059509), ((0, 33), 0.09275368675516549), ((0, 34), 0.13585200848389573), ((0, 35), 0.00671505065860508), ((0, 36), 0.031863776216918764), ((0, 37), 0.03837247665136558), ((0, 38), 0.09098785726104656), ((0, 39), 0.18947815490305406), ((1, 0), 0.44475784755261555), ((1, 1), 0.3895837178463883), ((1, 2), 0.322392420479829), ((1, 3), 0.790768186865241), ((1, 4), 0.4661981994641985), ((1, 5), 0.25656515377950473), ((1, 6), 0.2066671684319744), ((1, 7), 0.40248335805340424), ((1, 8), 0.02448475972861782), ((1, 9), 0.38658893641665165), ((1, 10), 0.5843171037843178), ((1, 11), 0.1639708605443321), ((1, 12), 0.29763436150231704), ((1, 13), 0.1504645064104902), ((1, 14), 0.4089886663484447), ((1, 15), 0.8617041562104774), ((1, 16), 0.21041272280408826), ((1, 17), 0.5536231613802565), ((1, 18), 0.8485774548512934), ((1, 19), 0.5689133785574781), ((1, 20), 0.5296443639415475), ((1, 21), 0.8249528607581896), ((1, 22), 0.4973546552729126), ((1, 23), 0.1146808664824765), ((1, 24), 0.343780469292816), ((1, 25), 0.5241189516705635), ((1, 26), 0.6816195720877584), ((1, 27), 0.028758883660474525), ((1, 28), 0.18150996534124222), ((1, 29), 0.5657690434615625), ((1, 30), 0.7008417488913308), ((1, 31), 0.12660270058062384), ((1, 32), 0.7808046669324197), ((1, 33), 0.4092088990629243), ((1, 34), 0.5993492309790704), ((1, 35), 0.029625329011588), ((1, 36), 0.14057598400514873), ((1, 37), 0.16929094113823576), ((1, 38), 0.4014184470765939), ((1, 39), 0.8359360137243813)])\n",
      "240 key-value pairs were sent over a network.\n",
      "[(0, [((0, 1), 0.11158900342170541), ((0, 2), 0.27773933652860816), ((0, 4), 0.5351379450582573), ((0, 5), 0.5498481325846257), ((0, 8), 0.08831812445022873), ((0, 9), 0.09353710457090568), ((0, 11), 0.22722943149894853), ((0, 12), 0.4358723194178545), ((0, 15), 0.23392537433512653), ((0, 16), 0.349585223977204), ((0, 18), 0.4941552781576921), ((0, 19), 0.6548980688171164), ((0, 22), 0.346229617858712), ((0, 23), 0.15479447771519134), ((0, 25), 0.40656886133311665), ((0, 26), 0.3573450338074913), ((0, 29), 0.46144738276079866), ((0, 32), 0.49187198802567134), ((0, 33), 0.5858261963212004), ((0, 36), 0.5250782103152092), ((0, 39), 0.4973136514510631), ((1, 0), 1.3719641265692857), ((1, 1), 0.7578098893517298), ((1, 3), 1.1979386863775365), ((1, 4), 0.7563625587009049), ((1, 7), 0.71187859741798), ((1, 10), 1.2563087438835954), ((1, 11), 0.6558843922230734), ((1, 14), 0.4820585397092717), ((1, 17), 1.5392742392119099), ((1, 18), 1.7673337363394748), ((1, 21), 1.1349431822465141), ((1, 24), 0.5362015045977754), ((1, 25), 1.3572237062067047), ((1, 27), 0.8272188346061914), ((1, 28), 0.7508715673866257), ((1, 31), 0.49721902752848113), ((1, 32), 0.9867719176811133), ((1, 34), 1.253634136951389), ((1, 35), 0.5542098003295824), ((1, 38), 1.265919347642665), ((1, 39), 1.4904297495026144)]), (1, [((0, 0), 0.34919800580331617), ((0, 3), 0.2095094611999947), ((0, 6), 0.35094961151049076), ((0, 7), 0.5976983043052861), ((0, 10), 0.6380303410679318), ((0, 13), 0.3066523662448045), ((0, 14), 0.23909086263263613), ((0, 17), 0.528390617457599), ((0, 20), 0.39027149736899125), ((0, 21), 0.3462504924518152), ((0, 24), 0.4287443595100522), ((0, 27), 0.3991247489236634), ((0, 28), 0.21254945894104516), ((0, 30), 0.21352640354828012), ((0, 31), 0.4785606324525083), ((0, 34), 0.21286476694366835), ((0, 35), 0.41916337149564625), ((0, 37), 0.414145510935067), ((0, 38), 0.38480604792609924), ((1, 2), 0.4913736958088733), ((1, 5), 0.6423643295154242), ((1, 6), 0.9566615341639355), ((1, 8), 0.8424729189517361), ((1, 9), 0.7050253976961307), ((1, 12), 0.6656787098514304), ((1, 13), 1.0732834258456552), ((1, 15), 1.455820275365567), ((1, 16), 1.0630504521838828), ((1, 19), 0.908799395652783), ((1, 20), 0.7110867660442004), ((1, 22), 0.6212616849988815), ((1, 23), 0.4968102937771121), ((1, 26), 1.4438752120276244), ((1, 29), 1.0187238279966542), ((1, 30), 0.9333480207016254), ((1, 33), 0.6526368587236536), ((1, 36), 1.0819426666444554), ((1, 37), 0.7044417885798492)])]\n",
      "[((0, 1), 0.11158900342170541), ((0, 2), 0.27773933652860816), ((0, 4), 0.5351379450582573), ((0, 5), 0.5498481325846257), ((0, 8), 0.08831812445022873), ((0, 9), 0.09353710457090568), ((0, 11), 0.22722943149894853), ((0, 12), 0.4358723194178545), ((0, 15), 0.23392537433512653), ((0, 16), 0.349585223977204), ((0, 18), 0.4941552781576921), ((0, 19), 0.6548980688171164), ((0, 22), 0.346229617858712), ((0, 23), 0.15479447771519134), ((0, 25), 0.40656886133311665), ((0, 26), 0.3573450338074913), ((0, 29), 0.46144738276079866), ((0, 32), 0.49187198802567134), ((0, 33), 0.5858261963212004), ((0, 36), 0.5250782103152092), ((0, 39), 0.4973136514510631), ((1, 0), 1.3719641265692857), ((1, 1), 0.7578098893517298), ((1, 3), 1.1979386863775365), ((1, 4), 0.7563625587009049), ((1, 7), 0.71187859741798), ((1, 10), 1.2563087438835954), ((1, 11), 0.6558843922230734), ((1, 14), 0.4820585397092717), ((1, 17), 1.5392742392119099), ((1, 18), 1.7673337363394748), ((1, 21), 1.1349431822465141), ((1, 24), 0.5362015045977754), ((1, 25), 1.3572237062067047), ((1, 27), 0.8272188346061914), ((1, 28), 0.7508715673866257), ((1, 31), 0.49721902752848113), ((1, 32), 0.9867719176811133), ((1, 34), 1.253634136951389), ((1, 35), 0.5542098003295824), ((1, 38), 1.265919347642665), ((1, 39), 1.4904297495026144), ((0, 0), 0.34919800580331617), ((0, 3), 0.2095094611999947), ((0, 6), 0.35094961151049076), ((0, 7), 0.5976983043052861), ((0, 10), 0.6380303410679318), ((0, 13), 0.3066523662448045), ((0, 14), 0.23909086263263613), ((0, 17), 0.528390617457599), ((0, 20), 0.39027149736899125), ((0, 21), 0.3462504924518152), ((0, 24), 0.4287443595100522), ((0, 27), 0.3991247489236634), ((0, 28), 0.21254945894104516), ((0, 30), 0.21352640354828012), ((0, 31), 0.4785606324525083), ((0, 34), 0.21286476694366835), ((0, 35), 0.41916337149564625), ((0, 37), 0.414145510935067), ((0, 38), 0.38480604792609924), ((1, 2), 0.4913736958088733), ((1, 5), 0.6423643295154242), ((1, 6), 0.9566615341639355), ((1, 8), 0.8424729189517361), ((1, 9), 0.7050253976961307), ((1, 12), 0.6656787098514304), ((1, 13), 1.0732834258456552), ((1, 15), 1.455820275365567), ((1, 16), 1.0630504521838828), ((1, 19), 0.908799395652783), ((1, 20), 0.7110867660442004), ((1, 22), 0.6212616849988815), ((1, 23), 0.4968102937771121), ((1, 26), 1.4438752120276244), ((1, 29), 1.0187238279966542), ((1, 30), 0.9333480207016254), ((1, 33), 0.6526368587236536), ((1, 36), 1.0819426666444554), ((1, 37), 0.7044417885798492)]\n"
     ]
    },
    {
     "data": {
      "text/plain": [
       "True"
      ]
     },
     "execution_count": 38,
     "metadata": {},
     "output_type": "execute_result"
    }
   ],
   "source": [
    "def flatten(nested_iterable):\n",
    "  for iterable in nested_iterable:\n",
    "    for element in iterable:\n",
    "      yield element\n",
    "\n",
    "def groupbykey(iterable):\n",
    "  t = {}\n",
    "  for (k2, v2) in iterable:\n",
    "    t[k2] = t.get(k2, []) + [v2]\n",
    "  return t.items()\n",
    "\n",
    "def groupbykey_distributed(map_partitions, PARTITIONER):\n",
    "  global reducers\n",
    "  partitions = [dict() for _ in range(reducers)]\n",
    "  for map_partition in map_partitions:\n",
    "    for (k2, v2) in map_partition:\n",
    "      p = partitions[PARTITIONER(k2)]\n",
    "      p[k2] = p.get(k2, []) + [v2]\n",
    "  return [(partition_id, sorted(partition.items(), key=lambda x: x[0])) for (partition_id, partition) in enumerate(partitions)]\n",
    "\n",
    "def PARTITIONER(obj):\n",
    "  global reducers\n",
    "  return hash(obj) % reducers\n",
    "\n",
    "def MapReduceDistributed(INPUTFORMAT, MAP, REDUCE, PARTITIONER=PARTITIONER, COMBINER=None):\n",
    "  map_partitions = map(lambda record_reader: flatten(map(lambda k1v1: MAP(*k1v1), record_reader)), INPUTFORMAT())\n",
    "  if COMBINER != None:\n",
    "    map_partitions = map(lambda map_partition: flatten(map(lambda k2v2: COMBINER(*k2v2), groupbykey(map_partition))), map_partitions)\n",
    "  reduce_partitions = groupbykey_distributed(map_partitions, PARTITIONER) # shuffle\n",
    "  reduce_outputs = map(lambda reduce_partition: (reduce_partition[0], flatten(map(lambda reduce_input_group: REDUCE(*reduce_input_group), reduce_partition[1]))), reduce_partitions)\n",
    "\n",
    "  print(\"{} key-value pairs were sent over a network.\".format(sum([len(vs) for (k,vs) in flatten([partition for (partition_id, partition) in reduce_partitions])])))\n",
    "  return reduce_outputs\n",
    "\n",
    "def asmatrix(reduce_output):\n",
    "  reduce_output = list(reduce_output)\n",
    "  I = max(i for ((i,k), vw) in reduce_output)+1\n",
    "  K = max(k for ((i,k), vw) in reduce_output)+1\n",
    "  mat = np.empty(shape=(I,K))\n",
    "  for ((i,k), vw) in reduce_output:\n",
    "    mat[i,k] = vw\n",
    "  return mat\n",
    "\n",
    "# ===================================================================================================================================================================================\n",
    "\n",
    "import numpy as np\n",
    "I = 2\n",
    "J = 3\n",
    "K = 4*10\n",
    "small_mat = np.random.rand(I,J)\n",
    "big_mat = np.random.rand(J,K)\n",
    "reference_solution = np.matmul(small_mat, big_mat)\n",
    "\n",
    "def INPUTFORMAT():\n",
    "  first_mat = []\n",
    "  for i in range(small_mat.shape[0]):\n",
    "    for j in range(small_mat.shape[1]):\n",
    "      first_mat.append(((0, i, j), small_mat[i,j])) # первая матрица\n",
    "  yield first_mat\n",
    "\n",
    "  second_mat = []\n",
    "  for j in range(big_mat.shape[0]):\n",
    "    for k in range(big_mat.shape[1]):\n",
    "      second_mat.append(((1, j, k), big_mat[j,k])) # вторая матрица\n",
    "  yield second_mat\n",
    "\n",
    "\n",
    "def MAP_JOIN(k1, v1):\n",
    "  (mat_num, i, j) = k1\n",
    "  w = v1\n",
    "  if mat_num == 0:\n",
    "    yield (j, (mat_num, i, w))\n",
    "  else:\n",
    "    yield (i, (mat_num, j, w))\n",
    "\n",
    "\n",
    "def REDUCE_JOIN(key, values):\n",
    "  from_first_mat = [v for v in values if v[0] == 0]\n",
    "  from_second_mat = [v for v in values if v[0] == 1]\n",
    "  for f in from_first_mat:\n",
    "    for s in from_second_mat:\n",
    "      yield ((f[1], s[1]), f[2] * s[2])\n",
    "\n",
    "\n",
    "def GET_JOINED():\n",
    "  for j in joined:\n",
    "    print(\"aa\", j)\n",
    "    yield j[1]\n",
    "\n",
    "\n",
    "def MAP_MUL(k1, v1):\n",
    "  yield (k1, v1)\n",
    "\n",
    "\n",
    "def REDUCE_MUL(key, values):\n",
    "  res_val = 0\n",
    "  for v in values:\n",
    "    res_val += v\n",
    "  yield (key, res_val)\n",
    "\n",
    "maps = 4\n",
    "reducers = 2\n",
    "partitioned_output = MapReduceDistributed(INPUTFORMAT, MAP_JOIN, REDUCE_JOIN, COMBINER=None)\n",
    "joined = [(partition_id, list(partition)) for (partition_id, partition) in partitioned_output]\n",
    "print(joined)\n",
    "\n",
    "mul_output = MapReduceDistributed(GET_JOINED, MAP_MUL, REDUCE_MUL, COMBINER=None)\n",
    "pre_result = [(partition_id, list(partition)) for (partition_id, partition) in mul_output]\n",
    "print(pre_result)\n",
    "\n",
    "solution = []\n",
    "for p in pre_result:\n",
    "  for v in p[1]:\n",
    "    solution.append(v)\n",
    "\n",
    "print(solution)\n",
    "np.allclose(reference_solution, asmatrix(solution)) # should return true\n"
   ]
  },
  {
   "cell_type": "markdown",
   "metadata": {
    "id": "ZuSA2P9Db6UM"
   },
   "source": [
    "Обобщите предыдущее решение на случай, когда каждая матрица генерируется несколькими RECORDREADER-ами, и проверьте его работоспособность. Будет ли работать решение, если RECORDREADER-ы будут генерировать случайное подмножество элементов матрицы?"
   ]
  },
  {
   "cell_type": "code",
   "execution_count": 39,
   "metadata": {
    "colab": {
     "base_uri": "https://localhost:8080/"
    },
    "id": "ehN0FqRDcwU5",
    "outputId": "d89b0f3a-6ec4-4a32-d28f-693c1b39065d"
   },
   "outputs": [
    {
     "name": "stdout",
     "output_type": "stream",
     "text": [
      "126 key-value pairs were sent over a network.\n",
      "[(0, [((0, 0), 0.7786588102935185), ((0, 1), 0.04411830982713003), ((0, 2), 0.6250213647582906), ((0, 3), 0.2694024652246955), ((0, 4), 0.43171032548605665), ((0, 5), 0.3159699466628024), ((0, 6), 0.8139487383527247), ((0, 7), 0.11011351294897491), ((0, 8), 0.8072138207134778), ((0, 9), 0.06917088875281344), ((0, 10), 0.4757974860186921), ((0, 11), 0.810771084854452), ((0, 12), 0.6227332627552942), ((0, 13), 0.15855956580427538), ((0, 14), 0.4900719604479298), ((0, 15), 0.5280077873490829), ((0, 16), 0.687060519015845), ((0, 17), 0.11513308284726824), ((0, 18), 0.13499692605835636), ((0, 19), 0.04060358763171015), ((0, 20), 0.7432166301135735), ((0, 21), 0.49647298660745137), ((0, 22), 0.00796473286641057), ((0, 23), 0.5405431423683336), ((0, 24), 0.6038797312278291), ((0, 25), 0.3606552122192031), ((0, 26), 0.2617805715365355), ((0, 27), 0.35025526160360504), ((0, 28), 0.2200768788301147), ((0, 29), 0.3649829972891148), ((0, 30), 0.005863015281670801), ((0, 31), 0.40939277516110356), ((0, 32), 0.656227182236514), ((0, 33), 0.231053583858333), ((0, 34), 0.042145269571112816), ((0, 35), 0.813548336872983), ((0, 36), 0.02969262179330154), ((0, 37), 0.17226661259590934), ((0, 38), 0.34824209344798557), ((0, 39), 0.31425181501231864), ((1, 0), 0.931157940064734), ((1, 1), 0.05275881291612487), ((1, 2), 0.7474308372435853), ((1, 3), 0.32216452347392993), ((1, 4), 0.516260128403017), ((1, 5), 0.3778521744921789), ((1, 6), 0.9733593462290799), ((1, 7), 0.13167907501388015), ((1, 8), 0.9653054053340904), ((1, 9), 0.08271790087270367), ((1, 10), 0.5689816914832541), ((1, 11), 0.9695593541830441), ((1, 12), 0.7446946139843057), ((1, 13), 0.18961321277057497), ((1, 14), 0.5860517997634459), ((1, 15), 0.6314172999863412), ((1, 16), 0.8216202643946718), ((1, 17), 0.13768171995248152), ((1, 18), 0.16143586628935197), ((1, 19), 0.048555737787297534), ((1, 20), 0.888774463436093), ((1, 21), 0.5937064570462085), ((1, 22), 0.009524613541914593), ((1, 23), 0.646407684996312), ((1, 24), 0.7221486473195964), ((1, 25), 0.4312889805447027), ((1, 26), 0.31304989363575453), ((1, 27), 0.41885221560481223), ((1, 28), 0.2631785968877407), ((1, 29), 0.43646435566082425), ((1, 30), 0.0070112778023929375), ((1, 31), 0.48957172018987316), ((1, 32), 0.7847482660544213), ((1, 33), 0.27630507270443516), ((1, 34), 0.05039935576214335), ((1, 35), 0.9728805267356812), ((1, 36), 0.03550787607957544), ((1, 37), 0.20600476358351394), ((1, 38), 0.4164447715638414), ((1, 39), 0.37579754940186316), ((0, 0), 0.017925400754258906), ((0, 1), 0.19457435494198305), ((0, 2), 0.5678546008699525), ((0, 3), 0.5615958186093003), ((0, 4), 0.07928329902230503), ((0, 5), 0.8097309751948413), ((0, 6), 0.5120362144149335), ((0, 7), 0.6781014205173008), ((0, 8), 0.05102020952232418), ((0, 9), 0.2280506135688918), ((0, 10), 0.269618723978678), ((0, 11), 0.7358176489688212), ((0, 12), 0.5670961603991567), ((0, 13), 0.7686944285778494), ((0, 14), 0.5578415778760626), ((0, 15), 0.3886968765076447), ((0, 16), 0.8226010015564331), ((0, 17), 0.09151340907427699), ((0, 18), 0.13207586361713872), ((0, 19), 0.2519364968227377), ((0, 20), 0.34110755258417597), ((0, 21), 0.36128979235412234), ((0, 22), 0.7790659055858598), ((0, 23), 0.63836908125708), ((0, 24), 0.656619497514891), ((0, 25), 0.7191989126270076), ((0, 26), 0.36894948055919524), ((0, 27), 0.11744911511164496), ((0, 28), 0.4228089959098616), ((0, 29), 0.5886332967838007), ((0, 30), 0.146825086379072), ((0, 31), 0.7521632919041122), ((0, 32), 0.09249984756698773), ((0, 33), 0.5564439013503559), ((0, 34), 0.48035255163792534), ((0, 35), 0.7680813979583749), ((0, 36), 0.4737964526465926), ((0, 37), 0.01205758494036237), ((0, 38), 0.8189952877053503), ((0, 39), 0.00829830816279696), ((1, 0), 0.009546860959580579), ((1, 1), 0.10362804929144195), ((1, 2), 0.3024327876449585), ((1, 3), 0.2990994326568118), ((1, 4), 0.042225367374448416), ((1, 5), 0.4312533449504092), ((1, 6), 0.27270456110321195), ((1, 7), 0.3611489677091126), ((1, 8), 0.027172773045119884), ((1, 9), 0.1214571171566123), ((1, 10), 0.1435958116201342), ((1, 11), 0.3918879629311379), ((1, 12), 0.3020288510289759), ((1, 13), 0.4093977552102084), ((1, 14), 0.2970999674967094), ((1, 15), 0.20701545735651614), ((1, 16), 0.43810777202317974), ((1, 17), 0.04873898242759049), ((1, 18), 0.07034207621660957), ((1, 19), 0.1341784621043431), ((1, 20), 0.18166993426968342), ((1, 21), 0.19241876156665852), ((1, 22), 0.4149214838173603), ((1, 23), 0.3399879837112464), ((1, 24), 0.34970794416604367), ((1, 25), 0.3830370163133042), ((1, 26), 0.19649822284565927), ((1, 27), 0.06255203926362682), ((1, 28), 0.22518317731068238), ((1, 29), 0.3134992805803414), ((1, 30), 0.0781973415409624), ((1, 31), 0.40059346316164735), ((1, 32), 0.04926434815102349), ((1, 33), 0.29635558115688265), ((1, 34), 0.25583020903883935), ((1, 35), 0.4090712621979561), ((1, 36), 0.25233850660130086), ((1, 37), 0.006421730175634857), ((1, 38), 0.43618741056135063), ((1, 39), 0.004419582876614491)]), (1, [((0, 0), 0.0036481984807351176), ((0, 1), 0.0011436055098908472), ((0, 2), 0.005912248005418635), ((0, 3), 0.0033730146101809575), ((0, 4), 0.0015058765400259746), ((0, 5), 0.0006005830174342913), ((0, 6), 0.0032854882240178833), ((0, 7), 0.001900424011671639), ((0, 8), 0.006331741700378176), ((0, 9), 0.006313387176675702), ((0, 10), 0.005645018698137185), ((0, 11), 0.0009658238182612504), ((0, 12), 0.0028670045771007767), ((0, 13), 0.0016795210801818761), ((0, 14), 0.0009516111714437264), ((0, 15), 0.0037550212064607594), ((0, 16), 0.0062720780797087886), ((0, 17), 0.001406561736873698), ((0, 18), 0.00020602791361796474), ((0, 19), 0.001121807634127465), ((0, 20), 0.0015203417291254435), ((0, 21), 0.0013387905759348203), ((0, 22), 0.005650183884346569), ((0, 23), 0.002873565509677876), ((0, 24), 0.0012380173317269607), ((0, 25), 0.001979952005328649), ((0, 26), 0.001144133039612248), ((0, 27), 0.0014271773136044531), ((0, 28), 4.189682911315656e-05), ((0, 29), 0.005739261906882667), ((0, 30), 0.0027493935536086946), ((0, 31), 8.461666308273075e-05), ((0, 32), 0.004534300765781214), ((0, 33), 0.0040369105184710746), ((0, 34), 0.0023053606166643184), ((0, 35), 0.0005831121088050701), ((0, 36), 0.0015025337265119677), ((0, 37), 0.002961646452538623), ((0, 38), 0.0026964265112993943), ((0, 39), 0.001588087135970946), ((1, 0), 0.5442140337327488), ((1, 1), 0.17059547906266526), ((1, 2), 0.8819499137582385), ((1, 3), 0.5031639305096661), ((1, 4), 0.2246366666941642), ((1, 5), 0.08959098805486086), ((1, 6), 0.4901073251951826), ((1, 7), 0.2834926396290793), ((1, 8), 0.9445271987017334), ((1, 9), 0.941789192687501), ((1, 10), 0.8420864194842259), ((1, 11), 0.14407518636573965), ((1, 12), 0.4276807125142686), ((1, 13), 0.2505398065953873), ((1, 14), 0.14195503805269472), ((1, 15), 0.5601491388999886), ((1, 16), 0.9356269757991009), ((1, 17), 0.2098215435811302), ((1, 18), 0.03073387660338642), ((1, 19), 0.167343816643902), ((1, 20), 0.2267944875885314), ((1, 21), 0.19971189163646239), ((1, 22), 0.8428569276780188), ((1, 23), 0.4286594288866608), ((1, 24), 0.1846792079674412), ((1, 25), 0.295356097840386), ((1, 26), 0.17067417244492322), ((1, 27), 0.21289683847794472), ((1, 28), 0.006249890868790722), ((1, 29), 0.8561449958073435), ((1, 30), 0.41013628069564506), ((1, 31), 0.012622552139207845), ((1, 32), 0.6763968909405541), ((1, 33), 0.6021995153708354), ((1, 34), 0.3438983945168192), ((1, 35), 0.08698479387209017), ((1, 36), 0.22413800796271613), ((1, 37), 0.44179875928832574), ((1, 38), 0.4022350089029358), ((1, 39), 0.23690029770849727)])]\n",
      "aa (0, [((0, 0), 0.7786588102935185), ((0, 1), 0.04411830982713003), ((0, 2), 0.6250213647582906), ((0, 3), 0.2694024652246955), ((0, 4), 0.43171032548605665), ((0, 5), 0.3159699466628024), ((0, 6), 0.8139487383527247), ((0, 7), 0.11011351294897491), ((0, 8), 0.8072138207134778), ((0, 9), 0.06917088875281344), ((0, 10), 0.4757974860186921), ((0, 11), 0.810771084854452), ((0, 12), 0.6227332627552942), ((0, 13), 0.15855956580427538), ((0, 14), 0.4900719604479298), ((0, 15), 0.5280077873490829), ((0, 16), 0.687060519015845), ((0, 17), 0.11513308284726824), ((0, 18), 0.13499692605835636), ((0, 19), 0.04060358763171015), ((0, 20), 0.7432166301135735), ((0, 21), 0.49647298660745137), ((0, 22), 0.00796473286641057), ((0, 23), 0.5405431423683336), ((0, 24), 0.6038797312278291), ((0, 25), 0.3606552122192031), ((0, 26), 0.2617805715365355), ((0, 27), 0.35025526160360504), ((0, 28), 0.2200768788301147), ((0, 29), 0.3649829972891148), ((0, 30), 0.005863015281670801), ((0, 31), 0.40939277516110356), ((0, 32), 0.656227182236514), ((0, 33), 0.231053583858333), ((0, 34), 0.042145269571112816), ((0, 35), 0.813548336872983), ((0, 36), 0.02969262179330154), ((0, 37), 0.17226661259590934), ((0, 38), 0.34824209344798557), ((0, 39), 0.31425181501231864), ((1, 0), 0.931157940064734), ((1, 1), 0.05275881291612487), ((1, 2), 0.7474308372435853), ((1, 3), 0.32216452347392993), ((1, 4), 0.516260128403017), ((1, 5), 0.3778521744921789), ((1, 6), 0.9733593462290799), ((1, 7), 0.13167907501388015), ((1, 8), 0.9653054053340904), ((1, 9), 0.08271790087270367), ((1, 10), 0.5689816914832541), ((1, 11), 0.9695593541830441), ((1, 12), 0.7446946139843057), ((1, 13), 0.18961321277057497), ((1, 14), 0.5860517997634459), ((1, 15), 0.6314172999863412), ((1, 16), 0.8216202643946718), ((1, 17), 0.13768171995248152), ((1, 18), 0.16143586628935197), ((1, 19), 0.048555737787297534), ((1, 20), 0.888774463436093), ((1, 21), 0.5937064570462085), ((1, 22), 0.009524613541914593), ((1, 23), 0.646407684996312), ((1, 24), 0.7221486473195964), ((1, 25), 0.4312889805447027), ((1, 26), 0.31304989363575453), ((1, 27), 0.41885221560481223), ((1, 28), 0.2631785968877407), ((1, 29), 0.43646435566082425), ((1, 30), 0.0070112778023929375), ((1, 31), 0.48957172018987316), ((1, 32), 0.7847482660544213), ((1, 33), 0.27630507270443516), ((1, 34), 0.05039935576214335), ((1, 35), 0.9728805267356812), ((1, 36), 0.03550787607957544), ((1, 37), 0.20600476358351394), ((1, 38), 0.4164447715638414), ((1, 39), 0.37579754940186316), ((0, 0), 0.017925400754258906), ((0, 1), 0.19457435494198305), ((0, 2), 0.5678546008699525), ((0, 3), 0.5615958186093003), ((0, 4), 0.07928329902230503), ((0, 5), 0.8097309751948413), ((0, 6), 0.5120362144149335), ((0, 7), 0.6781014205173008), ((0, 8), 0.05102020952232418), ((0, 9), 0.2280506135688918), ((0, 10), 0.269618723978678), ((0, 11), 0.7358176489688212), ((0, 12), 0.5670961603991567), ((0, 13), 0.7686944285778494), ((0, 14), 0.5578415778760626), ((0, 15), 0.3886968765076447), ((0, 16), 0.8226010015564331), ((0, 17), 0.09151340907427699), ((0, 18), 0.13207586361713872), ((0, 19), 0.2519364968227377), ((0, 20), 0.34110755258417597), ((0, 21), 0.36128979235412234), ((0, 22), 0.7790659055858598), ((0, 23), 0.63836908125708), ((0, 24), 0.656619497514891), ((0, 25), 0.7191989126270076), ((0, 26), 0.36894948055919524), ((0, 27), 0.11744911511164496), ((0, 28), 0.4228089959098616), ((0, 29), 0.5886332967838007), ((0, 30), 0.146825086379072), ((0, 31), 0.7521632919041122), ((0, 32), 0.09249984756698773), ((0, 33), 0.5564439013503559), ((0, 34), 0.48035255163792534), ((0, 35), 0.7680813979583749), ((0, 36), 0.4737964526465926), ((0, 37), 0.01205758494036237), ((0, 38), 0.8189952877053503), ((0, 39), 0.00829830816279696), ((1, 0), 0.009546860959580579), ((1, 1), 0.10362804929144195), ((1, 2), 0.3024327876449585), ((1, 3), 0.2990994326568118), ((1, 4), 0.042225367374448416), ((1, 5), 0.4312533449504092), ((1, 6), 0.27270456110321195), ((1, 7), 0.3611489677091126), ((1, 8), 0.027172773045119884), ((1, 9), 0.1214571171566123), ((1, 10), 0.1435958116201342), ((1, 11), 0.3918879629311379), ((1, 12), 0.3020288510289759), ((1, 13), 0.4093977552102084), ((1, 14), 0.2970999674967094), ((1, 15), 0.20701545735651614), ((1, 16), 0.43810777202317974), ((1, 17), 0.04873898242759049), ((1, 18), 0.07034207621660957), ((1, 19), 0.1341784621043431), ((1, 20), 0.18166993426968342), ((1, 21), 0.19241876156665852), ((1, 22), 0.4149214838173603), ((1, 23), 0.3399879837112464), ((1, 24), 0.34970794416604367), ((1, 25), 0.3830370163133042), ((1, 26), 0.19649822284565927), ((1, 27), 0.06255203926362682), ((1, 28), 0.22518317731068238), ((1, 29), 0.3134992805803414), ((1, 30), 0.0781973415409624), ((1, 31), 0.40059346316164735), ((1, 32), 0.04926434815102349), ((1, 33), 0.29635558115688265), ((1, 34), 0.25583020903883935), ((1, 35), 0.4090712621979561), ((1, 36), 0.25233850660130086), ((1, 37), 0.006421730175634857), ((1, 38), 0.43618741056135063), ((1, 39), 0.004419582876614491)])\n",
      "aa (1, [((0, 0), 0.0036481984807351176), ((0, 1), 0.0011436055098908472), ((0, 2), 0.005912248005418635), ((0, 3), 0.0033730146101809575), ((0, 4), 0.0015058765400259746), ((0, 5), 0.0006005830174342913), ((0, 6), 0.0032854882240178833), ((0, 7), 0.001900424011671639), ((0, 8), 0.006331741700378176), ((0, 9), 0.006313387176675702), ((0, 10), 0.005645018698137185), ((0, 11), 0.0009658238182612504), ((0, 12), 0.0028670045771007767), ((0, 13), 0.0016795210801818761), ((0, 14), 0.0009516111714437264), ((0, 15), 0.0037550212064607594), ((0, 16), 0.0062720780797087886), ((0, 17), 0.001406561736873698), ((0, 18), 0.00020602791361796474), ((0, 19), 0.001121807634127465), ((0, 20), 0.0015203417291254435), ((0, 21), 0.0013387905759348203), ((0, 22), 0.005650183884346569), ((0, 23), 0.002873565509677876), ((0, 24), 0.0012380173317269607), ((0, 25), 0.001979952005328649), ((0, 26), 0.001144133039612248), ((0, 27), 0.0014271773136044531), ((0, 28), 4.189682911315656e-05), ((0, 29), 0.005739261906882667), ((0, 30), 0.0027493935536086946), ((0, 31), 8.461666308273075e-05), ((0, 32), 0.004534300765781214), ((0, 33), 0.0040369105184710746), ((0, 34), 0.0023053606166643184), ((0, 35), 0.0005831121088050701), ((0, 36), 0.0015025337265119677), ((0, 37), 0.002961646452538623), ((0, 38), 0.0026964265112993943), ((0, 39), 0.001588087135970946), ((1, 0), 0.5442140337327488), ((1, 1), 0.17059547906266526), ((1, 2), 0.8819499137582385), ((1, 3), 0.5031639305096661), ((1, 4), 0.2246366666941642), ((1, 5), 0.08959098805486086), ((1, 6), 0.4901073251951826), ((1, 7), 0.2834926396290793), ((1, 8), 0.9445271987017334), ((1, 9), 0.941789192687501), ((1, 10), 0.8420864194842259), ((1, 11), 0.14407518636573965), ((1, 12), 0.4276807125142686), ((1, 13), 0.2505398065953873), ((1, 14), 0.14195503805269472), ((1, 15), 0.5601491388999886), ((1, 16), 0.9356269757991009), ((1, 17), 0.2098215435811302), ((1, 18), 0.03073387660338642), ((1, 19), 0.167343816643902), ((1, 20), 0.2267944875885314), ((1, 21), 0.19971189163646239), ((1, 22), 0.8428569276780188), ((1, 23), 0.4286594288866608), ((1, 24), 0.1846792079674412), ((1, 25), 0.295356097840386), ((1, 26), 0.17067417244492322), ((1, 27), 0.21289683847794472), ((1, 28), 0.006249890868790722), ((1, 29), 0.8561449958073435), ((1, 30), 0.41013628069564506), ((1, 31), 0.012622552139207845), ((1, 32), 0.6763968909405541), ((1, 33), 0.6021995153708354), ((1, 34), 0.3438983945168192), ((1, 35), 0.08698479387209017), ((1, 36), 0.22413800796271613), ((1, 37), 0.44179875928832574), ((1, 38), 0.4022350089029358), ((1, 39), 0.23690029770849727)])\n",
      "240 key-value pairs were sent over a network.\n",
      "[(0, [((0, 1), 0.23983627027900392), ((0, 2), 1.1987882136336616), ((0, 4), 0.5124995010483877), ((0, 5), 1.126301504875078), ((0, 8), 0.8645657719361802), ((0, 9), 0.3035348894983809), ((0, 11), 1.5475545576415344), ((0, 12), 1.1926964277315517), ((0, 15), 0.9204596850631883), ((0, 16), 1.5159335986519868), ((0, 18), 0.26727881758911304), ((0, 19), 0.29366189208857535), ((0, 22), 0.7926808223366169), ((0, 23), 1.1817857891350916), ((0, 25), 1.0818340768515395), ((0, 26), 0.631874185135343), ((0, 29), 0.9593555559797983), ((0, 32), 0.7532613305692829), ((0, 33), 0.79153439572716), ((0, 36), 0.5049916081664061), ((0, 39), 0.3241382103110866), ((1, 0), 1.4849188347570634), ((1, 1), 0.32698234127023207), ((1, 3), 1.124427886640408), ((1, 4), 0.7831221624716296), ((1, 7), 0.7763206823520721), ((1, 10), 1.5546639225876142), ((1, 11), 1.5055225034799218), ((1, 14), 1.02510680531285), ((1, 17), 0.3962422459612022), ((1, 18), 0.26251181910934795), ((1, 21), 0.9858371102493294), ((1, 24), 1.256535799453081), ((1, 25), 1.109682094698393), ((1, 27), 0.6943010933463838), ((1, 28), 0.4946116650672138), ((1, 31), 0.9027877354907283), ((1, 32), 1.510409505145999), ((1, 34), 0.6501279593178019), ((1, 35), 1.4689365828057275), ((1, 38), 1.254867191028128), ((1, 39), 0.6171174299869749)]), (1, [((0, 0), 0.8002324095285125), ((0, 3), 0.8343712984441767), ((0, 6), 1.329270440991676), ((0, 7), 0.7901153574779474), ((0, 10), 0.7510612286955072), ((0, 13), 0.9289335154623066), ((0, 14), 1.0488651494954362), ((0, 17), 0.20805305365841892), ((0, 20), 1.0858445244268748), ((0, 21), 0.8591015695375085), ((0, 24), 1.2617372460744471), ((0, 27), 0.4691315540288545), ((0, 28), 0.6429277715690894), ((0, 30), 0.1554374952143515), ((0, 31), 1.1616406837282987), ((0, 34), 0.5248031818257025), ((0, 35), 1.582212846940163), ((0, 37), 0.18728584398881035), ((0, 38), 1.1699338076646353), ((1, 2), 1.9318135386467823), ((1, 5), 0.8986965074974489), ((1, 6), 1.7361712325274745), ((1, 8), 1.9370053770809437), ((1, 9), 1.145964210716817), ((1, 12), 1.4744041775275503), ((1, 13), 0.8495507745761707), ((1, 15), 1.398581896242846), ((1, 16), 2.1953550122169525), ((1, 19), 0.3500780165355426), ((1, 20), 1.297238885294308), ((1, 22), 1.2673030250372936), ((1, 23), 1.415055097594219), ((1, 26), 0.680222288926337), ((1, 29), 1.6061086320485092), ((1, 30), 0.4953449000390004), ((1, 33), 1.1748601692321532), ((1, 36), 0.5119843906435925), ((1, 37), 0.6542252530474746)])]\n",
      "[((0, 1), 0.23983627027900392), ((0, 2), 1.1987882136336616), ((0, 4), 0.5124995010483877), ((0, 5), 1.126301504875078), ((0, 8), 0.8645657719361802), ((0, 9), 0.3035348894983809), ((0, 11), 1.5475545576415344), ((0, 12), 1.1926964277315517), ((0, 15), 0.9204596850631883), ((0, 16), 1.5159335986519868), ((0, 18), 0.26727881758911304), ((0, 19), 0.29366189208857535), ((0, 22), 0.7926808223366169), ((0, 23), 1.1817857891350916), ((0, 25), 1.0818340768515395), ((0, 26), 0.631874185135343), ((0, 29), 0.9593555559797983), ((0, 32), 0.7532613305692829), ((0, 33), 0.79153439572716), ((0, 36), 0.5049916081664061), ((0, 39), 0.3241382103110866), ((1, 0), 1.4849188347570634), ((1, 1), 0.32698234127023207), ((1, 3), 1.124427886640408), ((1, 4), 0.7831221624716296), ((1, 7), 0.7763206823520721), ((1, 10), 1.5546639225876142), ((1, 11), 1.5055225034799218), ((1, 14), 1.02510680531285), ((1, 17), 0.3962422459612022), ((1, 18), 0.26251181910934795), ((1, 21), 0.9858371102493294), ((1, 24), 1.256535799453081), ((1, 25), 1.109682094698393), ((1, 27), 0.6943010933463838), ((1, 28), 0.4946116650672138), ((1, 31), 0.9027877354907283), ((1, 32), 1.510409505145999), ((1, 34), 0.6501279593178019), ((1, 35), 1.4689365828057275), ((1, 38), 1.254867191028128), ((1, 39), 0.6171174299869749), ((0, 0), 0.8002324095285125), ((0, 3), 0.8343712984441767), ((0, 6), 1.329270440991676), ((0, 7), 0.7901153574779474), ((0, 10), 0.7510612286955072), ((0, 13), 0.9289335154623066), ((0, 14), 1.0488651494954362), ((0, 17), 0.20805305365841892), ((0, 20), 1.0858445244268748), ((0, 21), 0.8591015695375085), ((0, 24), 1.2617372460744471), ((0, 27), 0.4691315540288545), ((0, 28), 0.6429277715690894), ((0, 30), 0.1554374952143515), ((0, 31), 1.1616406837282987), ((0, 34), 0.5248031818257025), ((0, 35), 1.582212846940163), ((0, 37), 0.18728584398881035), ((0, 38), 1.1699338076646353), ((1, 2), 1.9318135386467823), ((1, 5), 0.8986965074974489), ((1, 6), 1.7361712325274745), ((1, 8), 1.9370053770809437), ((1, 9), 1.145964210716817), ((1, 12), 1.4744041775275503), ((1, 13), 0.8495507745761707), ((1, 15), 1.398581896242846), ((1, 16), 2.1953550122169525), ((1, 19), 0.3500780165355426), ((1, 20), 1.297238885294308), ((1, 22), 1.2673030250372936), ((1, 23), 1.415055097594219), ((1, 26), 0.680222288926337), ((1, 29), 1.6061086320485092), ((1, 30), 0.4953449000390004), ((1, 33), 1.1748601692321532), ((1, 36), 0.5119843906435925), ((1, 37), 0.6542252530474746)]\n"
     ]
    },
    {
     "data": {
      "text/plain": [
       "True"
      ]
     },
     "execution_count": 39,
     "metadata": {},
     "output_type": "execute_result"
    }
   ],
   "source": [
    "def flatten(nested_iterable):\n",
    "  for iterable in nested_iterable:\n",
    "    for element in iterable:\n",
    "      yield element\n",
    "\n",
    "def groupbykey(iterable):\n",
    "  t = {}\n",
    "  for (k2, v2) in iterable:\n",
    "    t[k2] = t.get(k2, []) + [v2]\n",
    "  return t.items()\n",
    "\n",
    "def groupbykey_distributed(map_partitions, PARTITIONER):\n",
    "  global reducers\n",
    "  partitions = [dict() for _ in range(reducers)]\n",
    "  for map_partition in map_partitions:\n",
    "    for (k2, v2) in map_partition:\n",
    "      p = partitions[PARTITIONER(k2)]\n",
    "      p[k2] = p.get(k2, []) + [v2]\n",
    "  return [(partition_id, sorted(partition.items(), key=lambda x: x[0])) for (partition_id, partition) in enumerate(partitions)]\n",
    "\n",
    "def PARTITIONER(obj):\n",
    "  global reducers\n",
    "  return hash(obj) % reducers\n",
    "\n",
    "def MapReduceDistributed(INPUTFORMAT, MAP, REDUCE, PARTITIONER=PARTITIONER, COMBINER=None):\n",
    "  map_partitions = map(lambda record_reader: flatten(map(lambda k1v1: MAP(*k1v1), record_reader)), INPUTFORMAT())\n",
    "  if COMBINER != None:\n",
    "    map_partitions = map(lambda map_partition: flatten(map(lambda k2v2: COMBINER(*k2v2), groupbykey(map_partition))), map_partitions)\n",
    "  reduce_partitions = groupbykey_distributed(map_partitions, PARTITIONER) # shuffle\n",
    "  reduce_outputs = map(lambda reduce_partition: (reduce_partition[0], flatten(map(lambda reduce_input_group: REDUCE(*reduce_input_group), reduce_partition[1]))), reduce_partitions)\n",
    "\n",
    "  print(\"{} key-value pairs were sent over a network.\".format(sum([len(vs) for (k,vs) in flatten([partition for (partition_id, partition) in reduce_partitions])])))\n",
    "  return reduce_outputs\n",
    "\n",
    "def asmatrix(reduce_output):\n",
    "  reduce_output = list(reduce_output)\n",
    "  I = max(i for ((i,k), vw) in reduce_output)+1\n",
    "  K = max(k for ((i,k), vw) in reduce_output)+1\n",
    "  mat = np.empty(shape=(I,K))\n",
    "  for ((i,k), vw) in reduce_output:\n",
    "    mat[i,k] = vw\n",
    "  return mat\n",
    "\n",
    "# ===================================================================================================================================================================================\n",
    "\n",
    "import numpy as np\n",
    "I = 2\n",
    "J = 3\n",
    "K = 4*10\n",
    "small_mat = np.random.rand(I,J)\n",
    "big_mat = np.random.rand(J,K)\n",
    "reference_solution = np.matmul(small_mat, big_mat)\n",
    "\n",
    "def INPUTFORMAT():\n",
    "  first_mat = []\n",
    "  for i in range(small_mat.shape[0]):\n",
    "    for j in range(small_mat.shape[1]):\n",
    "      first_mat.append(((0, i, j), small_mat[i,j])) # первая матрица\n",
    "\n",
    "  global maps\n",
    "  split_size =  int(np.ceil(len(first_mat)/maps))\n",
    "  for i in range(0, len(first_mat), split_size):\n",
    "    yield first_mat[i:i+split_size]\n",
    "\n",
    "  second_mat = []\n",
    "  for j in range(big_mat.shape[0]):\n",
    "    for k in range(big_mat.shape[1]):\n",
    "      second_mat.append(((1, j, k), big_mat[j,k])) # вторая матрица\n",
    "\n",
    "  split_size =  int(np.ceil(len(second_mat)/maps))\n",
    "  for i in range(0, len(second_mat), split_size):\n",
    "    yield second_mat[i:i+split_size]\n",
    "\n",
    "\n",
    "def MAP_JOIN(k1, v1):\n",
    "  (mat_num, i, j) = k1\n",
    "  w = v1\n",
    "  if mat_num == 0:\n",
    "    yield (j, (mat_num, i, w))\n",
    "  else:\n",
    "    yield (i, (mat_num, j, w))\n",
    "\n",
    "\n",
    "def REDUCE_JOIN(key, values):\n",
    "  from_first_mat = [v for v in values if v[0] == 0]\n",
    "  from_second_mat = [v for v in values if v[0] == 1]\n",
    "  for f in from_first_mat:\n",
    "    for s in from_second_mat:\n",
    "      yield ((f[1], s[1]), f[2] * s[2])\n",
    "\n",
    "\n",
    "def GET_JOINED():\n",
    "  for j in joined:\n",
    "    print(\"aa\", j)\n",
    "    yield j[1]\n",
    "\n",
    "\n",
    "def MAP_MUL(k1, v1):\n",
    "  yield (k1, v1)\n",
    "\n",
    "\n",
    "def REDUCE_MUL(key, values):\n",
    "  res_val = 0\n",
    "  for v in values:\n",
    "    res_val += v\n",
    "  yield (key, res_val)\n",
    "\n",
    "maps = 3\n",
    "reducers = 2\n",
    "partitioned_output = MapReduceDistributed(INPUTFORMAT, MAP_JOIN, REDUCE_JOIN, COMBINER=None)\n",
    "joined = [(partition_id, list(partition)) for (partition_id, partition) in partitioned_output]\n",
    "print(joined)\n",
    "\n",
    "mul_output = MapReduceDistributed(GET_JOINED, MAP_MUL, REDUCE_MUL, COMBINER=None)\n",
    "pre_result = [(partition_id, list(partition)) for (partition_id, partition) in mul_output]\n",
    "print(pre_result)\n",
    "\n",
    "solution = []\n",
    "for p in pre_result:\n",
    "  for v in p[1]:\n",
    "    solution.append(v)\n",
    "\n",
    "print(solution)\n",
    "np.allclose(reference_solution, asmatrix(solution)) # should return true\n"
   ]
  },
  {
   "cell_type": "code",
   "execution_count": null,
   "metadata": {
    "id": "FIpqZIDrAw8V"
   },
   "outputs": [],
   "source": []
  }
 ],
 "metadata": {
  "colab": {
   "provenance": []
  },
  "kernelspec": {
   "display_name": "Python 3 (ipykernel)",
   "language": "python",
   "name": "python3"
  },
  "language_info": {
   "codemirror_mode": {
    "name": "ipython",
    "version": 3
   },
   "file_extension": ".py",
   "mimetype": "text/x-python",
   "name": "python",
   "nbconvert_exporter": "python",
   "pygments_lexer": "ipython3",
   "version": "3.9.7"
  }
 },
 "nbformat": 4,
 "nbformat_minor": 1
}
